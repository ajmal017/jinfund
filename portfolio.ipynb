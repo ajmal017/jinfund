{
 "nbformat": 4,
 "nbformat_minor": 2,
 "metadata": {
  "language_info": {
   "name": "python",
   "codemirror_mode": {
    "name": "ipython",
    "version": 3
   },
   "version": "3.7.6-final"
  },
  "orig_nbformat": 2,
  "file_extension": ".py",
  "mimetype": "text/x-python",
  "name": "python",
  "npconvert_exporter": "python",
  "pygments_lexer": "ipython3",
  "version": 3,
  "kernelspec": {
   "name": "python37664bitbaseconda7b9b13912e2340a5850e4c26b715291e",
   "display_name": "Python 3.7.6 64-bit ('base': conda)"
  }
 },
 "cells": [
  {
   "cell_type": "code",
   "execution_count": 7,
   "metadata": {},
   "outputs": [],
   "source": [
    "# System imports\n",
    "\n",
    "# Third-party imports\n",
    "import yfinance as yf\n",
    "from pathlib import Path\n",
    "\n",
    "# Local imports\n",
    "from portfolio import Portfolio\n",
    "import datehandler"
   ]
  },
  {
   "cell_type": "code",
   "execution_count": 2,
   "metadata": {},
   "outputs": [
    {
     "name": "stdout",
     "output_type": "stream",
     "text": "\nFetching SRS corporate actions...Progress: 10/34- SRS.AX: No data found, symbol may be delisted\n'NoneType' object is not subscriptable: Skipping...\nFetching WZR corporate actions...Progress: 34/34"
    }
   ],
   "source": [
    "portfolio = Portfolio()\n",
    "\n",
    "# portfolio.view()\n",
    "# portfolio.view('1/01/2016','7/1/2016')"
   ]
  },
  {
   "cell_type": "code",
   "execution_count": 3,
   "metadata": {},
   "outputs": [
    {
     "data": {
      "text/plain": "Index([2020-01-17, 2020-01-16, 2020-01-15, 2020-01-14, 2020-01-13, 2020-01-10,\n       2020-01-09, 2020-01-08, 2020-01-07, 2020-01-06,\n       ...\n       2015-01-20, 2015-01-19, 2015-01-16, 2015-01-15, 2015-01-14, 2015-01-13,\n       2015-01-12, 2015-01-09, 2015-01-08, 2015-01-07],\n      dtype='object', name='Date', length=1313)"
     },
     "execution_count": 3,
     "metadata": {},
     "output_type": "execute_result"
    }
   ],
   "source": [
    "portfolio.daily_holdings.index\n",
    "# portfolio.view('01/03/2016','01/04/2018')"
   ]
  },
  {
   "cell_type": "code",
   "execution_count": 11,
   "metadata": {},
   "outputs": [],
   "source": [
    "df = portfolio.daily_holdings\n",
    "# save_dir = Path(__file__).parents[0]\n",
    "save_name = f'portfolio_{df.index[0]}.csv'\n",
    "save_path = save_name\n",
    "df.to_csv(save_path)"
   ]
  },
  {
   "cell_type": "code",
   "execution_count": null,
   "metadata": {},
   "outputs": [],
   "source": []
  }
 ]
}