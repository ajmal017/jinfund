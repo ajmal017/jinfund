{
 "nbformat": 4,
 "nbformat_minor": 2,
 "metadata": {
  "language_info": {
   "name": "python",
   "codemirror_mode": {
    "name": "ipython",
    "version": 3
   },
   "version": "3.7.6-final"
  },
  "orig_nbformat": 2,
  "file_extension": ".py",
  "mimetype": "text/x-python",
  "name": "python",
  "npconvert_exporter": "python",
  "pygments_lexer": "ipython3",
  "version": 3,
  "kernelspec": {
   "name": "python37664bitbaseconda7b9b13912e2340a5850e4c26b715291e",
   "display_name": "Python 3.7.6 64-bit ('base': conda)"
  }
 },
 "cells": [
  {
   "cell_type": "code",
   "execution_count": 1,
   "metadata": {},
   "outputs": [],
   "source": [
    "# System imports\n",
    "from datetime import datetime\n",
    "import numpy as np\n",
    "import pandas as pd\n",
    "\n",
    "# Third-party imports\n",
    "import yfinance as yf\n",
    "from pathlib import Path\n",
    "\n",
    "# Local imports\n",
    "from portfolio.holdings import Portfolio\n",
    "from portfolio.commsec import Trades\n",
    "import datehandler\n",
    "\n",
    "# Vars\n",
    "today = datetime.today().date()"
   ]
  },
  {
   "cell_type": "code",
   "execution_count": 2,
   "metadata": {},
   "outputs": [
    {
     "name": "stdout",
     "output_type": "stream",
     "text": "\n"
    },
    {
     "data": {
      "text/html": "<div>\n<style scoped>\n    .dataframe tbody tr th:only-of-type {\n        vertical-align: middle;\n    }\n\n    .dataframe tbody tr th {\n        vertical-align: top;\n    }\n\n    .dataframe thead tr th {\n        text-align: left;\n    }\n\n    .dataframe thead tr:last-of-type th {\n        text-align: right;\n    }\n</style>\n<table border=\"1\" class=\"dataframe\">\n  <thead>\n    <tr>\n      <th>Tickers</th>\n      <th colspan=\"5\" halign=\"left\">A2M</th>\n      <th colspan=\"5\" halign=\"left\">ACW</th>\n      <th>...</th>\n      <th colspan=\"5\" halign=\"left\">WZR</th>\n      <th colspan=\"5\" halign=\"left\">ZNO</th>\n    </tr>\n    <tr>\n      <th>Props</th>\n      <th>HoldingVolume</th>\n      <th>TradePrice</th>\n      <th>TradeType</th>\n      <th>TradeVolume</th>\n      <th>Vwap</th>\n      <th>HoldingVolume</th>\n      <th>TradePrice</th>\n      <th>TradeType</th>\n      <th>TradeVolume</th>\n      <th>Vwap</th>\n      <th>...</th>\n      <th>HoldingVolume</th>\n      <th>TradePrice</th>\n      <th>TradeType</th>\n      <th>TradeVolume</th>\n      <th>Vwap</th>\n      <th>HoldingVolume</th>\n      <th>TradePrice</th>\n      <th>TradeType</th>\n      <th>TradeVolume</th>\n      <th>Vwap</th>\n    </tr>\n    <tr>\n      <th>Date</th>\n      <th></th>\n      <th></th>\n      <th></th>\n      <th></th>\n      <th></th>\n      <th></th>\n      <th></th>\n      <th></th>\n      <th></th>\n      <th></th>\n      <th></th>\n      <th></th>\n      <th></th>\n      <th></th>\n      <th></th>\n      <th></th>\n      <th></th>\n      <th></th>\n      <th></th>\n      <th></th>\n      <th></th>\n    </tr>\n  </thead>\n  <tbody>\n    <tr>\n      <th>2015-01-07</th>\n      <td>NaN</td>\n      <td>NaN</td>\n      <td>NaN</td>\n      <td>NaN</td>\n      <td>NaN</td>\n      <td>NaN</td>\n      <td>NaN</td>\n      <td>NaN</td>\n      <td>NaN</td>\n      <td>NaN</td>\n      <td>...</td>\n      <td>NaN</td>\n      <td>NaN</td>\n      <td>NaN</td>\n      <td>NaN</td>\n      <td>NaN</td>\n      <td>NaN</td>\n      <td>NaN</td>\n      <td>NaN</td>\n      <td>NaN</td>\n      <td>NaN</td>\n    </tr>\n    <tr>\n      <th>2015-01-08</th>\n      <td>NaN</td>\n      <td>NaN</td>\n      <td>NaN</td>\n      <td>NaN</td>\n      <td>NaN</td>\n      <td>NaN</td>\n      <td>NaN</td>\n      <td>NaN</td>\n      <td>NaN</td>\n      <td>NaN</td>\n      <td>...</td>\n      <td>NaN</td>\n      <td>NaN</td>\n      <td>NaN</td>\n      <td>NaN</td>\n      <td>NaN</td>\n      <td>NaN</td>\n      <td>NaN</td>\n      <td>NaN</td>\n      <td>NaN</td>\n      <td>NaN</td>\n    </tr>\n    <tr>\n      <th>2015-01-09</th>\n      <td>NaN</td>\n      <td>NaN</td>\n      <td>NaN</td>\n      <td>NaN</td>\n      <td>NaN</td>\n      <td>NaN</td>\n      <td>NaN</td>\n      <td>NaN</td>\n      <td>NaN</td>\n      <td>NaN</td>\n      <td>...</td>\n      <td>NaN</td>\n      <td>NaN</td>\n      <td>NaN</td>\n      <td>NaN</td>\n      <td>NaN</td>\n      <td>NaN</td>\n      <td>NaN</td>\n      <td>NaN</td>\n      <td>NaN</td>\n      <td>NaN</td>\n    </tr>\n    <tr>\n      <th>2015-01-12</th>\n      <td>NaN</td>\n      <td>NaN</td>\n      <td>NaN</td>\n      <td>NaN</td>\n      <td>NaN</td>\n      <td>NaN</td>\n      <td>NaN</td>\n      <td>NaN</td>\n      <td>NaN</td>\n      <td>NaN</td>\n      <td>...</td>\n      <td>NaN</td>\n      <td>NaN</td>\n      <td>NaN</td>\n      <td>NaN</td>\n      <td>NaN</td>\n      <td>NaN</td>\n      <td>NaN</td>\n      <td>NaN</td>\n      <td>NaN</td>\n      <td>NaN</td>\n    </tr>\n    <tr>\n      <th>2015-01-13</th>\n      <td>NaN</td>\n      <td>NaN</td>\n      <td>NaN</td>\n      <td>NaN</td>\n      <td>NaN</td>\n      <td>NaN</td>\n      <td>NaN</td>\n      <td>NaN</td>\n      <td>NaN</td>\n      <td>NaN</td>\n      <td>...</td>\n      <td>NaN</td>\n      <td>NaN</td>\n      <td>NaN</td>\n      <td>NaN</td>\n      <td>NaN</td>\n      <td>NaN</td>\n      <td>NaN</td>\n      <td>NaN</td>\n      <td>NaN</td>\n      <td>NaN</td>\n    </tr>\n    <tr>\n      <th>...</th>\n      <td>...</td>\n      <td>...</td>\n      <td>...</td>\n      <td>...</td>\n      <td>...</td>\n      <td>...</td>\n      <td>...</td>\n      <td>...</td>\n      <td>...</td>\n      <td>...</td>\n      <td>...</td>\n      <td>...</td>\n      <td>...</td>\n      <td>...</td>\n      <td>...</td>\n      <td>...</td>\n      <td>...</td>\n      <td>...</td>\n      <td>...</td>\n      <td>...</td>\n      <td>...</td>\n    </tr>\n    <tr>\n      <th>2020-01-20</th>\n      <td>NaN</td>\n      <td>NaN</td>\n      <td>NaN</td>\n      <td>NaN</td>\n      <td>NaN</td>\n      <td>NaN</td>\n      <td>NaN</td>\n      <td>NaN</td>\n      <td>NaN</td>\n      <td>NaN</td>\n      <td>...</td>\n      <td>NaN</td>\n      <td>NaN</td>\n      <td>NaN</td>\n      <td>NaN</td>\n      <td>NaN</td>\n      <td>NaN</td>\n      <td>NaN</td>\n      <td>NaN</td>\n      <td>NaN</td>\n      <td>NaN</td>\n    </tr>\n    <tr>\n      <th>2020-01-21</th>\n      <td>NaN</td>\n      <td>NaN</td>\n      <td>NaN</td>\n      <td>NaN</td>\n      <td>NaN</td>\n      <td>NaN</td>\n      <td>NaN</td>\n      <td>NaN</td>\n      <td>NaN</td>\n      <td>NaN</td>\n      <td>...</td>\n      <td>NaN</td>\n      <td>NaN</td>\n      <td>NaN</td>\n      <td>NaN</td>\n      <td>NaN</td>\n      <td>NaN</td>\n      <td>NaN</td>\n      <td>NaN</td>\n      <td>NaN</td>\n      <td>NaN</td>\n    </tr>\n    <tr>\n      <th>2020-01-22</th>\n      <td>NaN</td>\n      <td>NaN</td>\n      <td>NaN</td>\n      <td>NaN</td>\n      <td>NaN</td>\n      <td>NaN</td>\n      <td>NaN</td>\n      <td>NaN</td>\n      <td>NaN</td>\n      <td>NaN</td>\n      <td>...</td>\n      <td>NaN</td>\n      <td>NaN</td>\n      <td>NaN</td>\n      <td>NaN</td>\n      <td>NaN</td>\n      <td>NaN</td>\n      <td>NaN</td>\n      <td>NaN</td>\n      <td>NaN</td>\n      <td>NaN</td>\n    </tr>\n    <tr>\n      <th>2020-01-23</th>\n      <td>NaN</td>\n      <td>NaN</td>\n      <td>NaN</td>\n      <td>NaN</td>\n      <td>NaN</td>\n      <td>NaN</td>\n      <td>NaN</td>\n      <td>NaN</td>\n      <td>NaN</td>\n      <td>NaN</td>\n      <td>...</td>\n      <td>NaN</td>\n      <td>NaN</td>\n      <td>NaN</td>\n      <td>NaN</td>\n      <td>NaN</td>\n      <td>NaN</td>\n      <td>NaN</td>\n      <td>NaN</td>\n      <td>NaN</td>\n      <td>NaN</td>\n    </tr>\n    <tr>\n      <th>2020-01-24</th>\n      <td>NaN</td>\n      <td>NaN</td>\n      <td>NaN</td>\n      <td>NaN</td>\n      <td>NaN</td>\n      <td>NaN</td>\n      <td>NaN</td>\n      <td>NaN</td>\n      <td>NaN</td>\n      <td>NaN</td>\n      <td>...</td>\n      <td>NaN</td>\n      <td>NaN</td>\n      <td>NaN</td>\n      <td>NaN</td>\n      <td>NaN</td>\n      <td>NaN</td>\n      <td>NaN</td>\n      <td>NaN</td>\n      <td>NaN</td>\n      <td>NaN</td>\n    </tr>\n  </tbody>\n</table>\n<p>1318 rows × 175 columns</p>\n</div>",
      "text/plain": "Tickers              A2M                                                 ACW  \\\nProps      HoldingVolume TradePrice TradeType TradeVolume Vwap HoldingVolume   \nDate                                                                           \n2015-01-07           NaN        NaN       NaN         NaN  NaN           NaN   \n2015-01-08           NaN        NaN       NaN         NaN  NaN           NaN   \n2015-01-09           NaN        NaN       NaN         NaN  NaN           NaN   \n2015-01-12           NaN        NaN       NaN         NaN  NaN           NaN   \n2015-01-13           NaN        NaN       NaN         NaN  NaN           NaN   \n...                  ...        ...       ...         ...  ...           ...   \n2020-01-20           NaN        NaN       NaN         NaN  NaN           NaN   \n2020-01-21           NaN        NaN       NaN         NaN  NaN           NaN   \n2020-01-22           NaN        NaN       NaN         NaN  NaN           NaN   \n2020-01-23           NaN        NaN       NaN         NaN  NaN           NaN   \n2020-01-24           NaN        NaN       NaN         NaN  NaN           NaN   \n\nTickers                                           ...           WZR  \\\nProps      TradePrice TradeType TradeVolume Vwap  ... HoldingVolume   \nDate                                              ...                 \n2015-01-07        NaN       NaN         NaN  NaN  ...           NaN   \n2015-01-08        NaN       NaN         NaN  NaN  ...           NaN   \n2015-01-09        NaN       NaN         NaN  NaN  ...           NaN   \n2015-01-12        NaN       NaN         NaN  NaN  ...           NaN   \n2015-01-13        NaN       NaN         NaN  NaN  ...           NaN   \n...               ...       ...         ...  ...  ...           ...   \n2020-01-20        NaN       NaN         NaN  NaN  ...           NaN   \n2020-01-21        NaN       NaN         NaN  NaN  ...           NaN   \n2020-01-22        NaN       NaN         NaN  NaN  ...           NaN   \n2020-01-23        NaN       NaN         NaN  NaN  ...           NaN   \n2020-01-24        NaN       NaN         NaN  NaN  ...           NaN   \n\nTickers                                                    ZNO             \\\nProps      TradePrice TradeType TradeVolume Vwap HoldingVolume TradePrice   \nDate                                                                        \n2015-01-07        NaN       NaN         NaN  NaN           NaN        NaN   \n2015-01-08        NaN       NaN         NaN  NaN           NaN        NaN   \n2015-01-09        NaN       NaN         NaN  NaN           NaN        NaN   \n2015-01-12        NaN       NaN         NaN  NaN           NaN        NaN   \n2015-01-13        NaN       NaN         NaN  NaN           NaN        NaN   \n...               ...       ...         ...  ...           ...        ...   \n2020-01-20        NaN       NaN         NaN  NaN           NaN        NaN   \n2020-01-21        NaN       NaN         NaN  NaN           NaN        NaN   \n2020-01-22        NaN       NaN         NaN  NaN           NaN        NaN   \n2020-01-23        NaN       NaN         NaN  NaN           NaN        NaN   \n2020-01-24        NaN       NaN         NaN  NaN           NaN        NaN   \n\nTickers                                \nProps      TradeType TradeVolume Vwap  \nDate                                   \n2015-01-07       NaN         NaN  NaN  \n2015-01-08       NaN         NaN  NaN  \n2015-01-09       NaN         NaN  NaN  \n2015-01-12       NaN         NaN  NaN  \n2015-01-13       NaN         NaN  NaN  \n...              ...         ...  ...  \n2020-01-20       NaN         NaN  NaN  \n2020-01-21       NaN         NaN  NaN  \n2020-01-22       NaN         NaN  NaN  \n2020-01-23       NaN         NaN  NaN  \n2020-01-24       NaN         NaN  NaN  \n\n[1318 rows x 175 columns]"
     },
     "execution_count": 2,
     "metadata": {},
     "output_type": "execute_result"
    }
   ],
   "source": [
    "trades = Trades()\n",
    "trades_df = trades.all\n",
    "\n",
    "p_dates = datehandler.date_list(trades_df.index[-1], today)  # Portfolio dates index\n",
    "\n",
    "tickers = list(sorted(set(trades_df.Ticker.to_list())))\n",
    "props = ['TradeType','TradeVolume','TradePrice','HoldingVolume','Vwap']\n",
    "\n",
    "columns = pd.MultiIndex.from_product([tickers,props], names=['Tickers','Props'])\n",
    "df_p = pd.DataFrame(None, index=pd.DatetimeIndex(p_dates), columns=columns)  # Create multiindex portfolio df\n",
    "\n",
    "# Clean index and columns\n",
    "df_p.index.name = 'Date'\n",
    "df_p = df_p.reindex(sorted(df_p.columns),axis=1)  # Sort columns\n",
    "df_p = df_p.reindex(sorted(df_p.index),axis=0)  # Sort index\n",
    "df_p"
   ]
  },
  {
   "cell_type": "code",
   "execution_count": 3,
   "metadata": {},
   "outputs": [],
   "source": [
    "dropped_cols = ['Market','Ticker','TradePrice','Brokerage']\n",
    "for ticker in tickers:\n",
    "    # Add trade dataframe values to portfolio dataframe\n",
    "    df_t = trades_df[trades_df.Ticker == ticker].copy()\n",
    "    df_t.loc[df_t['TradeType'] == 'S', 'Volume'] *= -1  # Don't worry about the warning\n",
    "    df_t = df_t.drop(columns=dropped_cols)  # Drop columns first\n",
    "    df_t = df_t.rename(columns={            # Then rename columns - due to conflicting name!\n",
    "        'Volume':'TradeVolume',\n",
    "        'EffectivePrice':'TradePrice',\n",
    "        })\n",
    "    df_p[ticker] = df_t"
   ]
  },
  {
   "cell_type": "code",
   "execution_count": 4,
   "metadata": {},
   "outputs": [
    {
     "name": "stdout",
     "output_type": "stream",
     "text": "[*********************100%***********************]  35 of 35 completed\n\n2 Failed downloads:\n- IBXO.AX: No data found for this date range, symbol may be delisted\n- SRS.AX: No data found, symbol may be delisted\n"
    }
   ],
   "source": [
    "# Lookup prices\n",
    "# Build list of tickers for yfinance\n",
    "lookup_tickers = [f'{ticker}.AX' for ticker in df_p.columns.levels[0].to_list()]\n",
    "lookup_tickers = ' '.join(lookup_tickers)\n",
    "\n",
    "prices = yf.download(lookup_tickers, start=p_dates[0], end=p_dates[-1])"
   ]
  },
  {
   "cell_type": "code",
   "execution_count": 5,
   "metadata": {},
   "outputs": [],
   "source": [
    "tickers_with_prices = prices.columns.levels[1].to_list()\n",
    "tickers_with_prices = [ticker.replace('.AX','') for ticker in tickers_with_prices]  \n",
    "\n",
    "prices.columns.set_levels(tickers_with_prices, level=1, inplace=True)"
   ]
  },
  {
   "cell_type": "code",
   "execution_count": 88,
   "metadata": {},
   "outputs": [
    {
     "name": "stdout",
     "output_type": "stream",
     "text": "IBXO | Progress 10/36- IBXO.AX: 1d data not available for startTime=-2208988800 and endTime=1579872890. Only 100 years worth of day granularity data are allowed to be fetched per request.\nSomething went wrong!\nSRS | Progress 30/36- SRS.AX: No data found, symbol may be delisted\nSomething went wrong!\nportfolio | Progress 36/36Skipping portfolio due to no price data...\n"
    }
   ],
   "source": [
    "def _build_from_trades(df):\n",
    "    df_ticker = df.copy()\n",
    "\n",
    "    df_ticker['HoldingVolume'] = df_ticker['TradeVolume']\n",
    "\n",
    "    # Vwap: BookValue / HoldingVolume\n",
    "    df_ticker.loc[df_ticker['TradeType'] == 'B','TradeEncoding'] = 1\n",
    "    df_ticker.loc[df_ticker['TradeType'] == 'S','TradeEncoding'] = 0\n",
    "    df_ticker['BuyValue'] = df_ticker['TradeVolume'] * df_ticker['TradePrice'] * df_ticker['TradeEncoding']\n",
    "    df_ticker['BuyVolume'] = df_ticker['TradeVolume'] * df_ticker['TradeEncoding']\n",
    "    df_ticker['BuyVolume'] = df_ticker['BuyVolume'].replace(0,np.nan)  # Temp calc column\n",
    "    df_ticker['BuyValue'] = df_ticker['BuyValue'].replace(0,np.nan)  # Temp calc column\n",
    "    df_ticker['Vwap'] = df_ticker['BuyValue'].divide(df_ticker['BuyVolume'])\n",
    "\n",
    "    df_ticker = df_ticker.drop(columns=['BuyVolume','BuyValue','TradeEncoding'])  # Remove temp calc columns\n",
    "    \n",
    "    return df_ticker\n",
    "\n",
    "\n",
    "# Build portfolio\n",
    "for count, ticker in enumerate(df_p.columns.levels[0]):\n",
    "    print(f'\\r{ticker} | Progress {count+1}/{len(df_p.columns.levels[0])} ',end='',flush=True)\n",
    "    if ticker not in tickers_with_prices:\n",
    "        print(f'Skipping {ticker} due to no price data...')\n",
    "        continue\n",
    "    \n",
    "    df_p[ticker] = _build_from_trades(df_p[ticker])     # Build porfolio from trades\n",
    "    df_p[ticker, 'ClosePrice'] = prices['Close'][ticker]  # Load prices into dataframe\n",
    "\n",
    "    try:  # Dividends and stock splits\n",
    "        stock = yf.Ticker(f'{ticker}.AX')\n",
    "        df_actions = stock.actions\n",
    "    except TypeError:\n",
    "        print(f'\\rSomething went wrong!',flush=True)\n",
    "        pass\n",
    "    else:\n",
    "        if len(df_actions[df_actions['Dividends'] > 0]) > 0:\n",
    "            df_p[ticker, 'Dividends'] = df_actions['Dividends'].replace(0,np.nan)\n",
    "        if len(df_actions[df_actions['Stock Splits'] > 0]) > 0:\n",
    "            df_p[ticker, 'StockSplits'] = df_actions['Stock Splits'].replace(0,np.nan)\n",
    "            df_p[ticker, 'HoldingVolume'] = df_p[ticker, 'HoldingVolume'] * df_p[ticker, 'StockSplits']\n",
    "            df_p[ticker, 'Vwap'] = df_p[ticker, 'Vwap'].divide(df_p[ticker, 'StockSplits'])\n",
    "    df_p[ticker,'Vwap'] = df_p[ticker,'Vwap'].fillna(method='ffill')\n",
    "    df_p[ticker,'HoldingVolume'] = df_p[ticker,'TradeVolume'].fillna(0).cumsum()\n",
    "\n",
    "    # Calculating returns\n",
    "    df_p[ticker, 'Cashflow'] = df_p[ticker, 'TradePrice'] * df_p[ticker, 'TradeVolume']\n",
    "    df_p[ticker, 'Cashflow'] = df_p[ticker, 'Cashflow'].fillna(0)\n",
    "    \n",
    "    df_p[ticker, 'EndValue'] = df_p[ticker, 'HoldingVolume'] * df_p[ticker, 'ClosePrice'].fillna(method='ffill')\n",
    "    df_p[ticker, 'StartValue'] = df_p[ticker, 'EndValue'].shift(1).replace(0,np.nan)\n",
    "    df_p[ticker, 'DailyReturn'] = df_p[ticker, 'EndValue'].divide(\n",
    "        df_p[ticker, 'StartValue'].add(df_p[ticker, 'Cashflow'])\n",
    "        ) - 1\n",
    "    df_p[ticker, 'DailyReturn'] = df_p[ticker, 'DailyReturn'].replace(-1,np.nan) + 1\n",
    "    df_p[ticker, 'DailyReturn'] = df_p[ticker, 'DailyReturn'].cumprod()\n",
    "\n",
    "    \n",
    "# df_p = df_p.drop(['EndValue','StartValue','Cashflow'], axis='columns',level=1)\n",
    "df_p[('portfolio', 'EndValue')] = df_p.xs('EndValue', level='Props', axis=1).sum(axis=1, min_count=1)\n",
    "df_p[('portfolio', 'StartValue')] = df_p.xs('StartValue', level='Props', axis=1).sum(axis=1, min_count=1)\n",
    "df_p[('portfolio', 'Cashflow')] = df_p.xs('Cashflow', level='Props', axis=1).sum(axis=1, min_count=1)\n",
    "df_p[('portfolio','DailyReturn')] = ((df_p[('portfolio','EndValue')] -\n",
    "                                        (df_p[('portfolio','StartValue')]+df_p[('portfolio','Cashflow')])\n",
    "                                    )\n",
    "                                    /\n",
    "                                    (df_p[('portfolio','StartValue')]+df_p[('portfolio','Cashflow')])\n",
    "                                    ) + 1\n",
    "df_p[('portfolio','DailyReturn')] = df_p[('portfolio','DailyReturn')].cumprod()"
   ]
  },
  {
   "cell_type": "code",
   "execution_count": 89,
   "metadata": {},
   "outputs": [
    {
     "data": {
      "text/html": "<div>\n<style scoped>\n    .dataframe tbody tr th:only-of-type {\n        vertical-align: middle;\n    }\n\n    .dataframe tbody tr th {\n        vertical-align: top;\n    }\n\n    .dataframe thead th {\n        text-align: right;\n    }\n</style>\n<table border=\"1\" class=\"dataframe\">\n  <thead>\n    <tr style=\"text-align: right;\">\n      <th>Props</th>\n      <th>HoldingVolume</th>\n      <th>TradePrice</th>\n      <th>TradeType</th>\n      <th>TradeVolume</th>\n      <th>Vwap</th>\n      <th>ClosePrice</th>\n      <th>DailyReturn</th>\n      <th>Cashflow</th>\n      <th>EndValue</th>\n      <th>StartValue</th>\n      <th>StockSplits</th>\n    </tr>\n    <tr>\n      <th>Date</th>\n      <th></th>\n      <th></th>\n      <th></th>\n      <th></th>\n      <th></th>\n      <th></th>\n      <th></th>\n      <th></th>\n      <th></th>\n      <th></th>\n      <th></th>\n    </tr>\n  </thead>\n  <tbody>\n    <tr>\n      <th>2015-01-07</th>\n      <td>0.0</td>\n      <td>NaN</td>\n      <td>NaN</td>\n      <td>NaN</td>\n      <td>NaN</td>\n      <td>0.140</td>\n      <td>NaN</td>\n      <td>0.0</td>\n      <td>0.000000</td>\n      <td>NaN</td>\n      <td>NaN</td>\n    </tr>\n    <tr>\n      <th>2015-01-08</th>\n      <td>0.0</td>\n      <td>NaN</td>\n      <td>NaN</td>\n      <td>NaN</td>\n      <td>NaN</td>\n      <td>0.084</td>\n      <td>NaN</td>\n      <td>0.0</td>\n      <td>0.000000</td>\n      <td>NaN</td>\n      <td>NaN</td>\n    </tr>\n    <tr>\n      <th>2015-01-09</th>\n      <td>0.0</td>\n      <td>NaN</td>\n      <td>NaN</td>\n      <td>NaN</td>\n      <td>NaN</td>\n      <td>0.084</td>\n      <td>NaN</td>\n      <td>0.0</td>\n      <td>0.000000</td>\n      <td>NaN</td>\n      <td>NaN</td>\n    </tr>\n    <tr>\n      <th>2015-01-12</th>\n      <td>0.0</td>\n      <td>NaN</td>\n      <td>NaN</td>\n      <td>NaN</td>\n      <td>NaN</td>\n      <td>0.084</td>\n      <td>NaN</td>\n      <td>0.0</td>\n      <td>0.000000</td>\n      <td>NaN</td>\n      <td>NaN</td>\n    </tr>\n    <tr>\n      <th>2015-01-13</th>\n      <td>0.0</td>\n      <td>NaN</td>\n      <td>NaN</td>\n      <td>NaN</td>\n      <td>NaN</td>\n      <td>0.084</td>\n      <td>NaN</td>\n      <td>0.0</td>\n      <td>0.000000</td>\n      <td>NaN</td>\n      <td>NaN</td>\n    </tr>\n    <tr>\n      <th>...</th>\n      <td>...</td>\n      <td>...</td>\n      <td>...</td>\n      <td>...</td>\n      <td>...</td>\n      <td>...</td>\n      <td>...</td>\n      <td>...</td>\n      <td>...</td>\n      <td>...</td>\n      <td>...</td>\n    </tr>\n    <tr>\n      <th>2020-01-20</th>\n      <td>18886.0</td>\n      <td>NaN</td>\n      <td>NaN</td>\n      <td>NaN</td>\n      <td>NaN</td>\n      <td>0.570</td>\n      <td>1.536388</td>\n      <td>0.0</td>\n      <td>10765.019865</td>\n      <td>10009.579460</td>\n      <td>NaN</td>\n    </tr>\n    <tr>\n      <th>2020-01-21</th>\n      <td>18886.0</td>\n      <td>NaN</td>\n      <td>NaN</td>\n      <td>NaN</td>\n      <td>NaN</td>\n      <td>0.570</td>\n      <td>1.536388</td>\n      <td>0.0</td>\n      <td>10765.019865</td>\n      <td>10765.019865</td>\n      <td>NaN</td>\n    </tr>\n    <tr>\n      <th>2020-01-22</th>\n      <td>18886.0</td>\n      <td>NaN</td>\n      <td>NaN</td>\n      <td>NaN</td>\n      <td>NaN</td>\n      <td>0.560</td>\n      <td>1.509434</td>\n      <td>0.0</td>\n      <td>10576.160045</td>\n      <td>10765.019865</td>\n      <td>NaN</td>\n    </tr>\n    <tr>\n      <th>2020-01-23</th>\n      <td>18886.0</td>\n      <td>NaN</td>\n      <td>NaN</td>\n      <td>NaN</td>\n      <td>NaN</td>\n      <td>NaN</td>\n      <td>1.509434</td>\n      <td>0.0</td>\n      <td>10576.160045</td>\n      <td>10576.160045</td>\n      <td>NaN</td>\n    </tr>\n    <tr>\n      <th>2020-01-24</th>\n      <td>18886.0</td>\n      <td>NaN</td>\n      <td>NaN</td>\n      <td>NaN</td>\n      <td>NaN</td>\n      <td>NaN</td>\n      <td>1.509434</td>\n      <td>0.0</td>\n      <td>10576.160045</td>\n      <td>10576.160045</td>\n      <td>NaN</td>\n    </tr>\n  </tbody>\n</table>\n<p>1318 rows × 11 columns</p>\n</div>",
      "text/plain": "Props       HoldingVolume TradePrice TradeType TradeVolume  Vwap  ClosePrice  \\\nDate                                                                           \n2015-01-07            0.0        NaN       NaN         NaN   NaN       0.140   \n2015-01-08            0.0        NaN       NaN         NaN   NaN       0.084   \n2015-01-09            0.0        NaN       NaN         NaN   NaN       0.084   \n2015-01-12            0.0        NaN       NaN         NaN   NaN       0.084   \n2015-01-13            0.0        NaN       NaN         NaN   NaN       0.084   \n...                   ...        ...       ...         ...   ...         ...   \n2020-01-20        18886.0        NaN       NaN         NaN   NaN       0.570   \n2020-01-21        18886.0        NaN       NaN         NaN   NaN       0.570   \n2020-01-22        18886.0        NaN       NaN         NaN   NaN       0.560   \n2020-01-23        18886.0        NaN       NaN         NaN   NaN         NaN   \n2020-01-24        18886.0        NaN       NaN         NaN   NaN         NaN   \n\nProps       DailyReturn  Cashflow      EndValue    StartValue  StockSplits  \nDate                                                                        \n2015-01-07          NaN       0.0      0.000000           NaN          NaN  \n2015-01-08          NaN       0.0      0.000000           NaN          NaN  \n2015-01-09          NaN       0.0      0.000000           NaN          NaN  \n2015-01-12          NaN       0.0      0.000000           NaN          NaN  \n2015-01-13          NaN       0.0      0.000000           NaN          NaN  \n...                 ...       ...           ...           ...          ...  \n2020-01-20     1.536388       0.0  10765.019865  10009.579460          NaN  \n2020-01-21     1.536388       0.0  10765.019865  10765.019865          NaN  \n2020-01-22     1.509434       0.0  10576.160045  10765.019865          NaN  \n2020-01-23     1.509434       0.0  10576.160045  10576.160045          NaN  \n2020-01-24     1.509434       0.0  10576.160045  10576.160045          NaN  \n\n[1318 rows x 11 columns]"
     },
     "execution_count": 89,
     "metadata": {},
     "output_type": "execute_result"
    }
   ],
   "source": [
    "df_p.MDR"
   ]
  },
  {
   "cell_type": "code",
   "execution_count": 38,
   "metadata": {},
   "outputs": [
    {
     "data": {
      "text/plain": "Date\n2015-01-07         NaN\n2015-01-08         NaN\n2015-01-09         NaN\n2015-01-12         NaN\n2015-01-13         NaN\n                ...   \n2020-01-20    3.151072\n2020-01-21    3.168782\n2020-01-22    3.238261\n2020-01-23    3.257334\n2020-01-24    3.215102\nName: DailyReturn, Length: 1318, dtype: float64"
     },
     "execution_count": 38,
     "metadata": {},
     "output_type": "execute_result"
    }
   ],
   "source": [
    "test = df_p['RMD'].DailyReturn + 1\n",
    "test = test.cumprod()\n",
    "# test[test.isna() == False]\n",
    "test"
   ]
  },
  {
   "cell_type": "code",
   "execution_count": 46,
   "metadata": {},
   "outputs": [
    {
     "data": {
      "text/plain": "array([nan, 7.5665, 10.330584795321638], dtype=object)"
     },
     "execution_count": 46,
     "metadata": {},
     "output_type": "execute_result"
    }
   ],
   "source": [
    "'''\n",
    "The problem is: when I sell out of a position, then buy back in, the vwap is reset.\n",
    "'''\n",
    "\n",
    "df_p.RMD.Vwap.unique()"
   ]
  },
  {
   "cell_type": "code",
   "execution_count": 47,
   "metadata": {},
   "outputs": [
    {
     "data": {
      "text/html": "<div>\n<style scoped>\n    .dataframe tbody tr th:only-of-type {\n        vertical-align: middle;\n    }\n\n    .dataframe tbody tr th {\n        vertical-align: top;\n    }\n\n    .dataframe thead th {\n        text-align: right;\n    }\n</style>\n<table border=\"1\" class=\"dataframe\">\n  <thead>\n    <tr style=\"text-align: right;\">\n      <th>Props</th>\n      <th>HoldingVolume</th>\n      <th>TradePrice</th>\n      <th>TradeType</th>\n      <th>TradeVolume</th>\n      <th>Vwap</th>\n      <th>ClosePrice</th>\n      <th>Cashflow</th>\n      <th>EndValue</th>\n      <th>StartValue</th>\n      <th>DailyReturn</th>\n    </tr>\n    <tr>\n      <th>Date</th>\n      <th></th>\n      <th></th>\n      <th></th>\n      <th></th>\n      <th></th>\n      <th></th>\n      <th></th>\n      <th></th>\n      <th></th>\n      <th></th>\n    </tr>\n  </thead>\n  <tbody>\n    <tr>\n      <th>2018-07-03</th>\n      <td>213</td>\n      <td>14.2237</td>\n      <td>B</td>\n      <td>213</td>\n      <td>10.3306</td>\n      <td>14.000000</td>\n      <td>3029.64</td>\n      <td>2982</td>\n      <td>NaN</td>\n      <td>NaN</td>\n    </tr>\n    <tr>\n      <th>2018-07-04</th>\n      <td>213</td>\n      <td>NaN</td>\n      <td>NaN</td>\n      <td>NaN</td>\n      <td>10.3306</td>\n      <td>13.980000</td>\n      <td>0.00</td>\n      <td>2977.74</td>\n      <td>2982.000000</td>\n      <td>-0.001429</td>\n    </tr>\n    <tr>\n      <th>2018-07-05</th>\n      <td>213</td>\n      <td>NaN</td>\n      <td>NaN</td>\n      <td>NaN</td>\n      <td>10.3306</td>\n      <td>14.070000</td>\n      <td>0.00</td>\n      <td>2996.91</td>\n      <td>2977.739902</td>\n      <td>0.006438</td>\n    </tr>\n    <tr>\n      <th>2018-07-06</th>\n      <td>213</td>\n      <td>NaN</td>\n      <td>NaN</td>\n      <td>NaN</td>\n      <td>10.3306</td>\n      <td>14.360000</td>\n      <td>0.00</td>\n      <td>3058.68</td>\n      <td>2996.909935</td>\n      <td>0.020611</td>\n    </tr>\n    <tr>\n      <th>2018-07-09</th>\n      <td>213</td>\n      <td>NaN</td>\n      <td>NaN</td>\n      <td>NaN</td>\n      <td>10.3306</td>\n      <td>14.240000</td>\n      <td>0.00</td>\n      <td>3033.12</td>\n      <td>3058.679927</td>\n      <td>-0.008357</td>\n    </tr>\n    <tr>\n      <th>...</th>\n      <td>...</td>\n      <td>...</td>\n      <td>...</td>\n      <td>...</td>\n      <td>...</td>\n      <td>...</td>\n      <td>...</td>\n      <td>...</td>\n      <td>...</td>\n      <td>...</td>\n    </tr>\n    <tr>\n      <th>2020-01-20</th>\n      <td>213</td>\n      <td>NaN</td>\n      <td>NaN</td>\n      <td>NaN</td>\n      <td>10.3306</td>\n      <td>23.129999</td>\n      <td>0.00</td>\n      <td>4926.69</td>\n      <td>4954.380049</td>\n      <td>-0.005589</td>\n    </tr>\n    <tr>\n      <th>2020-01-21</th>\n      <td>213</td>\n      <td>NaN</td>\n      <td>NaN</td>\n      <td>NaN</td>\n      <td>10.3306</td>\n      <td>23.260000</td>\n      <td>0.00</td>\n      <td>4954.38</td>\n      <td>4926.689821</td>\n      <td>0.005620</td>\n    </tr>\n    <tr>\n      <th>2020-01-22</th>\n      <td>213</td>\n      <td>NaN</td>\n      <td>NaN</td>\n      <td>NaN</td>\n      <td>10.3306</td>\n      <td>23.770000</td>\n      <td>0.00</td>\n      <td>5063.01</td>\n      <td>4954.380049</td>\n      <td>0.021926</td>\n    </tr>\n    <tr>\n      <th>2020-01-23</th>\n      <td>213</td>\n      <td>NaN</td>\n      <td>NaN</td>\n      <td>NaN</td>\n      <td>10.3306</td>\n      <td>23.910000</td>\n      <td>0.00</td>\n      <td>5092.83</td>\n      <td>5063.010098</td>\n      <td>0.005890</td>\n    </tr>\n    <tr>\n      <th>2020-01-24</th>\n      <td>213</td>\n      <td>NaN</td>\n      <td>NaN</td>\n      <td>NaN</td>\n      <td>10.3306</td>\n      <td>23.600000</td>\n      <td>0.00</td>\n      <td>5026.8</td>\n      <td>5092.829967</td>\n      <td>-0.012965</td>\n    </tr>\n  </tbody>\n</table>\n<p>409 rows × 10 columns</p>\n</div>",
      "text/plain": "Props      HoldingVolume TradePrice TradeType TradeVolume     Vwap  \\\nDate                                                                 \n2018-07-03           213    14.2237         B         213  10.3306   \n2018-07-04           213        NaN       NaN         NaN  10.3306   \n2018-07-05           213        NaN       NaN         NaN  10.3306   \n2018-07-06           213        NaN       NaN         NaN  10.3306   \n2018-07-09           213        NaN       NaN         NaN  10.3306   \n...                  ...        ...       ...         ...      ...   \n2020-01-20           213        NaN       NaN         NaN  10.3306   \n2020-01-21           213        NaN       NaN         NaN  10.3306   \n2020-01-22           213        NaN       NaN         NaN  10.3306   \n2020-01-23           213        NaN       NaN         NaN  10.3306   \n2020-01-24           213        NaN       NaN         NaN  10.3306   \n\nProps       ClosePrice  Cashflow EndValue   StartValue  DailyReturn  \nDate                                                                 \n2018-07-03   14.000000   3029.64     2982          NaN          NaN  \n2018-07-04   13.980000      0.00  2977.74  2982.000000    -0.001429  \n2018-07-05   14.070000      0.00  2996.91  2977.739902     0.006438  \n2018-07-06   14.360000      0.00  3058.68  2996.909935     0.020611  \n2018-07-09   14.240000      0.00  3033.12  3058.679927    -0.008357  \n...                ...       ...      ...          ...          ...  \n2020-01-20   23.129999      0.00  4926.69  4954.380049    -0.005589  \n2020-01-21   23.260000      0.00  4954.38  4926.689821     0.005620  \n2020-01-22   23.770000      0.00  5063.01  4954.380049     0.021926  \n2020-01-23   23.910000      0.00  5092.83  5063.010098     0.005890  \n2020-01-24   23.600000      0.00   5026.8  5092.829967    -0.012965  \n\n[409 rows x 10 columns]"
     },
     "execution_count": 47,
     "metadata": {},
     "output_type": "execute_result"
    }
   ],
   "source": [
    "df_p.RMD[df_p.RMD.Vwap == 10.330584795321638]"
   ]
  },
  {
   "cell_type": "code",
   "execution_count": 48,
   "metadata": {},
   "outputs": [
    {
     "data": {
      "text/html": "<div>\n<style scoped>\n    .dataframe tbody tr th:only-of-type {\n        vertical-align: middle;\n    }\n\n    .dataframe tbody tr th {\n        vertical-align: top;\n    }\n\n    .dataframe thead th {\n        text-align: right;\n    }\n</style>\n<table border=\"1\" class=\"dataframe\">\n  <thead>\n    <tr style=\"text-align: right;\">\n      <th>Props</th>\n      <th>HoldingVolume</th>\n      <th>TradePrice</th>\n      <th>TradeType</th>\n      <th>TradeVolume</th>\n      <th>Vwap</th>\n      <th>ClosePrice</th>\n      <th>Cashflow</th>\n      <th>EndValue</th>\n      <th>StartValue</th>\n      <th>DailyReturn</th>\n    </tr>\n    <tr>\n      <th>Date</th>\n      <th></th>\n      <th></th>\n      <th></th>\n      <th></th>\n      <th></th>\n      <th></th>\n      <th></th>\n      <th></th>\n      <th></th>\n      <th></th>\n    </tr>\n  </thead>\n  <tbody>\n    <tr>\n      <th>2018-05-15</th>\n      <td>227</td>\n      <td>13.423</td>\n      <td>S</td>\n      <td>-73</td>\n      <td>7.5665</td>\n      <td>13.55</td>\n      <td>-979.88</td>\n      <td>3075.85</td>\n      <td>4070.999908</td>\n      <td>-0.00494</td>\n    </tr>\n    <tr>\n      <th>2018-06-21</th>\n      <td>0</td>\n      <td>14.5221</td>\n      <td>S</td>\n      <td>-227</td>\n      <td>7.5665</td>\n      <td>14.58</td>\n      <td>-3296.52</td>\n      <td>0</td>\n      <td>3280.149957</td>\n      <td>NaN</td>\n    </tr>\n  </tbody>\n</table>\n</div>",
      "text/plain": "Props      HoldingVolume TradePrice TradeType TradeVolume    Vwap  ClosePrice  \\\nDate                                                                            \n2018-05-15           227     13.423         S         -73  7.5665       13.55   \n2018-06-21             0    14.5221         S        -227  7.5665       14.58   \n\nProps       Cashflow EndValue   StartValue  DailyReturn  \nDate                                                     \n2018-05-15   -979.88  3075.85  4070.999908     -0.00494  \n2018-06-21  -3296.52        0  3280.149957          NaN  "
     },
     "execution_count": 48,
     "metadata": {},
     "output_type": "execute_result"
    }
   ],
   "source": [
    "df_p.RMD[df_p.RMD.TradeType == 'S']"
   ]
  },
  {
   "cell_type": "code",
   "execution_count": 49,
   "metadata": {},
   "outputs": [
    {
     "data": {
      "text/html": "<div>\n<style scoped>\n    .dataframe tbody tr th:only-of-type {\n        vertical-align: middle;\n    }\n\n    .dataframe tbody tr th {\n        vertical-align: top;\n    }\n\n    .dataframe thead th {\n        text-align: right;\n    }\n</style>\n<table border=\"1\" class=\"dataframe\">\n  <thead>\n    <tr style=\"text-align: right;\">\n      <th>Props</th>\n      <th>HoldingVolume</th>\n      <th>TradePrice</th>\n      <th>TradeType</th>\n      <th>TradeVolume</th>\n      <th>Vwap</th>\n      <th>ClosePrice</th>\n      <th>Cashflow</th>\n      <th>EndValue</th>\n      <th>StartValue</th>\n      <th>DailyReturn</th>\n    </tr>\n    <tr>\n      <th>Date</th>\n      <th></th>\n      <th></th>\n      <th></th>\n      <th></th>\n      <th></th>\n      <th></th>\n      <th></th>\n      <th></th>\n      <th></th>\n      <th></th>\n    </tr>\n  </thead>\n  <tbody>\n    <tr>\n      <th>2018-06-18</th>\n      <td>227</td>\n      <td>NaN</td>\n      <td>NaN</td>\n      <td>NaN</td>\n      <td>7.5665</td>\n      <td>14.17</td>\n      <td>0.00</td>\n      <td>3216.59</td>\n      <td>3248.370095</td>\n      <td>-0.009783</td>\n    </tr>\n    <tr>\n      <th>2018-06-19</th>\n      <td>227</td>\n      <td>NaN</td>\n      <td>NaN</td>\n      <td>NaN</td>\n      <td>7.5665</td>\n      <td>14.28</td>\n      <td>0.00</td>\n      <td>3241.56</td>\n      <td>3216.590017</td>\n      <td>0.007763</td>\n    </tr>\n    <tr>\n      <th>2018-06-20</th>\n      <td>227</td>\n      <td>NaN</td>\n      <td>NaN</td>\n      <td>NaN</td>\n      <td>7.5665</td>\n      <td>14.45</td>\n      <td>0.00</td>\n      <td>3280.15</td>\n      <td>3241.559939</td>\n      <td>0.011905</td>\n    </tr>\n    <tr>\n      <th>2018-06-21</th>\n      <td>0</td>\n      <td>14.5221</td>\n      <td>S</td>\n      <td>-227</td>\n      <td>7.5665</td>\n      <td>14.58</td>\n      <td>-3296.52</td>\n      <td>0</td>\n      <td>3280.149957</td>\n      <td>NaN</td>\n    </tr>\n    <tr>\n      <th>2018-06-22</th>\n      <td>0</td>\n      <td>NaN</td>\n      <td>NaN</td>\n      <td>NaN</td>\n      <td>7.5665</td>\n      <td>14.48</td>\n      <td>0.00</td>\n      <td>0</td>\n      <td>NaN</td>\n      <td>NaN</td>\n    </tr>\n    <tr>\n      <th>2018-06-25</th>\n      <td>0</td>\n      <td>NaN</td>\n      <td>NaN</td>\n      <td>NaN</td>\n      <td>7.5665</td>\n      <td>14.49</td>\n      <td>0.00</td>\n      <td>0</td>\n      <td>NaN</td>\n      <td>NaN</td>\n    </tr>\n  </tbody>\n</table>\n</div>",
      "text/plain": "Props      HoldingVolume TradePrice TradeType TradeVolume    Vwap  ClosePrice  \\\nDate                                                                            \n2018-06-18           227        NaN       NaN         NaN  7.5665       14.17   \n2018-06-19           227        NaN       NaN         NaN  7.5665       14.28   \n2018-06-20           227        NaN       NaN         NaN  7.5665       14.45   \n2018-06-21             0    14.5221         S        -227  7.5665       14.58   \n2018-06-22             0        NaN       NaN         NaN  7.5665       14.48   \n2018-06-25             0        NaN       NaN         NaN  7.5665       14.49   \n\nProps       Cashflow EndValue   StartValue  DailyReturn  \nDate                                                     \n2018-06-18      0.00  3216.59  3248.370095    -0.009783  \n2018-06-19      0.00  3241.56  3216.590017     0.007763  \n2018-06-20      0.00  3280.15  3241.559939     0.011905  \n2018-06-21  -3296.52        0  3280.149957          NaN  \n2018-06-22      0.00        0          NaN          NaN  \n2018-06-25      0.00        0          NaN          NaN  "
     },
     "execution_count": 49,
     "metadata": {},
     "output_type": "execute_result"
    }
   ],
   "source": [
    "df_p.loc['2018-06-18':'2018-06-25'].RMD"
   ]
  },
  {
   "cell_type": "code",
   "execution_count": null,
   "metadata": {},
   "outputs": [],
   "source": []
  }
 ]
}