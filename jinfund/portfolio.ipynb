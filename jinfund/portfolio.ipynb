{
 "nbformat": 4,
 "nbformat_minor": 2,
 "metadata": {
  "language_info": {
   "name": "python",
   "codemirror_mode": {
    "name": "ipython",
    "version": 3
   },
   "version": "3.7.6-final"
  },
  "orig_nbformat": 2,
  "file_extension": ".py",
  "mimetype": "text/x-python",
  "name": "python",
  "npconvert_exporter": "python",
  "pygments_lexer": "ipython3",
  "version": 3,
  "kernelspec": {
   "name": "python37664bitbaseconda7b9b13912e2340a5850e4c26b715291e",
   "display_name": "Python 3.7.6 64-bit ('base': conda)"
  }
 },
 "cells": [
  {
   "cell_type": "code",
   "execution_count": 1,
   "metadata": {},
   "outputs": [],
   "source": [
    "# System imports\n",
    "from datetime import datetime\n",
    "import numpy as np\n",
    "import pandas as pd\n",
    "\n",
    "# Third-party imports\n",
    "import yfinance as yf\n",
    "from pathlib import Path\n",
    "\n",
    "# Local imports\n",
    "from portfolio.holdings import Portfolio\n",
    "from portfolio.commsec import Trades\n",
    "import datehandler\n",
    "\n",
    "# Vars\n",
    "today = datetime.today().date()"
   ]
  },
  {
   "cell_type": "code",
   "execution_count": 2,
   "metadata": {},
   "outputs": [
    {
     "name": "stdout",
     "output_type": "stream",
     "text": "\n"
    },
    {
     "data": {
      "text/html": "<div>\n<style scoped>\n    .dataframe tbody tr th:only-of-type {\n        vertical-align: middle;\n    }\n\n    .dataframe tbody tr th {\n        vertical-align: top;\n    }\n\n    .dataframe thead tr th {\n        text-align: left;\n    }\n\n    .dataframe thead tr:last-of-type th {\n        text-align: right;\n    }\n</style>\n<table border=\"1\" class=\"dataframe\">\n  <thead>\n    <tr>\n      <th>Tickers</th>\n      <th colspan=\"5\" halign=\"left\">A2M</th>\n      <th colspan=\"5\" halign=\"left\">ACW</th>\n      <th>...</th>\n      <th colspan=\"5\" halign=\"left\">WZR</th>\n      <th colspan=\"5\" halign=\"left\">ZNO</th>\n    </tr>\n    <tr>\n      <th>Props</th>\n      <th>HoldingVolume</th>\n      <th>TradePrice</th>\n      <th>TradeType</th>\n      <th>TradeVolume</th>\n      <th>Vwap</th>\n      <th>HoldingVolume</th>\n      <th>TradePrice</th>\n      <th>TradeType</th>\n      <th>TradeVolume</th>\n      <th>Vwap</th>\n      <th>...</th>\n      <th>HoldingVolume</th>\n      <th>TradePrice</th>\n      <th>TradeType</th>\n      <th>TradeVolume</th>\n      <th>Vwap</th>\n      <th>HoldingVolume</th>\n      <th>TradePrice</th>\n      <th>TradeType</th>\n      <th>TradeVolume</th>\n      <th>Vwap</th>\n    </tr>\n    <tr>\n      <th>Date</th>\n      <th></th>\n      <th></th>\n      <th></th>\n      <th></th>\n      <th></th>\n      <th></th>\n      <th></th>\n      <th></th>\n      <th></th>\n      <th></th>\n      <th></th>\n      <th></th>\n      <th></th>\n      <th></th>\n      <th></th>\n      <th></th>\n      <th></th>\n      <th></th>\n      <th></th>\n      <th></th>\n      <th></th>\n    </tr>\n  </thead>\n  <tbody>\n    <tr>\n      <th>2015-01-07</th>\n      <td>NaN</td>\n      <td>NaN</td>\n      <td>NaN</td>\n      <td>NaN</td>\n      <td>NaN</td>\n      <td>NaN</td>\n      <td>NaN</td>\n      <td>NaN</td>\n      <td>NaN</td>\n      <td>NaN</td>\n      <td>...</td>\n      <td>NaN</td>\n      <td>NaN</td>\n      <td>NaN</td>\n      <td>NaN</td>\n      <td>NaN</td>\n      <td>NaN</td>\n      <td>NaN</td>\n      <td>NaN</td>\n      <td>NaN</td>\n      <td>NaN</td>\n    </tr>\n    <tr>\n      <th>2015-01-08</th>\n      <td>NaN</td>\n      <td>NaN</td>\n      <td>NaN</td>\n      <td>NaN</td>\n      <td>NaN</td>\n      <td>NaN</td>\n      <td>NaN</td>\n      <td>NaN</td>\n      <td>NaN</td>\n      <td>NaN</td>\n      <td>...</td>\n      <td>NaN</td>\n      <td>NaN</td>\n      <td>NaN</td>\n      <td>NaN</td>\n      <td>NaN</td>\n      <td>NaN</td>\n      <td>NaN</td>\n      <td>NaN</td>\n      <td>NaN</td>\n      <td>NaN</td>\n    </tr>\n    <tr>\n      <th>2015-01-09</th>\n      <td>NaN</td>\n      <td>NaN</td>\n      <td>NaN</td>\n      <td>NaN</td>\n      <td>NaN</td>\n      <td>NaN</td>\n      <td>NaN</td>\n      <td>NaN</td>\n      <td>NaN</td>\n      <td>NaN</td>\n      <td>...</td>\n      <td>NaN</td>\n      <td>NaN</td>\n      <td>NaN</td>\n      <td>NaN</td>\n      <td>NaN</td>\n      <td>NaN</td>\n      <td>NaN</td>\n      <td>NaN</td>\n      <td>NaN</td>\n      <td>NaN</td>\n    </tr>\n    <tr>\n      <th>2015-01-12</th>\n      <td>NaN</td>\n      <td>NaN</td>\n      <td>NaN</td>\n      <td>NaN</td>\n      <td>NaN</td>\n      <td>NaN</td>\n      <td>NaN</td>\n      <td>NaN</td>\n      <td>NaN</td>\n      <td>NaN</td>\n      <td>...</td>\n      <td>NaN</td>\n      <td>NaN</td>\n      <td>NaN</td>\n      <td>NaN</td>\n      <td>NaN</td>\n      <td>NaN</td>\n      <td>NaN</td>\n      <td>NaN</td>\n      <td>NaN</td>\n      <td>NaN</td>\n    </tr>\n    <tr>\n      <th>2015-01-13</th>\n      <td>NaN</td>\n      <td>NaN</td>\n      <td>NaN</td>\n      <td>NaN</td>\n      <td>NaN</td>\n      <td>NaN</td>\n      <td>NaN</td>\n      <td>NaN</td>\n      <td>NaN</td>\n      <td>NaN</td>\n      <td>...</td>\n      <td>NaN</td>\n      <td>NaN</td>\n      <td>NaN</td>\n      <td>NaN</td>\n      <td>NaN</td>\n      <td>NaN</td>\n      <td>NaN</td>\n      <td>NaN</td>\n      <td>NaN</td>\n      <td>NaN</td>\n    </tr>\n    <tr>\n      <th>...</th>\n      <td>...</td>\n      <td>...</td>\n      <td>...</td>\n      <td>...</td>\n      <td>...</td>\n      <td>...</td>\n      <td>...</td>\n      <td>...</td>\n      <td>...</td>\n      <td>...</td>\n      <td>...</td>\n      <td>...</td>\n      <td>...</td>\n      <td>...</td>\n      <td>...</td>\n      <td>...</td>\n      <td>...</td>\n      <td>...</td>\n      <td>...</td>\n      <td>...</td>\n      <td>...</td>\n    </tr>\n    <tr>\n      <th>2020-01-20</th>\n      <td>NaN</td>\n      <td>NaN</td>\n      <td>NaN</td>\n      <td>NaN</td>\n      <td>NaN</td>\n      <td>NaN</td>\n      <td>NaN</td>\n      <td>NaN</td>\n      <td>NaN</td>\n      <td>NaN</td>\n      <td>...</td>\n      <td>NaN</td>\n      <td>NaN</td>\n      <td>NaN</td>\n      <td>NaN</td>\n      <td>NaN</td>\n      <td>NaN</td>\n      <td>NaN</td>\n      <td>NaN</td>\n      <td>NaN</td>\n      <td>NaN</td>\n    </tr>\n    <tr>\n      <th>2020-01-21</th>\n      <td>NaN</td>\n      <td>NaN</td>\n      <td>NaN</td>\n      <td>NaN</td>\n      <td>NaN</td>\n      <td>NaN</td>\n      <td>NaN</td>\n      <td>NaN</td>\n      <td>NaN</td>\n      <td>NaN</td>\n      <td>...</td>\n      <td>NaN</td>\n      <td>NaN</td>\n      <td>NaN</td>\n      <td>NaN</td>\n      <td>NaN</td>\n      <td>NaN</td>\n      <td>NaN</td>\n      <td>NaN</td>\n      <td>NaN</td>\n      <td>NaN</td>\n    </tr>\n    <tr>\n      <th>2020-01-22</th>\n      <td>NaN</td>\n      <td>NaN</td>\n      <td>NaN</td>\n      <td>NaN</td>\n      <td>NaN</td>\n      <td>NaN</td>\n      <td>NaN</td>\n      <td>NaN</td>\n      <td>NaN</td>\n      <td>NaN</td>\n      <td>...</td>\n      <td>NaN</td>\n      <td>NaN</td>\n      <td>NaN</td>\n      <td>NaN</td>\n      <td>NaN</td>\n      <td>NaN</td>\n      <td>NaN</td>\n      <td>NaN</td>\n      <td>NaN</td>\n      <td>NaN</td>\n    </tr>\n    <tr>\n      <th>2020-01-23</th>\n      <td>NaN</td>\n      <td>NaN</td>\n      <td>NaN</td>\n      <td>NaN</td>\n      <td>NaN</td>\n      <td>NaN</td>\n      <td>NaN</td>\n      <td>NaN</td>\n      <td>NaN</td>\n      <td>NaN</td>\n      <td>...</td>\n      <td>NaN</td>\n      <td>NaN</td>\n      <td>NaN</td>\n      <td>NaN</td>\n      <td>NaN</td>\n      <td>NaN</td>\n      <td>NaN</td>\n      <td>NaN</td>\n      <td>NaN</td>\n      <td>NaN</td>\n    </tr>\n    <tr>\n      <th>2020-01-24</th>\n      <td>NaN</td>\n      <td>NaN</td>\n      <td>NaN</td>\n      <td>NaN</td>\n      <td>NaN</td>\n      <td>NaN</td>\n      <td>NaN</td>\n      <td>NaN</td>\n      <td>NaN</td>\n      <td>NaN</td>\n      <td>...</td>\n      <td>NaN</td>\n      <td>NaN</td>\n      <td>NaN</td>\n      <td>NaN</td>\n      <td>NaN</td>\n      <td>NaN</td>\n      <td>NaN</td>\n      <td>NaN</td>\n      <td>NaN</td>\n      <td>NaN</td>\n    </tr>\n  </tbody>\n</table>\n<p>1318 rows × 175 columns</p>\n</div>",
      "text/plain": "Tickers              A2M                                                 ACW  \\\nProps      HoldingVolume TradePrice TradeType TradeVolume Vwap HoldingVolume   \nDate                                                                           \n2015-01-07           NaN        NaN       NaN         NaN  NaN           NaN   \n2015-01-08           NaN        NaN       NaN         NaN  NaN           NaN   \n2015-01-09           NaN        NaN       NaN         NaN  NaN           NaN   \n2015-01-12           NaN        NaN       NaN         NaN  NaN           NaN   \n2015-01-13           NaN        NaN       NaN         NaN  NaN           NaN   \n...                  ...        ...       ...         ...  ...           ...   \n2020-01-20           NaN        NaN       NaN         NaN  NaN           NaN   \n2020-01-21           NaN        NaN       NaN         NaN  NaN           NaN   \n2020-01-22           NaN        NaN       NaN         NaN  NaN           NaN   \n2020-01-23           NaN        NaN       NaN         NaN  NaN           NaN   \n2020-01-24           NaN        NaN       NaN         NaN  NaN           NaN   \n\nTickers                                           ...           WZR  \\\nProps      TradePrice TradeType TradeVolume Vwap  ... HoldingVolume   \nDate                                              ...                 \n2015-01-07        NaN       NaN         NaN  NaN  ...           NaN   \n2015-01-08        NaN       NaN         NaN  NaN  ...           NaN   \n2015-01-09        NaN       NaN         NaN  NaN  ...           NaN   \n2015-01-12        NaN       NaN         NaN  NaN  ...           NaN   \n2015-01-13        NaN       NaN         NaN  NaN  ...           NaN   \n...               ...       ...         ...  ...  ...           ...   \n2020-01-20        NaN       NaN         NaN  NaN  ...           NaN   \n2020-01-21        NaN       NaN         NaN  NaN  ...           NaN   \n2020-01-22        NaN       NaN         NaN  NaN  ...           NaN   \n2020-01-23        NaN       NaN         NaN  NaN  ...           NaN   \n2020-01-24        NaN       NaN         NaN  NaN  ...           NaN   \n\nTickers                                                    ZNO             \\\nProps      TradePrice TradeType TradeVolume Vwap HoldingVolume TradePrice   \nDate                                                                        \n2015-01-07        NaN       NaN         NaN  NaN           NaN        NaN   \n2015-01-08        NaN       NaN         NaN  NaN           NaN        NaN   \n2015-01-09        NaN       NaN         NaN  NaN           NaN        NaN   \n2015-01-12        NaN       NaN         NaN  NaN           NaN        NaN   \n2015-01-13        NaN       NaN         NaN  NaN           NaN        NaN   \n...               ...       ...         ...  ...           ...        ...   \n2020-01-20        NaN       NaN         NaN  NaN           NaN        NaN   \n2020-01-21        NaN       NaN         NaN  NaN           NaN        NaN   \n2020-01-22        NaN       NaN         NaN  NaN           NaN        NaN   \n2020-01-23        NaN       NaN         NaN  NaN           NaN        NaN   \n2020-01-24        NaN       NaN         NaN  NaN           NaN        NaN   \n\nTickers                                \nProps      TradeType TradeVolume Vwap  \nDate                                   \n2015-01-07       NaN         NaN  NaN  \n2015-01-08       NaN         NaN  NaN  \n2015-01-09       NaN         NaN  NaN  \n2015-01-12       NaN         NaN  NaN  \n2015-01-13       NaN         NaN  NaN  \n...              ...         ...  ...  \n2020-01-20       NaN         NaN  NaN  \n2020-01-21       NaN         NaN  NaN  \n2020-01-22       NaN         NaN  NaN  \n2020-01-23       NaN         NaN  NaN  \n2020-01-24       NaN         NaN  NaN  \n\n[1318 rows x 175 columns]"
     },
     "execution_count": 2,
     "metadata": {},
     "output_type": "execute_result"
    }
   ],
   "source": [
    "trades = Trades()\n",
    "trades_df = trades.all\n",
    "\n",
    "p_dates = datehandler.date_list(trades_df.index[-1], today)  # Portfolio dates index\n",
    "\n",
    "tickers = list(sorted(set(trades_df.Ticker.to_list())))\n",
    "props = ['TradeType','TradeVolume','TradePrice','HoldingVolume','Vwap']\n",
    "\n",
    "columns = pd.MultiIndex.from_product([tickers,props], names=['Tickers','Props'])\n",
    "df_p = pd.DataFrame(None, index=pd.DatetimeIndex(p_dates), columns=columns)  # Create multiindex portfolio df\n",
    "\n",
    "# Clean index and columns\n",
    "df_p.index.name = 'Date'\n",
    "df_p = df_p.reindex(sorted(df_p.columns),axis=1)  # Sort columns\n",
    "df_p = df_p.reindex(sorted(df_p.index),axis=0)  # Sort index\n",
    "df_p"
   ]
  },
  {
   "cell_type": "code",
   "execution_count": 3,
   "metadata": {},
   "outputs": [],
   "source": [
    "dropped_cols = ['Market','Ticker','TradePrice','Brokerage']\n",
    "for ticker in tickers:\n",
    "    # Add trade dataframe values to portfolio dataframe\n",
    "    df_t = trades_df[trades_df.Ticker == ticker].copy()\n",
    "    df_t.loc[df_t['TradeType'] == 'S', 'Volume'] *= -1  # Don't worry about the warning\n",
    "    df_t = df_t.drop(columns=dropped_cols)  # Drop columns first\n",
    "    df_t = df_t.rename(columns={            # Then rename columns - due to conflicting name!\n",
    "        'Volume':'TradeVolume',\n",
    "        'EffectivePrice':'TradePrice',\n",
    "        })\n",
    "    df_p[ticker] = df_t"
   ]
  },
  {
   "cell_type": "code",
   "execution_count": 4,
   "metadata": {},
   "outputs": [
    {
     "name": "stdout",
     "output_type": "stream",
     "text": "[*********************100%***********************]  35 of 35 completed\n\n2 Failed downloads:\n- SRS.AX: No data found, symbol may be delisted\n- IBXO.AX: No data found for this date range, symbol may be delisted\n"
    }
   ],
   "source": [
    "# Lookup prices\n",
    "# Build list of tickers for yfinance\n",
    "lookup_tickers = [f'{ticker}.AX' for ticker in df_p.columns.levels[0].to_list()]\n",
    "lookup_tickers = ' '.join(lookup_tickers)\n",
    "\n",
    "prices = yf.download(lookup_tickers, start=p_dates[0], end=p_dates[-1])"
   ]
  },
  {
   "cell_type": "code",
   "execution_count": 5,
   "metadata": {},
   "outputs": [],
   "source": [
    "tickers_with_prices = []\n",
    "\n",
    "for ticker in prices.columns.levels[1]:\n",
    "    if prices['Close',ticker].isna().sum() > 0.9 * prices.index.isna().sum():\n",
    "        prices.drop(columns=ticker, level=1)\n",
    "        tickers_with_prices.append(ticker)\n",
    "\n",
    "# Remove market suffix from data\n",
    "tickers_without_suffix = [ticker.replace('.AX','') for ticker in prices.columns.levels[1]]\n",
    "tickers_with_prices = [ticker.replace('.AX','') for ticker in tickers_with_prices]\n",
    "\n",
    "prices.columns.set_levels(tickers_without_suffix, level=1, inplace=True)"
   ]
  },
  {
   "cell_type": "code",
   "execution_count": 6,
   "metadata": {},
   "outputs": [
    {
     "name": "stdout",
     "output_type": "stream",
     "text": "ACW | Progress 2/35Skipping ACW due to no price data...\nAVZ | Progress 5/35C:\\Users\\BobJin\\Anaconda3\\lib\\site-packages\\ipykernel_launcher.py:33: SettingWithCopyWarning: \nA value is trying to be set on a copy of a slice from a DataFrame.\nTry using .loc[row_indexer,col_indexer] = value instead\n\nSee the caveats in the documentation: http://pandas.pydata.org/pandas-docs/stable/user_guide/indexing.html#returning-a-view-versus-a-copy\nEHE | Progress 8/35Skipping EHE due to no price data...\nFTT | Progress 9/35Skipping FTT due to no price data...\nIBXO | Progress 10/35- IBXO.AX: 1d data not available for startTime=-2208988800 and endTime=1579929660. Only 100 years worth of day granularity data are allowed to be fetched per request.\nSomething went wrong!\nIFN | Progress 11/35Skipping IFN due to no price data...\nIMM | Progress 12/35Skipping IMM due to no price data...\nMDR | Progress 15/35C:\\Users\\BobJin\\Anaconda3\\lib\\site-packages\\ipykernel_launcher.py:29: SettingWithCopyWarning: \nA value is trying to be set on a copy of a slice from a DataFrame.\nTry using .loc[row_indexer,col_indexer] = value instead\n\nSee the caveats in the documentation: http://pandas.pydata.org/pandas-docs/stable/user_guide/indexing.html#returning-a-view-versus-a-copy\n"
    },
    {
     "ename": "KeyError",
     "evalue": "Timestamp('2015-01-07 00:00:00')",
     "output_type": "error",
     "traceback": [
      "\u001b[1;31m---------------------------------------------------------------------------\u001b[0m",
      "\u001b[1;31mKeyError\u001b[0m                                  Traceback (most recent call last)",
      "\u001b[1;32m~\\Anaconda3\\lib\\site-packages\\pandas\\core\\indexes\\base.py\u001b[0m in \u001b[0;36mget_loc\u001b[1;34m(self, key, method, tolerance)\u001b[0m\n\u001b[0;32m   2896\u001b[0m             \u001b[1;32mtry\u001b[0m\u001b[1;33m:\u001b[0m\u001b[1;33m\u001b[0m\u001b[1;33m\u001b[0m\u001b[0m\n\u001b[1;32m-> 2897\u001b[1;33m                 \u001b[1;32mreturn\u001b[0m \u001b[0mself\u001b[0m\u001b[1;33m.\u001b[0m\u001b[0m_engine\u001b[0m\u001b[1;33m.\u001b[0m\u001b[0mget_loc\u001b[0m\u001b[1;33m(\u001b[0m\u001b[0mkey\u001b[0m\u001b[1;33m)\u001b[0m\u001b[1;33m\u001b[0m\u001b[1;33m\u001b[0m\u001b[0m\n\u001b[0m\u001b[0;32m   2898\u001b[0m             \u001b[1;32mexcept\u001b[0m \u001b[0mKeyError\u001b[0m\u001b[1;33m:\u001b[0m\u001b[1;33m\u001b[0m\u001b[1;33m\u001b[0m\u001b[0m\n",
      "\u001b[1;32mpandas/_libs/index.pyx\u001b[0m in \u001b[0;36mpandas._libs.index.IndexEngine.get_loc\u001b[1;34m()\u001b[0m\n",
      "\u001b[1;32mpandas/_libs/index.pyx\u001b[0m in \u001b[0;36mpandas._libs.index.IndexEngine.get_loc\u001b[1;34m()\u001b[0m\n",
      "\u001b[1;32mpandas/_libs/hashtable_class_helper.pxi\u001b[0m in \u001b[0;36mpandas._libs.hashtable.PyObjectHashTable.get_item\u001b[1;34m()\u001b[0m\n",
      "\u001b[1;32mpandas/_libs/hashtable_class_helper.pxi\u001b[0m in \u001b[0;36mpandas._libs.hashtable.PyObjectHashTable.get_item\u001b[1;34m()\u001b[0m\n",
      "\u001b[1;31mKeyError\u001b[0m: Timestamp('2015-01-07 00:00:00')",
      "\nDuring handling of the above exception, another exception occurred:\n",
      "\u001b[1;31mKeyError\u001b[0m                                  Traceback (most recent call last)",
      "\u001b[1;32m<ipython-input-6-fb2385820736>\u001b[0m in \u001b[0;36m<module>\u001b[1;34m\u001b[0m\n\u001b[0;32m     61\u001b[0m     \u001b[0mdf_p\u001b[0m\u001b[1;33m[\u001b[0m\u001b[0mticker\u001b[0m\u001b[1;33m]\u001b[0m \u001b[1;33m=\u001b[0m \u001b[0m_build_from_trades\u001b[0m\u001b[1;33m(\u001b[0m\u001b[0mdf_p\u001b[0m\u001b[1;33m[\u001b[0m\u001b[0mticker\u001b[0m\u001b[1;33m]\u001b[0m\u001b[1;33m)\u001b[0m     \u001b[1;31m# Build porfolio from trades\u001b[0m\u001b[1;33m\u001b[0m\u001b[1;33m\u001b[0m\u001b[0m\n\u001b[0;32m     62\u001b[0m     \u001b[0mdf_p\u001b[0m\u001b[1;33m[\u001b[0m\u001b[0mticker\u001b[0m\u001b[1;33m,\u001b[0m \u001b[1;34m'ClosePrice'\u001b[0m\u001b[1;33m]\u001b[0m \u001b[1;33m=\u001b[0m \u001b[0mprices\u001b[0m\u001b[1;33m[\u001b[0m\u001b[1;34m'Close'\u001b[0m\u001b[1;33m]\u001b[0m\u001b[1;33m[\u001b[0m\u001b[0mticker\u001b[0m\u001b[1;33m]\u001b[0m\u001b[1;33m.\u001b[0m\u001b[0mcopy\u001b[0m\u001b[1;33m(\u001b[0m\u001b[1;33m)\u001b[0m  \u001b[1;31m# Load prices into dataframe\u001b[0m\u001b[1;33m\u001b[0m\u001b[1;33m\u001b[0m\u001b[0m\n\u001b[1;32m---> 63\u001b[1;33m     \u001b[0mdf_p\u001b[0m\u001b[1;33m[\u001b[0m\u001b[0mticker\u001b[0m\u001b[1;33m]\u001b[0m \u001b[1;33m=\u001b[0m \u001b[0m_dividends_stocksplits\u001b[0m\u001b[1;33m(\u001b[0m\u001b[0mdf_p\u001b[0m\u001b[1;33m[\u001b[0m\u001b[0mticker\u001b[0m\u001b[1;33m]\u001b[0m\u001b[1;33m)\u001b[0m  \u001b[1;31m# Update dataframe with dividends and stocksplits\u001b[0m\u001b[1;33m\u001b[0m\u001b[1;33m\u001b[0m\u001b[0m\n\u001b[0m\u001b[0;32m     64\u001b[0m \u001b[1;33m\u001b[0m\u001b[0m\n\u001b[0;32m     65\u001b[0m     \u001b[1;31m# Calculating returns\u001b[0m\u001b[1;33m\u001b[0m\u001b[1;33m\u001b[0m\u001b[1;33m\u001b[0m\u001b[0m\n",
      "\u001b[1;32m<ipython-input-6-fb2385820736>\u001b[0m in \u001b[0;36m_dividends_stocksplits\u001b[1;34m(df)\u001b[0m\n\u001b[0;32m     42\u001b[0m         \u001b[1;32melse\u001b[0m\u001b[1;33m:\u001b[0m\u001b[1;33m\u001b[0m\u001b[1;33m\u001b[0m\u001b[0m\n\u001b[0;32m     43\u001b[0m             \u001b[1;32mif\u001b[0m \u001b[0mstocksplit_final_ratio\u001b[0m\u001b[1;33m:\u001b[0m\u001b[1;33m\u001b[0m\u001b[1;33m\u001b[0m\u001b[0m\n\u001b[1;32m---> 44\u001b[1;33m                 \u001b[0mprint\u001b[0m\u001b[1;33m(\u001b[0m\u001b[1;34mf'\\n{stocksplit_final_ratio}\\n'\u001b[0m\u001b[1;33m,\u001b[0m \u001b[0mdf\u001b[0m\u001b[1;33m[\u001b[0m\u001b[0mfirst_index\u001b[0m\u001b[1;33m]\u001b[0m\u001b[1;33m[\u001b[0m\u001b[1;34m'HoldingVolume'\u001b[0m\u001b[1;33m]\u001b[0m\u001b[1;33m,\u001b[0m \u001b[0mlast_index\u001b[0m\u001b[1;33m)\u001b[0m\u001b[1;33m\u001b[0m\u001b[1;33m\u001b[0m\u001b[0m\n\u001b[0m\u001b[0;32m     45\u001b[0m \u001b[1;33m\u001b[0m\u001b[0m\n\u001b[0;32m     46\u001b[0m         \u001b[1;31m# Multiply HVol / Divide Vwap by the final cumprod of the stocksplits\u001b[0m\u001b[1;33m\u001b[0m\u001b[1;33m\u001b[0m\u001b[1;33m\u001b[0m\u001b[0m\n",
      "\u001b[1;32m~\\Anaconda3\\lib\\site-packages\\pandas\\core\\frame.py\u001b[0m in \u001b[0;36m__getitem__\u001b[1;34m(self, key)\u001b[0m\n\u001b[0;32m   2993\u001b[0m             \u001b[1;32mif\u001b[0m \u001b[0mself\u001b[0m\u001b[1;33m.\u001b[0m\u001b[0mcolumns\u001b[0m\u001b[1;33m.\u001b[0m\u001b[0mnlevels\u001b[0m \u001b[1;33m>\u001b[0m \u001b[1;36m1\u001b[0m\u001b[1;33m:\u001b[0m\u001b[1;33m\u001b[0m\u001b[1;33m\u001b[0m\u001b[0m\n\u001b[0;32m   2994\u001b[0m                 \u001b[1;32mreturn\u001b[0m \u001b[0mself\u001b[0m\u001b[1;33m.\u001b[0m\u001b[0m_getitem_multilevel\u001b[0m\u001b[1;33m(\u001b[0m\u001b[0mkey\u001b[0m\u001b[1;33m)\u001b[0m\u001b[1;33m\u001b[0m\u001b[1;33m\u001b[0m\u001b[0m\n\u001b[1;32m-> 2995\u001b[1;33m             \u001b[0mindexer\u001b[0m \u001b[1;33m=\u001b[0m \u001b[0mself\u001b[0m\u001b[1;33m.\u001b[0m\u001b[0mcolumns\u001b[0m\u001b[1;33m.\u001b[0m\u001b[0mget_loc\u001b[0m\u001b[1;33m(\u001b[0m\u001b[0mkey\u001b[0m\u001b[1;33m)\u001b[0m\u001b[1;33m\u001b[0m\u001b[1;33m\u001b[0m\u001b[0m\n\u001b[0m\u001b[0;32m   2996\u001b[0m             \u001b[1;32mif\u001b[0m \u001b[0mis_integer\u001b[0m\u001b[1;33m(\u001b[0m\u001b[0mindexer\u001b[0m\u001b[1;33m)\u001b[0m\u001b[1;33m:\u001b[0m\u001b[1;33m\u001b[0m\u001b[1;33m\u001b[0m\u001b[0m\n\u001b[0;32m   2997\u001b[0m                 \u001b[0mindexer\u001b[0m \u001b[1;33m=\u001b[0m \u001b[1;33m[\u001b[0m\u001b[0mindexer\u001b[0m\u001b[1;33m]\u001b[0m\u001b[1;33m\u001b[0m\u001b[1;33m\u001b[0m\u001b[0m\n",
      "\u001b[1;32m~\\Anaconda3\\lib\\site-packages\\pandas\\core\\indexes\\base.py\u001b[0m in \u001b[0;36mget_loc\u001b[1;34m(self, key, method, tolerance)\u001b[0m\n\u001b[0;32m   2897\u001b[0m                 \u001b[1;32mreturn\u001b[0m \u001b[0mself\u001b[0m\u001b[1;33m.\u001b[0m\u001b[0m_engine\u001b[0m\u001b[1;33m.\u001b[0m\u001b[0mget_loc\u001b[0m\u001b[1;33m(\u001b[0m\u001b[0mkey\u001b[0m\u001b[1;33m)\u001b[0m\u001b[1;33m\u001b[0m\u001b[1;33m\u001b[0m\u001b[0m\n\u001b[0;32m   2898\u001b[0m             \u001b[1;32mexcept\u001b[0m \u001b[0mKeyError\u001b[0m\u001b[1;33m:\u001b[0m\u001b[1;33m\u001b[0m\u001b[1;33m\u001b[0m\u001b[0m\n\u001b[1;32m-> 2899\u001b[1;33m                 \u001b[1;32mreturn\u001b[0m \u001b[0mself\u001b[0m\u001b[1;33m.\u001b[0m\u001b[0m_engine\u001b[0m\u001b[1;33m.\u001b[0m\u001b[0mget_loc\u001b[0m\u001b[1;33m(\u001b[0m\u001b[0mself\u001b[0m\u001b[1;33m.\u001b[0m\u001b[0m_maybe_cast_indexer\u001b[0m\u001b[1;33m(\u001b[0m\u001b[0mkey\u001b[0m\u001b[1;33m)\u001b[0m\u001b[1;33m)\u001b[0m\u001b[1;33m\u001b[0m\u001b[1;33m\u001b[0m\u001b[0m\n\u001b[0m\u001b[0;32m   2900\u001b[0m         \u001b[0mindexer\u001b[0m \u001b[1;33m=\u001b[0m \u001b[0mself\u001b[0m\u001b[1;33m.\u001b[0m\u001b[0mget_indexer\u001b[0m\u001b[1;33m(\u001b[0m\u001b[1;33m[\u001b[0m\u001b[0mkey\u001b[0m\u001b[1;33m]\u001b[0m\u001b[1;33m,\u001b[0m \u001b[0mmethod\u001b[0m\u001b[1;33m=\u001b[0m\u001b[0mmethod\u001b[0m\u001b[1;33m,\u001b[0m \u001b[0mtolerance\u001b[0m\u001b[1;33m=\u001b[0m\u001b[0mtolerance\u001b[0m\u001b[1;33m)\u001b[0m\u001b[1;33m\u001b[0m\u001b[1;33m\u001b[0m\u001b[0m\n\u001b[0;32m   2901\u001b[0m         \u001b[1;32mif\u001b[0m \u001b[0mindexer\u001b[0m\u001b[1;33m.\u001b[0m\u001b[0mndim\u001b[0m \u001b[1;33m>\u001b[0m \u001b[1;36m1\u001b[0m \u001b[1;32mor\u001b[0m \u001b[0mindexer\u001b[0m\u001b[1;33m.\u001b[0m\u001b[0msize\u001b[0m \u001b[1;33m>\u001b[0m \u001b[1;36m1\u001b[0m\u001b[1;33m:\u001b[0m\u001b[1;33m\u001b[0m\u001b[1;33m\u001b[0m\u001b[0m\n",
      "\u001b[1;32mpandas/_libs/index.pyx\u001b[0m in \u001b[0;36mpandas._libs.index.IndexEngine.get_loc\u001b[1;34m()\u001b[0m\n",
      "\u001b[1;32mpandas/_libs/index.pyx\u001b[0m in \u001b[0;36mpandas._libs.index.IndexEngine.get_loc\u001b[1;34m()\u001b[0m\n",
      "\u001b[1;32mpandas/_libs/hashtable_class_helper.pxi\u001b[0m in \u001b[0;36mpandas._libs.hashtable.PyObjectHashTable.get_item\u001b[1;34m()\u001b[0m\n",
      "\u001b[1;32mpandas/_libs/hashtable_class_helper.pxi\u001b[0m in \u001b[0;36mpandas._libs.hashtable.PyObjectHashTable.get_item\u001b[1;34m()\u001b[0m\n",
      "\u001b[1;31mKeyError\u001b[0m: Timestamp('2015-01-07 00:00:00')"
     ]
    }
   ],
   "source": [
    "def _build_from_trades(df):\n",
    "    df_ticker = df.copy()\n",
    "\n",
    "    df_ticker['HoldingVolume'] = df_ticker['TradeVolume'].fillna(0).cumsum()\n",
    "\n",
    "    # Vwap: BookValue / HoldingVolume\n",
    "    df_ticker.loc[df_ticker['TradeType'] == 'B','TradeEncoding'] = 1\n",
    "    df_ticker.loc[df_ticker['TradeType'] == 'S','TradeEncoding'] = 0\n",
    "    df_ticker['BuyValue'] = df_ticker['TradeVolume'] * df_ticker['TradePrice'] * df_ticker['TradeEncoding']\n",
    "    df_ticker['BuyVolume'] = df_ticker['TradeVolume'] * df_ticker['TradeEncoding']\n",
    "    df_ticker['BuyVolume'] = df_ticker['BuyVolume'].cumsum()  # Temp calc column\n",
    "    df_ticker['BuyValue'] = df_ticker['BuyValue'].cumsum()  # Temp calc column\n",
    "    df_ticker['Vwap'] = df_ticker['BuyValue'].divide(df_ticker['BuyVolume']).fillna(method='ffill')\n",
    "\n",
    "    df_ticker = df_ticker.drop(columns=['BuyVolume','BuyValue','TradeEncoding'])  # Remove temp calc columns\n",
    "    \n",
    "    return df_ticker\n",
    "\n",
    "def _dividends_stocksplits(df):\n",
    "    try:  # Dividends and stock splits\n",
    "        stock = yf.Ticker(f'{ticker}.AX')\n",
    "        df_actions = stock.actions\n",
    "    except TypeError:\n",
    "        print(f'\\rSomething went wrong!',flush=True)\n",
    "        return\n",
    "    \n",
    "    # Add dividends column\n",
    "    if len(df_actions[df_actions['Dividends'] > 0]) > 0:\n",
    "        df['Dividends'] = df_actions['Dividends'].replace(0,np.nan).copy()\n",
    "    \n",
    "    # Add stocksplits column\n",
    "    if len(df_actions[df_actions['Stock Splits'] > 0]) > 0:\n",
    "        df['StockSplits'] = df_actions['Stock Splits'].replace(0,np.nan).copy()\n",
    "\n",
    "        first_index = df['HoldingVolume'].first_valid_index()\n",
    "        stocksplit_cumulative = df[df['HoldingVolume'].first_valid_index():]['StockSplits'].cumprod()\n",
    "        try:\n",
    "            stocksplit_final_ratio = stocksplit_cumulative[stocksplit_cumulative.last_valid_index()]\n",
    "            last_index = stocksplit_cumulative.last_valid_index()\n",
    "        except:\n",
    "            return\n",
    "        else:\n",
    "            if stocksplit_final_ratio:\n",
    "                print(f'\\n{stocksplit_final_ratio}\\n', df[first_index]['HoldingVolume'], last_index)\n",
    "        \n",
    "        # Multiply HVol / Divide Vwap by the final cumprod of the stocksplits\n",
    "        # df['HoldingVolume'] = df['HoldingVolume'] * df['StockSplits']\n",
    "        # df['Vwap'] = df['Vwap'].divide(df['StockSplits'])\n",
    "\n",
    "    return df\n",
    "\n",
    "\n",
    "# Build portfolio\n",
    "for count, ticker in enumerate(df_p.columns.levels[0]):\n",
    "    print(f'\\r{ticker} | Progress {count+1}/{len(df_p.columns.levels[0])} ',end='',flush=True)\n",
    "    # if ticker != 'QBE':\n",
    "    if ticker not in tickers_with_prices:\n",
    "        print(f'Skipping {ticker} due to no price data...')\n",
    "        continue\n",
    "    \n",
    "    df_p[ticker] = _build_from_trades(df_p[ticker])     # Build porfolio from trades\n",
    "    df_p[ticker, 'ClosePrice'] = prices['Close'][ticker].copy()  # Load prices into dataframe\n",
    "    df_p[ticker] = _dividends_stocksplits(df_p[ticker])  # Update dataframe with dividends and stocksplits\n",
    "\n",
    "    # Calculating returns\n",
    "    df_p[ticker, 'Cashflow'] = df_p[ticker, 'TradePrice'] * df_p[ticker, 'TradeVolume']\n",
    "    df_p[ticker, 'Cashflow'] = df_p[ticker, 'Cashflow'].fillna(0)\n",
    "    \n",
    "    df_p[ticker, 'EndValue'] = df_p[ticker, 'HoldingVolume'] * df_p[ticker, 'ClosePrice'].fillna(method='ffill')\n",
    "    df_p[ticker, 'StartValue'] = df_p[ticker, 'EndValue'].shift(1).replace(0,np.nan)\n",
    "    df_p[ticker, 'DailyReturn'] = df_p[ticker, 'EndValue'].divide(\n",
    "        df_p[ticker, 'StartValue'].add(df_p[ticker, 'Cashflow'])\n",
    "        ) - 1\n",
    "    df_p[ticker, 'DailyReturn'] = df_p[ticker, 'DailyReturn'].replace(-1,np.nan) + 1\n",
    "    df_p[ticker, 'DailyReturn'] = df_p[ticker, 'DailyReturn'].cumprod()\n",
    "\n",
    "    \n",
    "# df_p = df_p.drop(['EndValue','StartValue','Cashflow'], axis='columns',level=1)\n",
    "df_p[('portfolio', 'EndValue')] = df_p.xs('EndValue', level='Props', axis=1).sum(axis=1, min_count=1)\n",
    "df_p[('portfolio', 'StartValue')] = df_p.xs('StartValue', level='Props', axis=1).sum(axis=1, min_count=1)\n",
    "df_p[('portfolio', 'Cashflow')] = df_p.xs('Cashflow', level='Props', axis=1).sum(axis=1, min_count=1)\n",
    "df_p[('portfolio','DailyReturn')] = ((df_p[('portfolio','EndValue')] -\n",
    "                                        (df_p[('portfolio','StartValue')]+df_p[('portfolio','Cashflow')])\n",
    "                                    )\n",
    "                                    /\n",
    "                                    (df_p[('portfolio','StartValue')]+df_p[('portfolio','Cashflow')])\n",
    "                                    ) + 1\n",
    "df_p[('portfolio','DailyReturn')] = df_p[('portfolio','DailyReturn')].cumprod()"
   ]
  },
  {
   "cell_type": "code",
   "execution_count": 0,
   "metadata": {},
   "outputs": [],
   "source": [
    "ticker = 'MDR'\n",
    "# df_p[df_p[ticker,'HoldingVolume'].first_valid_index():df_p[ticker,'HoldingVolume'].last_valid_index()][ticker]\n",
    "df_p[df_p[ticker,'HoldingVolume'].first_valid_index():][ticker]"
   ]
  },
  {
   "cell_type": "code",
   "execution_count": 0,
   "metadata": {},
   "outputs": [],
   "source": [
    "test = df_p['RMD'].DailyReturn + 1\n",
    "test = test.cumprod()\n",
    "# test[test.isna() == False]\n",
    "test"
   ]
  },
  {
   "cell_type": "code",
   "execution_count": 0,
   "metadata": {},
   "outputs": [],
   "source": [
    "'''\n",
    "The problem is: when I sell out of a position, then buy back in, the vwap is reset.\n",
    "'''\n",
    "\n",
    "df_p.RMD.Vwap.unique()"
   ]
  },
  {
   "cell_type": "code",
   "execution_count": 0,
   "metadata": {},
   "outputs": [],
   "source": [
    "df_p.RMD[df_p.RMD.Vwap == 10.330584795321638]"
   ]
  },
  {
   "cell_type": "code",
   "execution_count": 0,
   "metadata": {},
   "outputs": [],
   "source": [
    "df_p.RMD[df_p.RMD.TradeType == 'S']"
   ]
  },
  {
   "cell_type": "code",
   "execution_count": 0,
   "metadata": {},
   "outputs": [],
   "source": [
    "df_p.loc['2018-06-18':'2018-06-25'].RMD"
   ]
  },
  {
   "cell_type": "code",
   "execution_count": null,
   "metadata": {},
   "outputs": [],
   "source": []
  }
 ]
}