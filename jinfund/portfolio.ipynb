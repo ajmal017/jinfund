{
 "nbformat": 4,
 "nbformat_minor": 2,
 "metadata": {
  "language_info": {
   "name": "python",
   "codemirror_mode": {
    "name": "ipython",
    "version": 3
   },
   "version": "3.7.6-final"
  },
  "orig_nbformat": 2,
  "file_extension": ".py",
  "mimetype": "text/x-python",
  "name": "python",
  "npconvert_exporter": "python",
  "pygments_lexer": "ipython3",
  "version": 3,
  "kernelspec": {
   "name": "python37664bitbaseconda7b9b13912e2340a5850e4c26b715291e",
   "display_name": "Python 3.7.6 64-bit ('base': conda)"
  }
 },
 "cells": [
  {
   "cell_type": "code",
   "execution_count": 1,
   "metadata": {},
   "outputs": [],
   "source": [
    "# System imports\n",
    "\n",
    "# Third-party imports\n",
    "\n",
    "# Local imports\n",
    "from portfolio import Portfolio\n",
    "import datehandler"
   ]
  },
  {
   "cell_type": "code",
   "execution_count": 2,
   "metadata": {},
   "outputs": [
    {
     "name": "stdout",
     "output_type": "stream",
     "text": "\n"
    }
   ],
   "source": [
    "portfolio = Portfolio()\n",
    "\n",
    "# portfolio.add_divs('JMS')\n",
    "# portfolio.view()\n",
    "# portfolio.view('1/01/2016','7/1/2016')"
   ]
  },
  {
   "cell_type": "code",
   "execution_count": 10,
   "metadata": {},
   "outputs": [
    {
     "name": "stdout",
     "output_type": "stream",
     "text": "2020-01-07\n"
    },
    {
     "data": {
      "text/plain": "{'cash': -39532.7,\n 'NAN': {'vol': 1027.0, 'vwap': 2.004},\n 'WOW': {'vol': 48.0, 'vwap': 28.999},\n 'RMD': {'vol': 213.0, 'vwap': 14.224},\n 'QBE': {'vol': -37.0, 'vwap': 10.32},\n 'A2M': {'vol': 0.0, 'vwap': 6.856},\n 'PTX': {'vol': 13359.0, 'vwap': 0.096},\n 'IMU': {'vol': 63116.0, 'vwap': 0.032},\n 'BRN': {'vol': 13670.0, 'vwap': 0.148},\n 'RAP': {'vol': 14372.0, 'vwap': 0.14},\n 'SRS': {'vol': 0.0, 'vwap': 0.033},\n 'OZL': {'vol': 0.0, 'vwap': 9.777},\n 'OCC': {'vol': 2669.0, 'vwap': 0.379},\n 'FTT': {'vol': 18199.0, 'vwap': 0.056},\n 'IMM': {'vol': 24414.0, 'vwap': 0.041},\n 'ACW': {'vol': 20019.0, 'vwap': 0.05},\n 'AMT': {'vol': 0.0, 'vwap': 0.121},\n 'AVZ': {'vol': 42459.0, 'vwap': 0.095},\n 'MSB': {'vol': 2017.0, 'vwap': 1.503},\n 'VRS': {'vol': -105.0, 'vwap': 0.227},\n 'RWC': {'vol': 555.0, 'vwap': 5.446},\n 'JMS': {'vol': 8220.0, 'vwap': 0.367},\n 'IFN': {'vol': 1740.0, 'vwap': 0.581},\n 'EHE': {'vol': 0.0, 'vwap': 2.404},\n 'AVH': {'vol': 10225.0, 'vwap': 0.086},\n 'ZNO': {'vol': 5004.0, 'vwap': 0.202},\n 'NEA': {'vol': 298.0, 'vwap': 3.384},\n 'MDR': {'vol': 18886.0, 'vwap': 0.054},\n 'TTT': {'vol': 2067.0, 'vwap': 0.978},\n 'DEM': {'vol': 3849.0, 'vwap': 0.263},\n 'PNV': {'vol': 3059.0, 'vwap': 1.971},\n 'OPT': {'vol': 361.0, 'vwap': 2.79},\n 'PME': {'vol': 40.0, 'vwap': 24.75},\n 'RHT': {'vol': 5004.0, 'vwap': 0.202}}"
     },
     "execution_count": 10,
     "metadata": {},
     "output_type": "execute_result"
    }
   ],
   "source": [
    "data = portfolio.daily_holdings\n",
    "keys = list(data.keys())\n",
    "key = keys[3]\n",
    "print(key)\n",
    "data[key]"
   ]
  },
  {
   "cell_type": "code",
   "execution_count": null,
   "metadata": {},
   "outputs": [],
   "source": []
  }
 ]
}