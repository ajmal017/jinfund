{
 "nbformat": 4,
 "nbformat_minor": 2,
 "metadata": {
  "language_info": {
   "name": "python",
   "codemirror_mode": {
    "name": "ipython",
    "version": 3
   },
   "version": "3.7.6-final"
  },
  "orig_nbformat": 2,
  "file_extension": ".py",
  "mimetype": "text/x-python",
  "name": "python",
  "npconvert_exporter": "python",
  "pygments_lexer": "ipython3",
  "version": 3,
  "kernelspec": {
   "name": "python37664bitbaseconda7b9b13912e2340a5850e4c26b715291e",
   "display_name": "Python 3.7.6 64-bit ('base': conda)"
  }
 },
 "cells": [
  {
   "cell_type": "code",
   "execution_count": 1,
   "metadata": {},
   "outputs": [],
   "source": [
    "# System imports\n",
    "from datetime import datetime\n",
    "import numpy as np\n",
    "import pandas as pd\n",
    "\n",
    "# Third-party imports\n",
    "import yfinance as yf\n",
    "from pathlib import Path\n",
    "\n",
    "# Local imports\n",
    "from portfolio.holdings import Portfolio\n",
    "from portfolio.commsec import Trades\n",
    "import datehandler\n",
    "\n",
    "# Vars\n",
    "today = datetime.today().date()"
   ]
  },
  {
   "cell_type": "code",
   "execution_count": 2,
   "metadata": {},
   "outputs": [
    {
     "name": "stdout",
     "output_type": "stream",
     "text": "\n"
    },
    {
     "data": {
      "text/html": "<div>\n<style scoped>\n    .dataframe tbody tr th:only-of-type {\n        vertical-align: middle;\n    }\n\n    .dataframe tbody tr th {\n        vertical-align: top;\n    }\n\n    .dataframe thead tr th {\n        text-align: left;\n    }\n\n    .dataframe thead tr:last-of-type th {\n        text-align: right;\n    }\n</style>\n<table border=\"1\" class=\"dataframe\">\n  <thead>\n    <tr>\n      <th>Tickers</th>\n      <th colspan=\"5\" halign=\"left\">A2M</th>\n      <th colspan=\"5\" halign=\"left\">ACW</th>\n      <th>...</th>\n      <th colspan=\"5\" halign=\"left\">WZR</th>\n      <th colspan=\"5\" halign=\"left\">ZNO</th>\n    </tr>\n    <tr>\n      <th>Props</th>\n      <th>HoldingVolume</th>\n      <th>TradePrice</th>\n      <th>TradeType</th>\n      <th>TradeVolume</th>\n      <th>Vwap</th>\n      <th>HoldingVolume</th>\n      <th>TradePrice</th>\n      <th>TradeType</th>\n      <th>TradeVolume</th>\n      <th>Vwap</th>\n      <th>...</th>\n      <th>HoldingVolume</th>\n      <th>TradePrice</th>\n      <th>TradeType</th>\n      <th>TradeVolume</th>\n      <th>Vwap</th>\n      <th>HoldingVolume</th>\n      <th>TradePrice</th>\n      <th>TradeType</th>\n      <th>TradeVolume</th>\n      <th>Vwap</th>\n    </tr>\n    <tr>\n      <th>Date</th>\n      <th></th>\n      <th></th>\n      <th></th>\n      <th></th>\n      <th></th>\n      <th></th>\n      <th></th>\n      <th></th>\n      <th></th>\n      <th></th>\n      <th></th>\n      <th></th>\n      <th></th>\n      <th></th>\n      <th></th>\n      <th></th>\n      <th></th>\n      <th></th>\n      <th></th>\n      <th></th>\n      <th></th>\n    </tr>\n  </thead>\n  <tbody>\n    <tr>\n      <th>2015-01-07</th>\n      <td>NaN</td>\n      <td>NaN</td>\n      <td>NaN</td>\n      <td>NaN</td>\n      <td>NaN</td>\n      <td>NaN</td>\n      <td>NaN</td>\n      <td>NaN</td>\n      <td>NaN</td>\n      <td>NaN</td>\n      <td>...</td>\n      <td>NaN</td>\n      <td>NaN</td>\n      <td>NaN</td>\n      <td>NaN</td>\n      <td>NaN</td>\n      <td>NaN</td>\n      <td>NaN</td>\n      <td>NaN</td>\n      <td>NaN</td>\n      <td>NaN</td>\n    </tr>\n    <tr>\n      <th>2015-01-08</th>\n      <td>NaN</td>\n      <td>NaN</td>\n      <td>NaN</td>\n      <td>NaN</td>\n      <td>NaN</td>\n      <td>NaN</td>\n      <td>NaN</td>\n      <td>NaN</td>\n      <td>NaN</td>\n      <td>NaN</td>\n      <td>...</td>\n      <td>NaN</td>\n      <td>NaN</td>\n      <td>NaN</td>\n      <td>NaN</td>\n      <td>NaN</td>\n      <td>NaN</td>\n      <td>NaN</td>\n      <td>NaN</td>\n      <td>NaN</td>\n      <td>NaN</td>\n    </tr>\n    <tr>\n      <th>2015-01-09</th>\n      <td>NaN</td>\n      <td>NaN</td>\n      <td>NaN</td>\n      <td>NaN</td>\n      <td>NaN</td>\n      <td>NaN</td>\n      <td>NaN</td>\n      <td>NaN</td>\n      <td>NaN</td>\n      <td>NaN</td>\n      <td>...</td>\n      <td>NaN</td>\n      <td>NaN</td>\n      <td>NaN</td>\n      <td>NaN</td>\n      <td>NaN</td>\n      <td>NaN</td>\n      <td>NaN</td>\n      <td>NaN</td>\n      <td>NaN</td>\n      <td>NaN</td>\n    </tr>\n    <tr>\n      <th>2015-01-12</th>\n      <td>NaN</td>\n      <td>NaN</td>\n      <td>NaN</td>\n      <td>NaN</td>\n      <td>NaN</td>\n      <td>NaN</td>\n      <td>NaN</td>\n      <td>NaN</td>\n      <td>NaN</td>\n      <td>NaN</td>\n      <td>...</td>\n      <td>NaN</td>\n      <td>NaN</td>\n      <td>NaN</td>\n      <td>NaN</td>\n      <td>NaN</td>\n      <td>NaN</td>\n      <td>NaN</td>\n      <td>NaN</td>\n      <td>NaN</td>\n      <td>NaN</td>\n    </tr>\n    <tr>\n      <th>2015-01-13</th>\n      <td>NaN</td>\n      <td>NaN</td>\n      <td>NaN</td>\n      <td>NaN</td>\n      <td>NaN</td>\n      <td>NaN</td>\n      <td>NaN</td>\n      <td>NaN</td>\n      <td>NaN</td>\n      <td>NaN</td>\n      <td>...</td>\n      <td>NaN</td>\n      <td>NaN</td>\n      <td>NaN</td>\n      <td>NaN</td>\n      <td>NaN</td>\n      <td>NaN</td>\n      <td>NaN</td>\n      <td>NaN</td>\n      <td>NaN</td>\n      <td>NaN</td>\n    </tr>\n    <tr>\n      <th>...</th>\n      <td>...</td>\n      <td>...</td>\n      <td>...</td>\n      <td>...</td>\n      <td>...</td>\n      <td>...</td>\n      <td>...</td>\n      <td>...</td>\n      <td>...</td>\n      <td>...</td>\n      <td>...</td>\n      <td>...</td>\n      <td>...</td>\n      <td>...</td>\n      <td>...</td>\n      <td>...</td>\n      <td>...</td>\n      <td>...</td>\n      <td>...</td>\n      <td>...</td>\n      <td>...</td>\n    </tr>\n    <tr>\n      <th>2020-01-16</th>\n      <td>NaN</td>\n      <td>NaN</td>\n      <td>NaN</td>\n      <td>NaN</td>\n      <td>NaN</td>\n      <td>NaN</td>\n      <td>NaN</td>\n      <td>NaN</td>\n      <td>NaN</td>\n      <td>NaN</td>\n      <td>...</td>\n      <td>NaN</td>\n      <td>NaN</td>\n      <td>NaN</td>\n      <td>NaN</td>\n      <td>NaN</td>\n      <td>NaN</td>\n      <td>NaN</td>\n      <td>NaN</td>\n      <td>NaN</td>\n      <td>NaN</td>\n    </tr>\n    <tr>\n      <th>2020-01-17</th>\n      <td>NaN</td>\n      <td>NaN</td>\n      <td>NaN</td>\n      <td>NaN</td>\n      <td>NaN</td>\n      <td>NaN</td>\n      <td>NaN</td>\n      <td>NaN</td>\n      <td>NaN</td>\n      <td>NaN</td>\n      <td>...</td>\n      <td>NaN</td>\n      <td>NaN</td>\n      <td>NaN</td>\n      <td>NaN</td>\n      <td>NaN</td>\n      <td>NaN</td>\n      <td>NaN</td>\n      <td>NaN</td>\n      <td>NaN</td>\n      <td>NaN</td>\n    </tr>\n    <tr>\n      <th>2020-01-20</th>\n      <td>NaN</td>\n      <td>NaN</td>\n      <td>NaN</td>\n      <td>NaN</td>\n      <td>NaN</td>\n      <td>NaN</td>\n      <td>NaN</td>\n      <td>NaN</td>\n      <td>NaN</td>\n      <td>NaN</td>\n      <td>...</td>\n      <td>NaN</td>\n      <td>NaN</td>\n      <td>NaN</td>\n      <td>NaN</td>\n      <td>NaN</td>\n      <td>NaN</td>\n      <td>NaN</td>\n      <td>NaN</td>\n      <td>NaN</td>\n      <td>NaN</td>\n    </tr>\n    <tr>\n      <th>2020-01-21</th>\n      <td>NaN</td>\n      <td>NaN</td>\n      <td>NaN</td>\n      <td>NaN</td>\n      <td>NaN</td>\n      <td>NaN</td>\n      <td>NaN</td>\n      <td>NaN</td>\n      <td>NaN</td>\n      <td>NaN</td>\n      <td>...</td>\n      <td>NaN</td>\n      <td>NaN</td>\n      <td>NaN</td>\n      <td>NaN</td>\n      <td>NaN</td>\n      <td>NaN</td>\n      <td>NaN</td>\n      <td>NaN</td>\n      <td>NaN</td>\n      <td>NaN</td>\n    </tr>\n    <tr>\n      <th>2020-01-22</th>\n      <td>NaN</td>\n      <td>NaN</td>\n      <td>NaN</td>\n      <td>NaN</td>\n      <td>NaN</td>\n      <td>NaN</td>\n      <td>NaN</td>\n      <td>NaN</td>\n      <td>NaN</td>\n      <td>NaN</td>\n      <td>...</td>\n      <td>NaN</td>\n      <td>NaN</td>\n      <td>NaN</td>\n      <td>NaN</td>\n      <td>NaN</td>\n      <td>NaN</td>\n      <td>NaN</td>\n      <td>NaN</td>\n      <td>NaN</td>\n      <td>NaN</td>\n    </tr>\n  </tbody>\n</table>\n<p>1316 rows × 175 columns</p>\n</div>",
      "text/plain": "Tickers              A2M                                                 ACW  \\\nProps      HoldingVolume TradePrice TradeType TradeVolume Vwap HoldingVolume   \nDate                                                                           \n2015-01-07           NaN        NaN       NaN         NaN  NaN           NaN   \n2015-01-08           NaN        NaN       NaN         NaN  NaN           NaN   \n2015-01-09           NaN        NaN       NaN         NaN  NaN           NaN   \n2015-01-12           NaN        NaN       NaN         NaN  NaN           NaN   \n2015-01-13           NaN        NaN       NaN         NaN  NaN           NaN   \n...                  ...        ...       ...         ...  ...           ...   \n2020-01-16           NaN        NaN       NaN         NaN  NaN           NaN   \n2020-01-17           NaN        NaN       NaN         NaN  NaN           NaN   \n2020-01-20           NaN        NaN       NaN         NaN  NaN           NaN   \n2020-01-21           NaN        NaN       NaN         NaN  NaN           NaN   \n2020-01-22           NaN        NaN       NaN         NaN  NaN           NaN   \n\nTickers                                           ...           WZR  \\\nProps      TradePrice TradeType TradeVolume Vwap  ... HoldingVolume   \nDate                                              ...                 \n2015-01-07        NaN       NaN         NaN  NaN  ...           NaN   \n2015-01-08        NaN       NaN         NaN  NaN  ...           NaN   \n2015-01-09        NaN       NaN         NaN  NaN  ...           NaN   \n2015-01-12        NaN       NaN         NaN  NaN  ...           NaN   \n2015-01-13        NaN       NaN         NaN  NaN  ...           NaN   \n...               ...       ...         ...  ...  ...           ...   \n2020-01-16        NaN       NaN         NaN  NaN  ...           NaN   \n2020-01-17        NaN       NaN         NaN  NaN  ...           NaN   \n2020-01-20        NaN       NaN         NaN  NaN  ...           NaN   \n2020-01-21        NaN       NaN         NaN  NaN  ...           NaN   \n2020-01-22        NaN       NaN         NaN  NaN  ...           NaN   \n\nTickers                                                    ZNO             \\\nProps      TradePrice TradeType TradeVolume Vwap HoldingVolume TradePrice   \nDate                                                                        \n2015-01-07        NaN       NaN         NaN  NaN           NaN        NaN   \n2015-01-08        NaN       NaN         NaN  NaN           NaN        NaN   \n2015-01-09        NaN       NaN         NaN  NaN           NaN        NaN   \n2015-01-12        NaN       NaN         NaN  NaN           NaN        NaN   \n2015-01-13        NaN       NaN         NaN  NaN           NaN        NaN   \n...               ...       ...         ...  ...           ...        ...   \n2020-01-16        NaN       NaN         NaN  NaN           NaN        NaN   \n2020-01-17        NaN       NaN         NaN  NaN           NaN        NaN   \n2020-01-20        NaN       NaN         NaN  NaN           NaN        NaN   \n2020-01-21        NaN       NaN         NaN  NaN           NaN        NaN   \n2020-01-22        NaN       NaN         NaN  NaN           NaN        NaN   \n\nTickers                                \nProps      TradeType TradeVolume Vwap  \nDate                                   \n2015-01-07       NaN         NaN  NaN  \n2015-01-08       NaN         NaN  NaN  \n2015-01-09       NaN         NaN  NaN  \n2015-01-12       NaN         NaN  NaN  \n2015-01-13       NaN         NaN  NaN  \n...              ...         ...  ...  \n2020-01-16       NaN         NaN  NaN  \n2020-01-17       NaN         NaN  NaN  \n2020-01-20       NaN         NaN  NaN  \n2020-01-21       NaN         NaN  NaN  \n2020-01-22       NaN         NaN  NaN  \n\n[1316 rows x 175 columns]"
     },
     "execution_count": 2,
     "metadata": {},
     "output_type": "execute_result"
    }
   ],
   "source": [
    "trades = Trades()\n",
    "trades_df = trades.all\n",
    "\n",
    "p_dates = datehandler.date_list(trades_df.index[-1], today)\n",
    "\n",
    "tickers = list(sorted(set(trades_df.Ticker.to_list())))\n",
    "props = ['TradeType','TradeVolume','TradePrice','HoldingVolume','Vwap']\n",
    "\n",
    "columns = pd.MultiIndex.from_product([tickers,props], names=['Tickers','Props'])\n",
    "df_p = pd.DataFrame(None, index=pd.DatetimeIndex(p_dates), columns=columns)\n",
    "\n",
    "# Clean index and columns\n",
    "df_p.index.name = 'Date'\n",
    "df_p = df_p.reindex(sorted(df_p.columns),axis=1)  # Sort columns\n",
    "df_p = df_p.reindex(sorted(df_p.index),axis=0)  # Sort index\n",
    "df_p"
   ]
  },
  {
   "cell_type": "code",
   "execution_count": 19,
   "metadata": {},
   "outputs": [],
   "source": [
    "dropped_cols = ['Market','Ticker','TradePrice','Brokerage']\n",
    "for ticker in tickers:\n",
    "    # Add trade dataframe values to portfolio dataframe\n",
    "    df_t = trades_df[trades_df.Ticker == ticker].copy()\n",
    "    df_t.loc[df_t['TradeType'] == 'S', 'Volume'] *= -1  # Don't worry about the warning\n",
    "    df_t = df_t.drop(columns=dropped_cols)  # Drop columns first\n",
    "    df_t = df_t.rename(columns={            # Then rename columns - due to conflicting name!\n",
    "        'Volume':'TradeVolume',\n",
    "        'EffectivePrice':'TradePrice',\n",
    "        })\n",
    "    df_p[ticker] = df_t"
   ]
  },
  {
   "cell_type": "code",
   "execution_count": 4,
   "metadata": {},
   "outputs": [
    {
     "ename": "KeyError",
     "evalue": "'Ticker'",
     "output_type": "error",
     "traceback": [
      "\u001b[1;31m---------------------------------------------------------------------------\u001b[0m",
      "\u001b[1;31mKeyError\u001b[0m                                  Traceback (most recent call last)",
      "\u001b[1;32m~\\Anaconda3\\lib\\site-packages\\pandas\\core\\indexes\\base.py\u001b[0m in \u001b[0;36mget_loc\u001b[1;34m(self, key, method, tolerance)\u001b[0m\n\u001b[0;32m   2896\u001b[0m             \u001b[1;32mtry\u001b[0m\u001b[1;33m:\u001b[0m\u001b[1;33m\u001b[0m\u001b[1;33m\u001b[0m\u001b[0m\n\u001b[1;32m-> 2897\u001b[1;33m                 \u001b[1;32mreturn\u001b[0m \u001b[0mself\u001b[0m\u001b[1;33m.\u001b[0m\u001b[0m_engine\u001b[0m\u001b[1;33m.\u001b[0m\u001b[0mget_loc\u001b[0m\u001b[1;33m(\u001b[0m\u001b[0mkey\u001b[0m\u001b[1;33m)\u001b[0m\u001b[1;33m\u001b[0m\u001b[1;33m\u001b[0m\u001b[0m\n\u001b[0m\u001b[0;32m   2898\u001b[0m             \u001b[1;32mexcept\u001b[0m \u001b[0mKeyError\u001b[0m\u001b[1;33m:\u001b[0m\u001b[1;33m\u001b[0m\u001b[1;33m\u001b[0m\u001b[0m\n",
      "\u001b[1;32mpandas/_libs/index.pyx\u001b[0m in \u001b[0;36mpandas._libs.index.IndexEngine.get_loc\u001b[1;34m()\u001b[0m\n",
      "\u001b[1;32mpandas/_libs/index.pyx\u001b[0m in \u001b[0;36mpandas._libs.index.IndexEngine.get_loc\u001b[1;34m()\u001b[0m\n",
      "\u001b[1;32mpandas/_libs/hashtable_class_helper.pxi\u001b[0m in \u001b[0;36mpandas._libs.hashtable.PyObjectHashTable.get_item\u001b[1;34m()\u001b[0m\n",
      "\u001b[1;32mpandas/_libs/hashtable_class_helper.pxi\u001b[0m in \u001b[0;36mpandas._libs.hashtable.PyObjectHashTable.get_item\u001b[1;34m()\u001b[0m\n",
      "\u001b[1;31mKeyError\u001b[0m: 'Ticker'",
      "\nDuring handling of the above exception, another exception occurred:\n",
      "\u001b[1;31mKeyError\u001b[0m                                  Traceback (most recent call last)",
      "\u001b[1;32m<ipython-input-4-0bf8e6575bf7>\u001b[0m in \u001b[0;36m<module>\u001b[1;34m\u001b[0m\n\u001b[0;32m      2\u001b[0m \u001b[0mtemp_df\u001b[0m \u001b[1;33m=\u001b[0m \u001b[0mpd\u001b[0m\u001b[1;33m.\u001b[0m\u001b[0mDataFrame\u001b[0m\u001b[1;33m(\u001b[0m\u001b[1;33m)\u001b[0m\u001b[1;33m\u001b[0m\u001b[1;33m\u001b[0m\u001b[0m\n\u001b[0;32m      3\u001b[0m \u001b[0mtemp_df\u001b[0m\u001b[1;33m[\u001b[0m\u001b[1;34m'Market'\u001b[0m\u001b[1;33m]\u001b[0m \u001b[1;33m=\u001b[0m \u001b[0mtrades_df\u001b[0m\u001b[1;33m[\u001b[0m\u001b[1;34m'Market'\u001b[0m\u001b[1;33m]\u001b[0m\u001b[1;33m.\u001b[0m\u001b[0mapply\u001b[0m\u001b[1;33m(\u001b[0m\u001b[0myahoolookup\u001b[0m\u001b[1;33m.\u001b[0m\u001b[0mStock\u001b[0m\u001b[1;33m.\u001b[0m\u001b[0mmarket_mapper\u001b[0m\u001b[1;33m)\u001b[0m\u001b[1;33m\u001b[0m\u001b[1;33m\u001b[0m\u001b[0m\n\u001b[1;32m----> 4\u001b[1;33m \u001b[0mtemp_df\u001b[0m\u001b[1;33m[\u001b[0m\u001b[1;34m'YahooTicker'\u001b[0m\u001b[1;33m]\u001b[0m \u001b[1;33m=\u001b[0m \u001b[0mtemp_df\u001b[0m\u001b[1;33m[\u001b[0m\u001b[1;34m'Ticker'\u001b[0m\u001b[1;33m]\u001b[0m \u001b[1;33m+\u001b[0m \u001b[1;34m'.'\u001b[0m \u001b[1;33m+\u001b[0m \u001b[0mtemp_df\u001b[0m\u001b[1;33m[\u001b[0m\u001b[1;34m'Market'\u001b[0m\u001b[1;33m]\u001b[0m\u001b[1;33m\u001b[0m\u001b[1;33m\u001b[0m\u001b[0m\n\u001b[0m\u001b[0;32m      5\u001b[0m \u001b[1;33m\u001b[0m\u001b[0m\n\u001b[0;32m      6\u001b[0m \u001b[0mtickers_with_no_price_data\u001b[0m \u001b[1;33m=\u001b[0m \u001b[1;33m[\u001b[0m\u001b[1;33m]\u001b[0m\u001b[1;33m\u001b[0m\u001b[1;33m\u001b[0m\u001b[0m\n",
      "\u001b[1;32m~\\Anaconda3\\lib\\site-packages\\pandas\\core\\frame.py\u001b[0m in \u001b[0;36m__getitem__\u001b[1;34m(self, key)\u001b[0m\n\u001b[0;32m   2993\u001b[0m             \u001b[1;32mif\u001b[0m \u001b[0mself\u001b[0m\u001b[1;33m.\u001b[0m\u001b[0mcolumns\u001b[0m\u001b[1;33m.\u001b[0m\u001b[0mnlevels\u001b[0m \u001b[1;33m>\u001b[0m \u001b[1;36m1\u001b[0m\u001b[1;33m:\u001b[0m\u001b[1;33m\u001b[0m\u001b[1;33m\u001b[0m\u001b[0m\n\u001b[0;32m   2994\u001b[0m                 \u001b[1;32mreturn\u001b[0m \u001b[0mself\u001b[0m\u001b[1;33m.\u001b[0m\u001b[0m_getitem_multilevel\u001b[0m\u001b[1;33m(\u001b[0m\u001b[0mkey\u001b[0m\u001b[1;33m)\u001b[0m\u001b[1;33m\u001b[0m\u001b[1;33m\u001b[0m\u001b[0m\n\u001b[1;32m-> 2995\u001b[1;33m             \u001b[0mindexer\u001b[0m \u001b[1;33m=\u001b[0m \u001b[0mself\u001b[0m\u001b[1;33m.\u001b[0m\u001b[0mcolumns\u001b[0m\u001b[1;33m.\u001b[0m\u001b[0mget_loc\u001b[0m\u001b[1;33m(\u001b[0m\u001b[0mkey\u001b[0m\u001b[1;33m)\u001b[0m\u001b[1;33m\u001b[0m\u001b[1;33m\u001b[0m\u001b[0m\n\u001b[0m\u001b[0;32m   2996\u001b[0m             \u001b[1;32mif\u001b[0m \u001b[0mis_integer\u001b[0m\u001b[1;33m(\u001b[0m\u001b[0mindexer\u001b[0m\u001b[1;33m)\u001b[0m\u001b[1;33m:\u001b[0m\u001b[1;33m\u001b[0m\u001b[1;33m\u001b[0m\u001b[0m\n\u001b[0;32m   2997\u001b[0m                 \u001b[0mindexer\u001b[0m \u001b[1;33m=\u001b[0m \u001b[1;33m[\u001b[0m\u001b[0mindexer\u001b[0m\u001b[1;33m]\u001b[0m\u001b[1;33m\u001b[0m\u001b[1;33m\u001b[0m\u001b[0m\n",
      "\u001b[1;32m~\\Anaconda3\\lib\\site-packages\\pandas\\core\\indexes\\base.py\u001b[0m in \u001b[0;36mget_loc\u001b[1;34m(self, key, method, tolerance)\u001b[0m\n\u001b[0;32m   2897\u001b[0m                 \u001b[1;32mreturn\u001b[0m \u001b[0mself\u001b[0m\u001b[1;33m.\u001b[0m\u001b[0m_engine\u001b[0m\u001b[1;33m.\u001b[0m\u001b[0mget_loc\u001b[0m\u001b[1;33m(\u001b[0m\u001b[0mkey\u001b[0m\u001b[1;33m)\u001b[0m\u001b[1;33m\u001b[0m\u001b[1;33m\u001b[0m\u001b[0m\n\u001b[0;32m   2898\u001b[0m             \u001b[1;32mexcept\u001b[0m \u001b[0mKeyError\u001b[0m\u001b[1;33m:\u001b[0m\u001b[1;33m\u001b[0m\u001b[1;33m\u001b[0m\u001b[0m\n\u001b[1;32m-> 2899\u001b[1;33m                 \u001b[1;32mreturn\u001b[0m \u001b[0mself\u001b[0m\u001b[1;33m.\u001b[0m\u001b[0m_engine\u001b[0m\u001b[1;33m.\u001b[0m\u001b[0mget_loc\u001b[0m\u001b[1;33m(\u001b[0m\u001b[0mself\u001b[0m\u001b[1;33m.\u001b[0m\u001b[0m_maybe_cast_indexer\u001b[0m\u001b[1;33m(\u001b[0m\u001b[0mkey\u001b[0m\u001b[1;33m)\u001b[0m\u001b[1;33m)\u001b[0m\u001b[1;33m\u001b[0m\u001b[1;33m\u001b[0m\u001b[0m\n\u001b[0m\u001b[0;32m   2900\u001b[0m         \u001b[0mindexer\u001b[0m \u001b[1;33m=\u001b[0m \u001b[0mself\u001b[0m\u001b[1;33m.\u001b[0m\u001b[0mget_indexer\u001b[0m\u001b[1;33m(\u001b[0m\u001b[1;33m[\u001b[0m\u001b[0mkey\u001b[0m\u001b[1;33m]\u001b[0m\u001b[1;33m,\u001b[0m \u001b[0mmethod\u001b[0m\u001b[1;33m=\u001b[0m\u001b[0mmethod\u001b[0m\u001b[1;33m,\u001b[0m \u001b[0mtolerance\u001b[0m\u001b[1;33m=\u001b[0m\u001b[0mtolerance\u001b[0m\u001b[1;33m)\u001b[0m\u001b[1;33m\u001b[0m\u001b[1;33m\u001b[0m\u001b[0m\n\u001b[0;32m   2901\u001b[0m         \u001b[1;32mif\u001b[0m \u001b[0mindexer\u001b[0m\u001b[1;33m.\u001b[0m\u001b[0mndim\u001b[0m \u001b[1;33m>\u001b[0m \u001b[1;36m1\u001b[0m \u001b[1;32mor\u001b[0m \u001b[0mindexer\u001b[0m\u001b[1;33m.\u001b[0m\u001b[0msize\u001b[0m \u001b[1;33m>\u001b[0m \u001b[1;36m1\u001b[0m\u001b[1;33m:\u001b[0m\u001b[1;33m\u001b[0m\u001b[1;33m\u001b[0m\u001b[0m\n",
      "\u001b[1;32mpandas/_libs/index.pyx\u001b[0m in \u001b[0;36mpandas._libs.index.IndexEngine.get_loc\u001b[1;34m()\u001b[0m\n",
      "\u001b[1;32mpandas/_libs/index.pyx\u001b[0m in \u001b[0;36mpandas._libs.index.IndexEngine.get_loc\u001b[1;34m()\u001b[0m\n",
      "\u001b[1;32mpandas/_libs/hashtable_class_helper.pxi\u001b[0m in \u001b[0;36mpandas._libs.hashtable.PyObjectHashTable.get_item\u001b[1;34m()\u001b[0m\n",
      "\u001b[1;32mpandas/_libs/hashtable_class_helper.pxi\u001b[0m in \u001b[0;36mpandas._libs.hashtable.PyObjectHashTable.get_item\u001b[1;34m()\u001b[0m\n",
      "\u001b[1;31mKeyError\u001b[0m: 'Ticker'"
     ]
    }
   ],
   "source": [
    "\n",
    "\n",
    "# Build portfolio\n",
    "for ticker in df_p.columns.levels[0]:\n",
    "    if ticker not in tickers_with_price_data:\n",
    "        continue\n",
    "\n",
    "    df_ticker = df_p[ticker].copy()\n",
    "    \n",
    "    # HoldingVolume: Cumulative sum for volume\n",
    "    df_ticker['HoldingVolume'] = df_ticker['TradeVolume'].fillna(0).cumsum()\n",
    "\n",
    "    # Vwap: BookValue / HoldingVolume\n",
    "    df_ticker.loc[df_ticker['TradeType'] == 'B','BookValue'] = df_ticker['TradeVolume'] * df_ticker['TradePrice']\n",
    "    df_ticker.loc[df_ticker['TradeType'] == 'B','BuyVolume'] = df_ticker['TradeVolume']\n",
    "    df_ticker['BuyVolume'] = df_ticker['BuyVolume'].fillna(0).cumsum()  # Temp calc column\n",
    "    df_ticker['BookValue'] = df_ticker['BookValue'].fillna(0).cumsum()  # Temp calc column\n",
    "    df_ticker['Vwap'] = df_ticker['BookValue'] / df_ticker['BuyVolume']\n",
    "\n",
    "    df_ticker = df_ticker.drop(columns=['BuyVolume','BookValue'])  # Remove temp calc columns\n",
    "    \n",
    "    if ticker == 'NAN':\n",
    "        print(df_ticker)\n",
    "        df_ticker.to_csv('test.csv')\n",
    "    "
   ]
  },
  {
   "cell_type": "code",
   "execution_count": 45,
   "metadata": {},
   "outputs": [
    {
     "data": {
      "text/plain": "Date\n2015-01-07    1000.0\n2015-01-08    1000.0\n2015-01-09    1000.0\n2015-01-12    1000.0\n2015-01-13    1000.0\n               ...  \n2020-01-15    1027.0\n2020-01-16    1027.0\n2020-01-17    1027.0\n2020-01-20    1027.0\n2020-01-21    1027.0\nName: TradeVolume, Length: 1315, dtype: float64"
     },
     "execution_count": 45,
     "metadata": {},
     "output_type": "execute_result"
    }
   ],
   "source": [
    "df_p['NAN']['TradeVolume'].fillna(0).cumsum()"
   ]
  },
  {
   "cell_type": "code",
   "execution_count": 3,
   "metadata": {},
   "outputs": [
    {
     "data": {
      "text/html": "<div>\n<style scoped>\n    .dataframe tbody tr th:only-of-type {\n        vertical-align: middle;\n    }\n\n    .dataframe tbody tr th {\n        vertical-align: top;\n    }\n\n    .dataframe thead th {\n        text-align: right;\n    }\n</style>\n<table border=\"1\" class=\"dataframe\">\n  <thead>\n    <tr style=\"text-align: right;\">\n      <th></th>\n      <th>Ticker</th>\n      <th>Market</th>\n      <th>TradeType</th>\n      <th>Volume</th>\n      <th>TradePrice</th>\n      <th>EffectivePrice</th>\n      <th>Brokerage</th>\n      <th>YahooTicker</th>\n    </tr>\n    <tr>\n      <th>Date</th>\n      <th></th>\n      <th></th>\n      <th></th>\n      <th></th>\n      <th></th>\n      <th></th>\n      <th></th>\n      <th></th>\n    </tr>\n  </thead>\n  <tbody>\n    <tr>\n      <th>2020-01-16</th>\n      <td>IBXO</td>\n      <td>AX</td>\n      <td>B</td>\n      <td>100099.0</td>\n      <td>0.010000</td>\n      <td>0.010100</td>\n      <td>10.0</td>\n      <td>IBXO.AX</td>\n    </tr>\n    <tr>\n      <th>2020-01-14</th>\n      <td>DEM</td>\n      <td>AX</td>\n      <td>B</td>\n      <td>4170.0</td>\n      <td>0.240000</td>\n      <td>0.242398</td>\n      <td>10.0</td>\n      <td>DEM.AX</td>\n    </tr>\n    <tr>\n      <th>2020-01-14</th>\n      <td>IFN</td>\n      <td>AX</td>\n      <td>S</td>\n      <td>1767.0</td>\n      <td>0.680000</td>\n      <td>0.668710</td>\n      <td>20.0</td>\n      <td>IFN.AX</td>\n    </tr>\n    <tr>\n      <th>2020-01-10</th>\n      <td>AVH</td>\n      <td>AX</td>\n      <td>S</td>\n      <td>1551.0</td>\n      <td>0.645000</td>\n      <td>0.638556</td>\n      <td>10.0</td>\n      <td>AVH.AX</td>\n    </tr>\n    <tr>\n      <th>2020-01-10</th>\n      <td>VRS</td>\n      <td>AX</td>\n      <td>S</td>\n      <td>4553.0</td>\n      <td>0.064000</td>\n      <td>0.061803</td>\n      <td>10.0</td>\n      <td>VRS.AX</td>\n    </tr>\n    <tr>\n      <th>...</th>\n      <td>...</td>\n      <td>...</td>\n      <td>...</td>\n      <td>...</td>\n      <td>...</td>\n      <td>...</td>\n      <td>...</td>\n      <td>...</td>\n    </tr>\n    <tr>\n      <th>2017-08-03</th>\n      <td>NAN</td>\n      <td>AX</td>\n      <td>B</td>\n      <td>2000.0</td>\n      <td>2.310700</td>\n      <td>2.320675</td>\n      <td>20.0</td>\n      <td>NAN.AX</td>\n    </tr>\n    <tr>\n      <th>2016-07-06</th>\n      <td>QBE</td>\n      <td>AX</td>\n      <td>B</td>\n      <td>500.0</td>\n      <td>10.280000</td>\n      <td>10.319900</td>\n      <td>20.0</td>\n      <td>QBE.AX</td>\n    </tr>\n    <tr>\n      <th>2016-04-28</th>\n      <td>RMD</td>\n      <td>AX</td>\n      <td>B</td>\n      <td>300.0</td>\n      <td>7.500000</td>\n      <td>7.566500</td>\n      <td>20.0</td>\n      <td>RMD.AX</td>\n    </tr>\n    <tr>\n      <th>2015-03-26</th>\n      <td>WOW</td>\n      <td>AX</td>\n      <td>B</td>\n      <td>100.0</td>\n      <td>28.799999</td>\n      <td>28.999500</td>\n      <td>20.0</td>\n      <td>WOW.AX</td>\n    </tr>\n    <tr>\n      <th>2015-01-07</th>\n      <td>NAN</td>\n      <td>AX</td>\n      <td>B</td>\n      <td>1000.0</td>\n      <td>1.350000</td>\n      <td>1.369950</td>\n      <td>20.0</td>\n      <td>NAN.AX</td>\n    </tr>\n  </tbody>\n</table>\n<p>66 rows × 8 columns</p>\n</div>",
      "text/plain": "           Ticker Market TradeType    Volume  TradePrice  EffectivePrice  \\\nDate                                                                       \n2020-01-16   IBXO     AX         B  100099.0    0.010000        0.010100   \n2020-01-14    DEM     AX         B    4170.0    0.240000        0.242398   \n2020-01-14    IFN     AX         S    1767.0    0.680000        0.668710   \n2020-01-10    AVH     AX         S    1551.0    0.645000        0.638556   \n2020-01-10    VRS     AX         S    4553.0    0.064000        0.061803   \n...           ...    ...       ...       ...         ...             ...   \n2017-08-03    NAN     AX         B    2000.0    2.310700        2.320675   \n2016-07-06    QBE     AX         B     500.0   10.280000       10.319900   \n2016-04-28    RMD     AX         B     300.0    7.500000        7.566500   \n2015-03-26    WOW     AX         B     100.0   28.799999       28.999500   \n2015-01-07    NAN     AX         B    1000.0    1.350000        1.369950   \n\n            Brokerage YahooTicker  \nDate                               \n2020-01-16       10.0     IBXO.AX  \n2020-01-14       10.0      DEM.AX  \n2020-01-14       20.0      IFN.AX  \n2020-01-10       10.0      AVH.AX  \n2020-01-10       10.0      VRS.AX  \n...               ...         ...  \n2017-08-03       20.0      NAN.AX  \n2016-07-06       20.0      QBE.AX  \n2016-04-28       20.0      RMD.AX  \n2015-03-26       20.0      WOW.AX  \n2015-01-07       20.0      NAN.AX  \n\n[66 rows x 8 columns]"
     },
     "execution_count": 3,
     "metadata": {},
     "output_type": "execute_result"
    }
   ],
   "source": [
    "import yahoolookup\n",
    "\n"
   ]
  },
  {
   "cell_type": "code",
   "execution_count": null,
   "metadata": {},
   "outputs": [],
   "source": []
  }
 ]
}