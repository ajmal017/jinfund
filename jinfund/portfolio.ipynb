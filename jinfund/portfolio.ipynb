{
 "nbformat": 4,
 "nbformat_minor": 2,
 "metadata": {
  "language_info": {
   "name": "python",
   "codemirror_mode": {
    "name": "ipython",
    "version": 3
   },
   "version": "3.7.6-final"
  },
  "orig_nbformat": 2,
  "file_extension": ".py",
  "mimetype": "text/x-python",
  "name": "python",
  "npconvert_exporter": "python",
  "pygments_lexer": "ipython3",
  "version": 3,
  "kernelspec": {
   "name": "python37664bitbaseconda7b9b13912e2340a5850e4c26b715291e",
   "display_name": "Python 3.7.6 64-bit ('base': conda)"
  }
 },
 "cells": [
  {
   "cell_type": "code",
   "execution_count": 1,
   "metadata": {},
   "outputs": [],
   "source": [
    "# System imports\n",
    "\n",
    "# Third-party imports\n",
    "import yfinance as yf\n",
    "\n",
    "# Local imports\n",
    "from portfolio import Portfolio\n",
    "import datehandler"
   ]
  },
  {
   "cell_type": "code",
   "execution_count": 2,
   "metadata": {},
   "outputs": [
    {
     "name": "stdout",
     "output_type": "stream",
     "text": "\n2016-07-06 QBE B 500.0 10.3199 2017-08-03\n2018-09-18 QBE S 537.0 11.012849162011172 2018-09-26\nFetching WOW corporate actions... Progress: 2/34WOW {'vol': 100.0, 'vwap': 28.999}\nWOW {'vol': 100.0, 'vwap': 28.999, 'div': 72.0}\nWOW {'vol': 100.0, 'vwap': 28.999}\nWOW {'vol': 100.0, 'vwap': 28.999, 'div': 44.0}\nWOW {'vol': 100.0, 'vwap': 28.999}\nWOW {'vol': 100.0, 'vwap': 28.999, 'div': 33.0}\nWOW {'vol': 100.0, 'vwap': 28.999}\nWOW {'vol': 100.0, 'vwap': 28.999, 'div': 34.0}\nWOW {'vol': 100.0, 'vwap': 28.999}\nWOW {'vol': 100.0, 'vwap': 28.999, 'div': 50.0}\nWOW {'vol': 100.0, 'vwap': 28.999}\nWOW {'vol': 100.0, 'vwap': 28.999, 'div': 43.0}\nWOW {'vol': 100.0, 'vwap': 28.999}\nWOW {'vol': 100.0, 'vwap': 28.999, 'div': 50.0}\nWOW {'vol': 100.0, 'vwap': 28.999}\nWOW {'vol': 100.0, 'vwap': 28.999, 'div': 45.0}\nWOW {'vol': 100.0, 'vwap': 28.999}\nWOW {'vol': 100.0, 'vwap': 28.999, 'div': 56.99999999999999}\nFetching RMD corporate actions... Progress: 3/34RMD {'vol': 300.0, 'vwap': 7.566}\nRMD {'vol': 300.0, 'vwap': 7.566, 'div': 9.9}\nRMD {'vol': 300.0, 'vwap': 7.566}\nRMD {'vol': 300.0, 'vwap': 7.566, 'div': 13.2}\nRMD {'vol': 300.0, 'vwap': 7.566}\nRMD {'vol': 300.0, 'vwap': 7.566, 'div': 10.500000000000002}\nRMD {'vol': 300.0, 'vwap': 7.566}\nRMD {'vol': 300.0, 'vwap': 7.566, 'div': 10.500000000000002}\nRMD {'vol': 300.0, 'vwap': 7.566}\nRMD {'vol': 300.0, 'vwap': 7.566, 'div': 10.500000000000002}\nRMD {'vol': 213.0, 'vwap': 14.224}\nRMD {'vol': 213.0, 'vwap': 14.224, 'div': 8.307}\nRMD {'vol': 213.0, 'vwap': 14.224}\nRMD {'vol': 213.0, 'vwap': 14.224, 'div': 8.307}\nFetching QBE corporate actions... Progress: 4/34QBE {'vol': 500.0, 'vwap': 10.32}\nQBE {'vol': 500.0, 'vwap': 10.32, 'div': 105.0}\nQBE {'vol': 500.0, 'vwap': 10.32}\nQBE {'vol': 500.0, 'vwap': 10.32, 'div': 165.0}\nQBE {'vol': 500.0, 'vwap': 10.32}\nQBE {'vol': 500.0, 'vwap': 10.32, 'div': 110.0}\nQBE {'vol': 500.0, 'vwap': 10.32}\nQBE {'vol': 500.0, 'vwap': 10.32, 'div': 20.0}\nQBE {'vol': 500.0, 'vwap': 10.32}\nQBE {'vol': 500.0, 'vwap': 10.32, 'div': 110.0}\nQBE {'vol': -37.0, 'vwap': 10.32}\nQBE {'vol': -37.0, 'vwap': 10.32, 'div': -10.360000000000001}\nQBE {'vol': -37.0, 'vwap': 10.32}\nQBE {'vol': -37.0, 'vwap': 10.32, 'div': -9.25}\nFetching SRS corporate actions... Progress: 10/34- SRS.AX: No data found, symbol may be delisted\nFetching OZL corporate actions... Progress: 11/34OZL {'vol': 103.0, 'vwap': 9.777}\nOZL {'vol': 103.0, 'vwap': 9.777, 'div': 8.24}\nOZL {'vol': 103.0, 'vwap': 9.777}\nOZL {'vol': 103.0, 'vwap': 9.777, 'div': 15.45}\nOZL {'vol': 0.0, 'vwap': 9.777}\nOZL {'vol': 0.0, 'vwap': 9.777, 'div': 0.0}\nFetching IMM corporate actions... Progress: 14/34IMM {'vol': 24414.0, 'vwap': 0.041}\nIMM {'vol': 2441.4, 'vwap': 0.41}\nFetching VRS corporate actions... Progress: 19/34VRS {'vol': 4448.0, 'vwap': 0.227}\nVRS {'vol': 4448.0, 'vwap': 0.227, 'div': 22.240000000000002}\n"
    }
   ],
   "source": [
    "portfolio = Portfolio()\n",
    "\n",
    "# portfolio.view()\n",
    "# portfolio.view('1/01/2016','7/1/2016')"
   ]
  },
  {
   "cell_type": "code",
   "execution_count": 8,
   "metadata": {},
   "outputs": [
    {
     "data": {
      "text/html": "<div>\n<style scoped>\n    .dataframe tbody tr th:only-of-type {\n        vertical-align: middle;\n    }\n\n    .dataframe tbody tr th {\n        vertical-align: top;\n    }\n\n    .dataframe thead th {\n        text-align: right;\n    }\n</style>\n<table border=\"1\" class=\"dataframe\">\n  <thead>\n    <tr style=\"text-align: right;\">\n      <th></th>\n      <th>Dividends</th>\n      <th>Stock Splits</th>\n    </tr>\n    <tr>\n      <th>Date</th>\n      <th></th>\n      <th></th>\n    </tr>\n  </thead>\n  <tbody>\n    <tr>\n      <th>2001-06-01</th>\n      <td>0.0</td>\n      <td>0.333333</td>\n    </tr>\n    <tr>\n      <th>2019-11-05</th>\n      <td>0.0</td>\n      <td>0.100000</td>\n    </tr>\n  </tbody>\n</table>\n</div>",
      "text/plain": "            Dividends  Stock Splits\nDate                               \n2001-06-01        0.0      0.333333\n2019-11-05        0.0      0.100000"
     },
     "execution_count": 8,
     "metadata": {},
     "output_type": "execute_result"
    }
   ],
   "source": [
    "stock = yf.Ticker('IMM.AX')\n",
    "stock.actions"
   ]
  },
  {
   "cell_type": "code",
   "execution_count": 9,
   "metadata": {},
   "outputs": [
    {
     "data": {
      "text/plain": "Date\n2019-11-15    {'vol': 24414.0, 'vwap': 0.041}\n2019-11-14    {'vol': 24414.0, 'vwap': 0.041}\n2019-11-13    {'vol': 24414.0, 'vwap': 0.041}\n2019-11-12    {'vol': 24414.0, 'vwap': 0.041}\n2019-11-11    {'vol': 24414.0, 'vwap': 0.041}\n2019-11-08    {'vol': 24414.0, 'vwap': 0.041}\n2019-11-07    {'vol': 24414.0, 'vwap': 0.041}\n2019-11-06    {'vol': 24414.0, 'vwap': 0.041}\n2019-11-05      {'vol': 2441.4, 'vwap': 0.41}\n2019-11-04    {'vol': 24414.0, 'vwap': 0.041}\nName: IMM, dtype: object"
     },
     "execution_count": 9,
     "metadata": {},
     "output_type": "execute_result"
    }
   ],
   "source": [
    "portfolio.view('2019-11-01','2019-11-15')['IMM']"
   ]
  }
 ]
}