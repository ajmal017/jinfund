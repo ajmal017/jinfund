{
 "nbformat": 4,
 "nbformat_minor": 2,
 "metadata": {
  "language_info": {
   "name": "python",
   "codemirror_mode": {
    "name": "ipython",
    "version": 3
   },
   "version": "3.7.6-final"
  },
  "orig_nbformat": 2,
  "file_extension": ".py",
  "mimetype": "text/x-python",
  "name": "python",
  "npconvert_exporter": "python",
  "pygments_lexer": "ipython3",
  "version": 3,
  "kernelspec": {
   "name": "python37664bitbaseconda7b9b13912e2340a5850e4c26b715291e",
   "display_name": "Python 3.7.6 64-bit ('base': conda)"
  }
 },
 "cells": [
  {
   "cell_type": "code",
   "execution_count": 1,
   "metadata": {},
   "outputs": [],
   "source": [
    "# System imports\n",
    "\n",
    "# Third-party imports\n",
    "\n",
    "# Local imports\n",
    "from portfolio import Portfolio\n",
    "import datehandler"
   ]
  },
  {
   "cell_type": "code",
   "execution_count": 2,
   "metadata": {},
   "outputs": [
    {
     "name": "stdout",
     "output_type": "stream",
     "text": "\nFetching SRS dividends... Progress: 10/34- SRS.AX: No data found, symbol may be delisted\nFetching WZR dividends... Progress: 34/34"
    }
   ],
   "source": [
    "portfolio = Portfolio()\n",
    "\n",
    "# portfolio.view()\n",
    "# portfolio.view('1/01/2016','7/1/2016')"
   ]
  },
  {
   "cell_type": "code",
   "execution_count": 3,
   "metadata": {},
   "outputs": [
    {
     "name": "stdout",
     "output_type": "stream",
     "text": "Hi there, 4"
    }
   ],
   "source": [
    "# df = portfolio.view('2019-05-01','2019-05-07')\n",
    "for i in range(5):\n",
    "    print(f'\\rHi there, {i}',end='', flush=True)"
   ]
  }
 ]
}