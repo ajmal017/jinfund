{
 "nbformat": 4,
 "nbformat_minor": 2,
 "metadata": {
  "language_info": {
   "name": "python",
   "codemirror_mode": {
    "name": "ipython",
    "version": 3
   },
   "version": "3.7.6-final"
  },
  "orig_nbformat": 2,
  "file_extension": ".py",
  "mimetype": "text/x-python",
  "name": "python",
  "npconvert_exporter": "python",
  "pygments_lexer": "ipython3",
  "version": 3,
  "kernelspec": {
   "name": "python37664bitbaseconda7b9b13912e2340a5850e4c26b715291e",
   "display_name": "Python 3.7.6 64-bit ('base': conda)"
  }
 },
 "cells": [
  {
   "cell_type": "code",
   "execution_count": 1,
   "metadata": {},
   "outputs": [],
   "source": [
    "# System imports\n",
    "from datetime import datetime\n",
    "import numpy as np\n",
    "\n",
    "# Third-party imports\n",
    "import yfinance as yf\n",
    "from pathlib import Path\n",
    "\n",
    "# Local imports\n",
    "from portfolio.holdings import Portfolio\n",
    "import datehandler\n",
    "from portfolio.commsec import Trades"
   ]
  },
  {
   "cell_type": "code",
   "execution_count": 2,
   "metadata": {},
   "outputs": [
    {
     "name": "stdout",
     "output_type": "stream",
     "text": "\n\nLatest portfolio loaded: 2020-01-21\n"
    }
   ],
   "source": [
    "portfolio = Portfolio()"
   ]
  },
  {
   "cell_type": "code",
   "execution_count": 3,
   "metadata": {},
   "outputs": [
    {
     "name": "stdout",
     "output_type": "stream",
     "text": "Time-weighted Average Return for IBXO over the period 2020-01-20 to 2020-01-20:\n\t30.00%\n"
    }
   ],
   "source": [
    "return_df, test_df = portfolio.returns(ticker='IBXO')"
   ]
  },
  {
   "cell_type": "code",
   "execution_count": 4,
   "metadata": {},
   "outputs": [
    {
     "data": {
      "text/plain": "Date\n2015-01-07    NaN\n2015-01-08    NaN\n2015-01-09    NaN\n2015-01-12    NaN\n2015-01-13    NaN\n             ... \n2020-01-15    NaN\n2020-01-16    NaN\n2020-01-17    NaN\n2020-01-20    1.3\n2020-01-21    NaN\nName: daily_return, Length: 1315, dtype: float64"
     },
     "execution_count": 4,
     "metadata": {},
     "output_type": "execute_result"
    }
   ],
   "source": [
    "return_df.cumprod()"
   ]
  },
  {
   "cell_type": "code",
   "execution_count": 5,
   "metadata": {},
   "outputs": [
    {
     "data": {
      "text/html": "<div>\n<style scoped>\n    .dataframe tbody tr th:only-of-type {\n        vertical-align: middle;\n    }\n\n    .dataframe tbody tr th {\n        vertical-align: top;\n    }\n\n    .dataframe thead th {\n        text-align: right;\n    }\n</style>\n<table border=\"1\" class=\"dataframe\">\n  <thead>\n    <tr style=\"text-align: right;\">\n      <th>Props</th>\n      <th>cashflow</th>\n      <th>daily_return</th>\n      <th>end_value</th>\n      <th>start_value</th>\n    </tr>\n    <tr>\n      <th>Date</th>\n      <th></th>\n      <th></th>\n      <th></th>\n      <th></th>\n    </tr>\n  </thead>\n  <tbody>\n    <tr>\n      <th>2015-01-07</th>\n      <td>NaN</td>\n      <td>NaN</td>\n      <td>NaN</td>\n      <td>0.000</td>\n    </tr>\n    <tr>\n      <th>2015-01-08</th>\n      <td>NaN</td>\n      <td>NaN</td>\n      <td>NaN</td>\n      <td>0.000</td>\n    </tr>\n    <tr>\n      <th>2015-01-09</th>\n      <td>NaN</td>\n      <td>NaN</td>\n      <td>NaN</td>\n      <td>0.000</td>\n    </tr>\n    <tr>\n      <th>2015-01-12</th>\n      <td>NaN</td>\n      <td>NaN</td>\n      <td>NaN</td>\n      <td>0.000</td>\n    </tr>\n    <tr>\n      <th>2015-01-13</th>\n      <td>NaN</td>\n      <td>NaN</td>\n      <td>NaN</td>\n      <td>0.000</td>\n    </tr>\n    <tr>\n      <th>...</th>\n      <td>...</td>\n      <td>...</td>\n      <td>...</td>\n      <td>...</td>\n    </tr>\n    <tr>\n      <th>2020-01-15</th>\n      <td>NaN</td>\n      <td>NaN</td>\n      <td>NaN</td>\n      <td>0.000</td>\n    </tr>\n    <tr>\n      <th>2020-01-16</th>\n      <td>1000.99</td>\n      <td>NaN</td>\n      <td>1000.990</td>\n      <td>0.000</td>\n    </tr>\n    <tr>\n      <th>2020-01-17</th>\n      <td>0.00</td>\n      <td>NaN</td>\n      <td>NaN</td>\n      <td>1000.990</td>\n    </tr>\n    <tr>\n      <th>2020-01-20</th>\n      <td>0.00</td>\n      <td>0.3</td>\n      <td>1301.287</td>\n      <td>1000.990</td>\n    </tr>\n    <tr>\n      <th>2020-01-21</th>\n      <td>0.00</td>\n      <td>NaN</td>\n      <td>NaN</td>\n      <td>1301.287</td>\n    </tr>\n  </tbody>\n</table>\n<p>1315 rows × 4 columns</p>\n</div>",
      "text/plain": "Props       cashflow  daily_return  end_value  start_value\nDate                                                      \n2015-01-07       NaN           NaN        NaN        0.000\n2015-01-08       NaN           NaN        NaN        0.000\n2015-01-09       NaN           NaN        NaN        0.000\n2015-01-12       NaN           NaN        NaN        0.000\n2015-01-13       NaN           NaN        NaN        0.000\n...              ...           ...        ...          ...\n2020-01-15       NaN           NaN        NaN        0.000\n2020-01-16   1000.99           NaN   1000.990        0.000\n2020-01-17      0.00           NaN        NaN     1000.990\n2020-01-20      0.00           0.3   1301.287     1000.990\n2020-01-21      0.00           NaN        NaN     1301.287\n\n[1315 rows x 4 columns]"
     },
     "execution_count": 5,
     "metadata": {},
     "output_type": "execute_result"
    }
   ],
   "source": [
    "test_df['IBXO']"
   ]
  }
 ]
}