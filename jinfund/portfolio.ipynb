{
 "nbformat": 4,
 "nbformat_minor": 2,
 "metadata": {
  "language_info": {
   "name": "python",
   "codemirror_mode": {
    "name": "ipython",
    "version": 3
   },
   "version": "3.7.6-final"
  },
  "orig_nbformat": 2,
  "file_extension": ".py",
  "mimetype": "text/x-python",
  "name": "python",
  "npconvert_exporter": "python",
  "pygments_lexer": "ipython3",
  "version": 3,
  "kernelspec": {
   "name": "python37664bitbaseconda7b9b13912e2340a5850e4c26b715291e",
   "display_name": "Python 3.7.6 64-bit ('base': conda)"
  }
 },
 "cells": [
  {
   "cell_type": "code",
   "execution_count": 1,
   "metadata": {},
   "outputs": [],
   "source": [
    "# System imports\n",
    "\n",
    "# Third-party imports\n",
    "import yfinance as yf\n",
    "\n",
    "# Local imports\n",
    "from portfolio import Portfolio\n",
    "import datehandler"
   ]
  },
  {
   "cell_type": "code",
   "execution_count": 2,
   "metadata": {},
   "outputs": [
    {
     "name": "stdout",
     "output_type": "stream",
     "text": "\nFetching FTT corporate actions...Progress: 13/34From cffi callback <function _verify_callback at 0x0000023B44DBC4C8>:\nTraceback (most recent call last):\n  File \"C:\\Users\\BobJin\\Anaconda3\\lib\\site-packages\\OpenSSL\\SSL.py\", line 311, in wrapper\n    @wraps(callback)\nKeyboardInterrupt\nFetching WZR corporate actions...Progress: 34/34"
    }
   ],
   "source": [
    "portfolio = Portfolio()\n",
    "\n",
    "# portfolio.view()\n",
    "# portfolio.view('1/01/2016','7/1/2016')"
   ]
  },
  {
   "cell_type": "code",
   "execution_count": 3,
   "metadata": {},
   "outputs": [
    {
     "data": {
      "text/html": "<div>\n<style scoped>\n    .dataframe tbody tr th:only-of-type {\n        vertical-align: middle;\n    }\n\n    .dataframe tbody tr th {\n        vertical-align: top;\n    }\n\n    .dataframe thead th {\n        text-align: right;\n    }\n</style>\n<table border=\"1\" class=\"dataframe\">\n  <thead>\n    <tr style=\"text-align: right;\">\n      <th></th>\n      <th>Dividends</th>\n      <th>Stock Splits</th>\n    </tr>\n    <tr>\n      <th>Date</th>\n      <th></th>\n      <th></th>\n    </tr>\n  </thead>\n  <tbody>\n    <tr>\n      <th>2001-06-01</th>\n      <td>0.0</td>\n      <td>0.333333</td>\n    </tr>\n    <tr>\n      <th>2019-11-05</th>\n      <td>0.0</td>\n      <td>0.100000</td>\n    </tr>\n  </tbody>\n</table>\n</div>",
      "text/plain": "            Dividends  Stock Splits\nDate                               \n2001-06-01        0.0      0.333333\n2019-11-05        0.0      0.100000"
     },
     "execution_count": 3,
     "metadata": {},
     "output_type": "execute_result"
    }
   ],
   "source": [
    "stock = yf.Ticker('IMM.AX')\n",
    "stock.actions"
   ]
  },
  {
   "cell_type": "code",
   "execution_count": 33,
   "metadata": {},
   "outputs": [
    {
     "name": "stdout",
     "output_type": "stream",
     "text": "Dividends  Stock Splits\nDate                               \n2001-06-01        0.0      0.333333\n2019-11-05        0.0      0.100000\nEmpty DataFrame\nColumns: [Dividends, Stock Splits]\nIndex: []\n            Dividends  Stock Splits\nDate                               \n2000-01-06        0.0      1.000000\n2002-11-01        0.0      0.333333\n2008-06-10        0.0      0.100000\nEmpty DataFrame\nColumns: [Dividends, Stock Splits]\nIndex: []\n"
    }
   ],
   "source": [
    "tickers = ['IMM','NAN','AVH','PNV']\n",
    "tickers = [f'{ticker}.AX' for ticker in tickers]\n",
    "tickers = ' '.join(tickers)\n",
    "\n",
    "tickers = yf.Tickers(tickers)\n",
    "for i in range(len(tickers.tickers)):\n",
    "    print(tickers.tickers[i].actions)\n",
    "\n",
    "# stocks = yf.download(' '.join(tickers), period='1y')\n",
    "# stocks"
   ]
  },
  {
   "cell_type": "code",
   "execution_count": null,
   "metadata": {},
   "outputs": [],
   "source": []
  }
 ]
}