{
 "nbformat": 4,
 "nbformat_minor": 2,
 "metadata": {
  "language_info": {
   "name": "python",
   "codemirror_mode": {
    "name": "ipython",
    "version": 3
   },
   "version": "3.7.6-final"
  },
  "orig_nbformat": 2,
  "file_extension": ".py",
  "mimetype": "text/x-python",
  "name": "python",
  "npconvert_exporter": "python",
  "pygments_lexer": "ipython3",
  "version": 3,
  "kernelspec": {
   "name": "python37664bitbaseconda7b9b13912e2340a5850e4c26b715291e",
   "display_name": "Python 3.7.6 64-bit ('base': conda)"
  }
 },
 "cells": [
  {
   "cell_type": "code",
   "execution_count": 1,
   "metadata": {},
   "outputs": [],
   "source": [
    "# System imports\n",
    "\n",
    "# Third-party imports\n",
    "\n",
    "# Local imports\n",
    "from portfolio import Portfolio"
   ]
  },
  {
   "cell_type": "code",
   "execution_count": 4,
   "metadata": {},
   "outputs": [
    {
     "name": "stdout",
     "output_type": "stream",
     "text": "\n\n"
    },
    {
     "data": {
      "text/html": "<div>\n<style scoped>\n    .dataframe tbody tr th:only-of-type {\n        vertical-align: middle;\n    }\n\n    .dataframe tbody tr th {\n        vertical-align: top;\n    }\n\n    .dataframe thead th {\n        text-align: right;\n    }\n</style>\n<table border=\"1\" class=\"dataframe\">\n  <thead>\n    <tr style=\"text-align: right;\">\n      <th></th>\n      <th>cash</th>\n      <th>NAN</th>\n      <th>WOW</th>\n      <th>RMD</th>\n      <th>QBE</th>\n      <th>A2M</th>\n      <th>PTX</th>\n      <th>IMU</th>\n      <th>BRN</th>\n      <th>RAP</th>\n      <th>...</th>\n      <th>OZL</th>\n      <th>OCC</th>\n      <th>FTT</th>\n      <th>IMM</th>\n      <th>ACW</th>\n      <th>AMT</th>\n      <th>AVZ</th>\n      <th>MSB</th>\n      <th>VRS</th>\n      <th>RWC</th>\n    </tr>\n  </thead>\n  <tbody>\n    <tr>\n      <th>2020-01-10</th>\n      <td>-34418.1</td>\n      <td>{'vol': 1500.0, 'vwap': 2.004}</td>\n      <td>{'vol': 100.0, 'vwap': 28.999}</td>\n      <td>{'vol': 213.0, 'vwap': 14.224}</td>\n      <td>{'vol': 500.0, 'vwap': 10.32}</td>\n      <td>{'vol': 0.0, 'vwap': 6.856}</td>\n      <td>{'vol': 21058.0, 'vwap': 0.096}</td>\n      <td>{'vol': 63116.0, 'vwap': 0.032}</td>\n      <td>{'vol': 13670.0, 'vwap': 0.148}</td>\n      <td>{'vol': 14372.0, 'vwap': 0.14}</td>\n      <td>...</td>\n      <td>{'vol': 103.0, 'vwap': 9.777}</td>\n      <td>{'vol': 2669.0, 'vwap': 0.379}</td>\n      <td>{'vol': 18199.0, 'vwap': 0.056}</td>\n      <td>{'vol': 24414.0, 'vwap': 0.041}</td>\n      <td>{'vol': 20019.0, 'vwap': 0.05}</td>\n      <td>{'vol': 25000.0, 'vwap': 0.121}</td>\n      <td>{'vol': 42459.0, 'vwap': 0.095}</td>\n      <td>{'vol': 676.0, 'vwap': 1.495}</td>\n      <td>{'vol': 4448.0, 'vwap': 0.227}</td>\n      <td>{'vol': 555.0, 'vwap': 5.446}</td>\n    </tr>\n    <tr>\n      <th>2020-01-09</th>\n      <td>-34418.1</td>\n      <td>{'vol': 1500.0, 'vwap': 2.004}</td>\n      <td>{'vol': 100.0, 'vwap': 28.999}</td>\n      <td>{'vol': 213.0, 'vwap': 14.224}</td>\n      <td>{'vol': 500.0, 'vwap': 10.32}</td>\n      <td>{'vol': 0.0, 'vwap': 6.856}</td>\n      <td>{'vol': 21058.0, 'vwap': 0.096}</td>\n      <td>{'vol': 63116.0, 'vwap': 0.032}</td>\n      <td>{'vol': 13670.0, 'vwap': 0.148}</td>\n      <td>{'vol': 14372.0, 'vwap': 0.14}</td>\n      <td>...</td>\n      <td>{'vol': 103.0, 'vwap': 9.777}</td>\n      <td>{'vol': 2669.0, 'vwap': 0.379}</td>\n      <td>{'vol': 18199.0, 'vwap': 0.056}</td>\n      <td>{'vol': 24414.0, 'vwap': 0.041}</td>\n      <td>{'vol': 20019.0, 'vwap': 0.05}</td>\n      <td>{'vol': 25000.0, 'vwap': 0.121}</td>\n      <td>{'vol': 42459.0, 'vwap': 0.095}</td>\n      <td>{'vol': 676.0, 'vwap': 1.495}</td>\n      <td>{'vol': 4448.0, 'vwap': 0.227}</td>\n      <td>{'vol': 555.0, 'vwap': 5.446}</td>\n    </tr>\n    <tr>\n      <th>2020-01-08</th>\n      <td>-34418.1</td>\n      <td>{'vol': 1500.0, 'vwap': 2.004}</td>\n      <td>{'vol': 100.0, 'vwap': 28.999}</td>\n      <td>{'vol': 213.0, 'vwap': 14.224}</td>\n      <td>{'vol': 500.0, 'vwap': 10.32}</td>\n      <td>{'vol': 0.0, 'vwap': 6.856}</td>\n      <td>{'vol': 21058.0, 'vwap': 0.096}</td>\n      <td>{'vol': 63116.0, 'vwap': 0.032}</td>\n      <td>{'vol': 13670.0, 'vwap': 0.148}</td>\n      <td>{'vol': 14372.0, 'vwap': 0.14}</td>\n      <td>...</td>\n      <td>{'vol': 103.0, 'vwap': 9.777}</td>\n      <td>{'vol': 2669.0, 'vwap': 0.379}</td>\n      <td>{'vol': 18199.0, 'vwap': 0.056}</td>\n      <td>{'vol': 24414.0, 'vwap': 0.041}</td>\n      <td>{'vol': 20019.0, 'vwap': 0.05}</td>\n      <td>{'vol': 25000.0, 'vwap': 0.121}</td>\n      <td>{'vol': 42459.0, 'vwap': 0.095}</td>\n      <td>{'vol': 676.0, 'vwap': 1.495}</td>\n      <td>{'vol': 4448.0, 'vwap': 0.227}</td>\n      <td>{'vol': 555.0, 'vwap': 5.446}</td>\n    </tr>\n    <tr>\n      <th>2020-01-07</th>\n      <td>-34418.1</td>\n      <td>{'vol': 1500.0, 'vwap': 2.004}</td>\n      <td>{'vol': 100.0, 'vwap': 28.999}</td>\n      <td>{'vol': 213.0, 'vwap': 14.224}</td>\n      <td>{'vol': 500.0, 'vwap': 10.32}</td>\n      <td>{'vol': 0.0, 'vwap': 6.856}</td>\n      <td>{'vol': 21058.0, 'vwap': 0.096}</td>\n      <td>{'vol': 63116.0, 'vwap': 0.032}</td>\n      <td>{'vol': 13670.0, 'vwap': 0.148}</td>\n      <td>{'vol': 14372.0, 'vwap': 0.14}</td>\n      <td>...</td>\n      <td>{'vol': 103.0, 'vwap': 9.777}</td>\n      <td>{'vol': 2669.0, 'vwap': 0.379}</td>\n      <td>{'vol': 18199.0, 'vwap': 0.056}</td>\n      <td>{'vol': 24414.0, 'vwap': 0.041}</td>\n      <td>{'vol': 20019.0, 'vwap': 0.05}</td>\n      <td>{'vol': 25000.0, 'vwap': 0.121}</td>\n      <td>{'vol': 42459.0, 'vwap': 0.095}</td>\n      <td>{'vol': 676.0, 'vwap': 1.495}</td>\n      <td>{'vol': 4448.0, 'vwap': 0.227}</td>\n      <td>{'vol': 555.0, 'vwap': 5.446}</td>\n    </tr>\n    <tr>\n      <th>2020-01-06</th>\n      <td>-34418.1</td>\n      <td>{'vol': 1500.0, 'vwap': 2.004}</td>\n      <td>{'vol': 100.0, 'vwap': 28.999}</td>\n      <td>{'vol': 213.0, 'vwap': 14.224}</td>\n      <td>{'vol': 500.0, 'vwap': 10.32}</td>\n      <td>{'vol': 0.0, 'vwap': 6.856}</td>\n      <td>{'vol': 21058.0, 'vwap': 0.096}</td>\n      <td>{'vol': 63116.0, 'vwap': 0.032}</td>\n      <td>{'vol': 13670.0, 'vwap': 0.148}</td>\n      <td>{'vol': 14372.0, 'vwap': 0.14}</td>\n      <td>...</td>\n      <td>{'vol': 103.0, 'vwap': 9.777}</td>\n      <td>{'vol': 2669.0, 'vwap': 0.379}</td>\n      <td>{'vol': 18199.0, 'vwap': 0.056}</td>\n      <td>{'vol': 24414.0, 'vwap': 0.041}</td>\n      <td>{'vol': 20019.0, 'vwap': 0.05}</td>\n      <td>{'vol': 25000.0, 'vwap': 0.121}</td>\n      <td>{'vol': 42459.0, 'vwap': 0.095}</td>\n      <td>{'vol': 676.0, 'vwap': 1.495}</td>\n      <td>{'vol': 4448.0, 'vwap': 0.227}</td>\n      <td>{'vol': 555.0, 'vwap': 5.446}</td>\n    </tr>\n  </tbody>\n</table>\n<p>5 rows × 21 columns</p>\n</div>",
      "text/plain": "               cash                             NAN  \\\n2020-01-10 -34418.1  {'vol': 1500.0, 'vwap': 2.004}   \n2020-01-09 -34418.1  {'vol': 1500.0, 'vwap': 2.004}   \n2020-01-08 -34418.1  {'vol': 1500.0, 'vwap': 2.004}   \n2020-01-07 -34418.1  {'vol': 1500.0, 'vwap': 2.004}   \n2020-01-06 -34418.1  {'vol': 1500.0, 'vwap': 2.004}   \n\n                                       WOW                             RMD  \\\n2020-01-10  {'vol': 100.0, 'vwap': 28.999}  {'vol': 213.0, 'vwap': 14.224}   \n2020-01-09  {'vol': 100.0, 'vwap': 28.999}  {'vol': 213.0, 'vwap': 14.224}   \n2020-01-08  {'vol': 100.0, 'vwap': 28.999}  {'vol': 213.0, 'vwap': 14.224}   \n2020-01-07  {'vol': 100.0, 'vwap': 28.999}  {'vol': 213.0, 'vwap': 14.224}   \n2020-01-06  {'vol': 100.0, 'vwap': 28.999}  {'vol': 213.0, 'vwap': 14.224}   \n\n                                      QBE                          A2M  \\\n2020-01-10  {'vol': 500.0, 'vwap': 10.32}  {'vol': 0.0, 'vwap': 6.856}   \n2020-01-09  {'vol': 500.0, 'vwap': 10.32}  {'vol': 0.0, 'vwap': 6.856}   \n2020-01-08  {'vol': 500.0, 'vwap': 10.32}  {'vol': 0.0, 'vwap': 6.856}   \n2020-01-07  {'vol': 500.0, 'vwap': 10.32}  {'vol': 0.0, 'vwap': 6.856}   \n2020-01-06  {'vol': 500.0, 'vwap': 10.32}  {'vol': 0.0, 'vwap': 6.856}   \n\n                                        PTX                              IMU  \\\n2020-01-10  {'vol': 21058.0, 'vwap': 0.096}  {'vol': 63116.0, 'vwap': 0.032}   \n2020-01-09  {'vol': 21058.0, 'vwap': 0.096}  {'vol': 63116.0, 'vwap': 0.032}   \n2020-01-08  {'vol': 21058.0, 'vwap': 0.096}  {'vol': 63116.0, 'vwap': 0.032}   \n2020-01-07  {'vol': 21058.0, 'vwap': 0.096}  {'vol': 63116.0, 'vwap': 0.032}   \n2020-01-06  {'vol': 21058.0, 'vwap': 0.096}  {'vol': 63116.0, 'vwap': 0.032}   \n\n                                        BRN                             RAP  \\\n2020-01-10  {'vol': 13670.0, 'vwap': 0.148}  {'vol': 14372.0, 'vwap': 0.14}   \n2020-01-09  {'vol': 13670.0, 'vwap': 0.148}  {'vol': 14372.0, 'vwap': 0.14}   \n2020-01-08  {'vol': 13670.0, 'vwap': 0.148}  {'vol': 14372.0, 'vwap': 0.14}   \n2020-01-07  {'vol': 13670.0, 'vwap': 0.148}  {'vol': 14372.0, 'vwap': 0.14}   \n2020-01-06  {'vol': 13670.0, 'vwap': 0.148}  {'vol': 14372.0, 'vwap': 0.14}   \n\n            ...                            OZL  \\\n2020-01-10  ...  {'vol': 103.0, 'vwap': 9.777}   \n2020-01-09  ...  {'vol': 103.0, 'vwap': 9.777}   \n2020-01-08  ...  {'vol': 103.0, 'vwap': 9.777}   \n2020-01-07  ...  {'vol': 103.0, 'vwap': 9.777}   \n2020-01-06  ...  {'vol': 103.0, 'vwap': 9.777}   \n\n                                       OCC                              FTT  \\\n2020-01-10  {'vol': 2669.0, 'vwap': 0.379}  {'vol': 18199.0, 'vwap': 0.056}   \n2020-01-09  {'vol': 2669.0, 'vwap': 0.379}  {'vol': 18199.0, 'vwap': 0.056}   \n2020-01-08  {'vol': 2669.0, 'vwap': 0.379}  {'vol': 18199.0, 'vwap': 0.056}   \n2020-01-07  {'vol': 2669.0, 'vwap': 0.379}  {'vol': 18199.0, 'vwap': 0.056}   \n2020-01-06  {'vol': 2669.0, 'vwap': 0.379}  {'vol': 18199.0, 'vwap': 0.056}   \n\n                                        IMM                             ACW  \\\n2020-01-10  {'vol': 24414.0, 'vwap': 0.041}  {'vol': 20019.0, 'vwap': 0.05}   \n2020-01-09  {'vol': 24414.0, 'vwap': 0.041}  {'vol': 20019.0, 'vwap': 0.05}   \n2020-01-08  {'vol': 24414.0, 'vwap': 0.041}  {'vol': 20019.0, 'vwap': 0.05}   \n2020-01-07  {'vol': 24414.0, 'vwap': 0.041}  {'vol': 20019.0, 'vwap': 0.05}   \n2020-01-06  {'vol': 24414.0, 'vwap': 0.041}  {'vol': 20019.0, 'vwap': 0.05}   \n\n                                        AMT                              AVZ  \\\n2020-01-10  {'vol': 25000.0, 'vwap': 0.121}  {'vol': 42459.0, 'vwap': 0.095}   \n2020-01-09  {'vol': 25000.0, 'vwap': 0.121}  {'vol': 42459.0, 'vwap': 0.095}   \n2020-01-08  {'vol': 25000.0, 'vwap': 0.121}  {'vol': 42459.0, 'vwap': 0.095}   \n2020-01-07  {'vol': 25000.0, 'vwap': 0.121}  {'vol': 42459.0, 'vwap': 0.095}   \n2020-01-06  {'vol': 25000.0, 'vwap': 0.121}  {'vol': 42459.0, 'vwap': 0.095}   \n\n                                      MSB                             VRS  \\\n2020-01-10  {'vol': 676.0, 'vwap': 1.495}  {'vol': 4448.0, 'vwap': 0.227}   \n2020-01-09  {'vol': 676.0, 'vwap': 1.495}  {'vol': 4448.0, 'vwap': 0.227}   \n2020-01-08  {'vol': 676.0, 'vwap': 1.495}  {'vol': 4448.0, 'vwap': 0.227}   \n2020-01-07  {'vol': 676.0, 'vwap': 1.495}  {'vol': 4448.0, 'vwap': 0.227}   \n2020-01-06  {'vol': 676.0, 'vwap': 1.495}  {'vol': 4448.0, 'vwap': 0.227}   \n\n                                      RWC  \n2020-01-10  {'vol': 555.0, 'vwap': 5.446}  \n2020-01-09  {'vol': 555.0, 'vwap': 5.446}  \n2020-01-08  {'vol': 555.0, 'vwap': 5.446}  \n2020-01-07  {'vol': 555.0, 'vwap': 5.446}  \n2020-01-06  {'vol': 555.0, 'vwap': 5.446}  \n\n[5 rows x 21 columns]"
     },
     "execution_count": 4,
     "metadata": {},
     "output_type": "execute_result"
    }
   ],
   "source": [
    "portfolio = Portfolio()\n",
    "\n",
    "# portfolio.add_divs('JMS')\n",
    "portfolio.view('5/1/2020','10/1/2020')\n",
    "# portfolio.daily_holdings"
   ]
  }
 ]
}