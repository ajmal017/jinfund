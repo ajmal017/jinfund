{
 "nbformat": 4,
 "nbformat_minor": 2,
 "metadata": {
  "language_info": {
   "name": "python",
   "codemirror_mode": {
    "name": "ipython",
    "version": 3
   },
   "version": "3.7.6-final"
  },
  "orig_nbformat": 2,
  "file_extension": ".py",
  "mimetype": "text/x-python",
  "name": "python",
  "npconvert_exporter": "python",
  "pygments_lexer": "ipython3",
  "version": 3,
  "kernelspec": {
   "name": "python3",
   "display_name": "Python 3"
  }
 },
 "cells": [
  {
   "cell_type": "code",
   "execution_count": 5,
   "metadata": {},
   "outputs": [
    {
     "output_type": "stream",
     "name": "stdout",
     "text": "SRS\n"
    },
    {
     "output_type": "execute_result",
     "data": {
      "text/plain": "                   Volume  TradePrice  EffectivePrice  Brokerage  \\\nType  Date                                                         \nBuys  2018-05-15  30333.0       0.033        0.033330        0.0   \nSells 2018-07-19 -30333.0       0.038        0.037342       20.0   \n\n                  Pro-rate_brokerage  \nType  Date                            \nBuys  2018-05-15                10.0  \nSells 2018-07-19                 NaN  ",
      "text/html": "<div>\n<style scoped>\n    .dataframe tbody tr th:only-of-type {\n        vertical-align: middle;\n    }\n\n    .dataframe tbody tr th {\n        vertical-align: top;\n    }\n\n    .dataframe thead th {\n        text-align: right;\n    }\n</style>\n<table border=\"1\" class=\"dataframe\">\n  <thead>\n    <tr style=\"text-align: right;\">\n      <th></th>\n      <th></th>\n      <th>Volume</th>\n      <th>TradePrice</th>\n      <th>EffectivePrice</th>\n      <th>Brokerage</th>\n      <th>Pro-rate_brokerage</th>\n    </tr>\n    <tr>\n      <th>Type</th>\n      <th>Date</th>\n      <th></th>\n      <th></th>\n      <th></th>\n      <th></th>\n      <th></th>\n    </tr>\n  </thead>\n  <tbody>\n    <tr>\n      <th>Buys</th>\n      <th>2018-05-15</th>\n      <td>30333.0</td>\n      <td>0.033</td>\n      <td>0.033330</td>\n      <td>0.0</td>\n      <td>10.0</td>\n    </tr>\n    <tr>\n      <th>Sells</th>\n      <th>2018-07-19</th>\n      <td>-30333.0</td>\n      <td>0.038</td>\n      <td>0.037342</td>\n      <td>20.0</td>\n      <td>NaN</td>\n    </tr>\n  </tbody>\n</table>\n</div>"
     },
     "metadata": {},
     "execution_count": 5
    }
   ],
   "source": [
    "import pandas as pd\n",
    "from datetime import datetime\n",
    "\n",
    "from analysis.tax import AutoTax\n",
    "\n",
    "t = AutoTax()\n",
    "t.ticker_detail('SRS')"
   ]
  },
  {
   "cell_type": "code",
   "execution_count": null,
   "metadata": {},
   "outputs": [],
   "source": []
  }
 ]
}