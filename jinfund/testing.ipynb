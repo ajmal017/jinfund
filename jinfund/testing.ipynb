{
 "nbformat": 4,
 "nbformat_minor": 2,
 "metadata": {
  "language_info": {
   "name": "python",
   "codemirror_mode": {
    "name": "ipython",
    "version": 3
   },
   "version": "3.7.6-final"
  },
  "orig_nbformat": 2,
  "file_extension": ".py",
  "mimetype": "text/x-python",
  "name": "python",
  "npconvert_exporter": "python",
  "pygments_lexer": "ipython3",
  "version": 3,
  "kernelspec": {
   "name": "python3",
   "display_name": "Python 3"
  }
 },
 "cells": [
  {
   "cell_type": "code",
   "execution_count": 1,
   "metadata": {},
   "outputs": [
    {
     "output_type": "stream",
     "name": "stdout",
     "text": "Saved to csv!\n"
    }
   ],
   "source": [
    "import pandas as pd\n",
    "from analysis.tax import AutoTax\n",
    "\n",
    "t = AutoTax()\n",
    "t.report()"
   ]
  },
  {
   "cell_type": "code",
   "execution_count": 1,
   "metadata": {},
   "outputs": [
    {
     "output_type": "execute_result",
     "data": {
      "text/plain": "           Market  Volume  TradePrice  EffectivePrice  Brokerage  Scrip\nDate                                                                   \n2016-07-06    ASX   500.0       10.28       10.319900       20.0    NaN\n2016-09-28    ASX    11.0        9.79        9.790000        0.0    1.0\n2017-04-13    ASX    13.0       12.81       12.810000        0.0    1.0\n2017-09-29    ASX    11.0       10.28       10.280000        0.0    1.0\n2018-04-20    ASX     2.0        9.73        9.730000        0.0    1.0\n2018-09-18    ASX  -537.0       11.05       11.012849       20.0    NaN\n2018-10-05    ASX    11.0       10.94       10.940000        0.0    1.0",
      "text/html": "<div>\n<style scoped>\n    .dataframe tbody tr th:only-of-type {\n        vertical-align: middle;\n    }\n\n    .dataframe tbody tr th {\n        vertical-align: top;\n    }\n\n    .dataframe thead th {\n        text-align: right;\n    }\n</style>\n<table border=\"1\" class=\"dataframe\">\n  <thead>\n    <tr style=\"text-align: right;\">\n      <th></th>\n      <th>Market</th>\n      <th>Volume</th>\n      <th>TradePrice</th>\n      <th>EffectivePrice</th>\n      <th>Brokerage</th>\n      <th>Scrip</th>\n    </tr>\n    <tr>\n      <th>Date</th>\n      <th></th>\n      <th></th>\n      <th></th>\n      <th></th>\n      <th></th>\n      <th></th>\n    </tr>\n  </thead>\n  <tbody>\n    <tr>\n      <th>2016-07-06</th>\n      <td>ASX</td>\n      <td>500.0</td>\n      <td>10.28</td>\n      <td>10.319900</td>\n      <td>20.0</td>\n      <td>NaN</td>\n    </tr>\n    <tr>\n      <th>2016-09-28</th>\n      <td>ASX</td>\n      <td>11.0</td>\n      <td>9.79</td>\n      <td>9.790000</td>\n      <td>0.0</td>\n      <td>1.0</td>\n    </tr>\n    <tr>\n      <th>2017-04-13</th>\n      <td>ASX</td>\n      <td>13.0</td>\n      <td>12.81</td>\n      <td>12.810000</td>\n      <td>0.0</td>\n      <td>1.0</td>\n    </tr>\n    <tr>\n      <th>2017-09-29</th>\n      <td>ASX</td>\n      <td>11.0</td>\n      <td>10.28</td>\n      <td>10.280000</td>\n      <td>0.0</td>\n      <td>1.0</td>\n    </tr>\n    <tr>\n      <th>2018-04-20</th>\n      <td>ASX</td>\n      <td>2.0</td>\n      <td>9.73</td>\n      <td>9.730000</td>\n      <td>0.0</td>\n      <td>1.0</td>\n    </tr>\n    <tr>\n      <th>2018-09-18</th>\n      <td>ASX</td>\n      <td>-537.0</td>\n      <td>11.05</td>\n      <td>11.012849</td>\n      <td>20.0</td>\n      <td>NaN</td>\n    </tr>\n    <tr>\n      <th>2018-10-05</th>\n      <td>ASX</td>\n      <td>11.0</td>\n      <td>10.94</td>\n      <td>10.940000</td>\n      <td>0.0</td>\n      <td>1.0</td>\n    </tr>\n  </tbody>\n</table>\n</div>"
     },
     "metadata": {},
     "execution_count": 1
    }
   ],
   "source": [
    "from portfolio.transactions import Transactions\n",
    "\n",
    "t = Transactions().tx_df\n",
    "t.xs('QBE',level=1,axis=0).sort_values(['Date','Volume'],ascending=[True,False])"
   ]
  },
  {
   "cell_type": "code",
   "execution_count": 35,
   "metadata": {},
   "outputs": [
    {
     "output_type": "execute_result",
     "data": {
      "text/plain": "        Date  Volume  TradePrice  EffectivePrice  Brokerage\n0 2019-09-27    27.0       0.640        0.640000        0.0\n1 2018-09-27  1740.0       0.575        0.580747       10.0",
      "text/html": "<div>\n<style scoped>\n    .dataframe tbody tr th:only-of-type {\n        vertical-align: middle;\n    }\n\n    .dataframe tbody tr th {\n        vertical-align: top;\n    }\n\n    .dataframe thead th {\n        text-align: right;\n    }\n</style>\n<table border=\"1\" class=\"dataframe\">\n  <thead>\n    <tr style=\"text-align: right;\">\n      <th></th>\n      <th>Date</th>\n      <th>Volume</th>\n      <th>TradePrice</th>\n      <th>EffectivePrice</th>\n      <th>Brokerage</th>\n    </tr>\n  </thead>\n  <tbody>\n    <tr>\n      <th>0</th>\n      <td>2019-09-27</td>\n      <td>27.0</td>\n      <td>0.640</td>\n      <td>0.640000</td>\n      <td>0.0</td>\n    </tr>\n    <tr>\n      <th>1</th>\n      <td>2018-09-27</td>\n      <td>1740.0</td>\n      <td>0.575</td>\n      <td>0.580747</td>\n      <td>10.0</td>\n    </tr>\n  </tbody>\n</table>\n</div>"
     },
     "metadata": {},
     "execution_count": 35
    }
   ],
   "source": [
    "import itertools\n",
    "data = (df['buy_parcels'].to_list())\n",
    "for d in data:\n",
    "    if len(d) > 1:\n",
    "        t = d\n",
    "        break\n",
    "t\n",
    "pd.DataFrame(t)"
   ]
  },
  {
   "cell_type": "code",
   "execution_count": null,
   "metadata": {},
   "outputs": [],
   "source": []
  }
 ]
}