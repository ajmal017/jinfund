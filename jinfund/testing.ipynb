{
 "nbformat": 4,
 "nbformat_minor": 2,
 "metadata": {
  "language_info": {
   "name": "python",
   "codemirror_mode": {
    "name": "ipython",
    "version": 3
   },
   "version": "3.7.6-final"
  },
  "orig_nbformat": 2,
  "file_extension": ".py",
  "mimetype": "text/x-python",
  "name": "python",
  "npconvert_exporter": "python",
  "pygments_lexer": "ipython3",
  "version": 3,
  "kernelspec": {
   "name": "python3",
   "display_name": "Python 3"
  }
 },
 "cells": [
  {
   "cell_type": "code",
   "execution_count": 1,
   "metadata": {},
   "outputs": [],
   "source": [
    "import pandas as pd\n",
    "from datetime import datetime\n",
    "\n",
    "from analysis.tax import AutoTax\n",
    "\n",
    "t = AutoTax()\n",
    "# t.report()"
   ]
  },
  {
   "cell_type": "code",
   "execution_count": 65,
   "metadata": {},
   "outputs": [
    {
     "output_type": "execute_result",
     "data": {
      "text/plain": "           ticker   volume           cg          cgt  \\\ndate                                                   \n2018-09-17    A2M   -300.0  1302.000046  1262.000046   \n2018-09-26    AMT -25000.0   750.000216   710.000216   \n2020-01-10    AVH  -1551.0   868.559969   422.962899   \n2020-03-23   BBOZ    -46.0   197.800009   177.800009   \n2020-03-13   BBUS  -1500.0   795.000315   755.000315   \n2020-03-16   BBUS  -2000.0  1300.000191  1250.000191   \n2020-03-17   BBUS  -1785.0 -1070.999830 -1110.999830   \n2020-03-23   BBUS  -1818.0  2272.500000  2222.500000   \n2019-11-19    EHE   -420.0   176.399932    58.199966   \n2020-01-14    IFN  -1767.0   186.615034    43.847517   \n2018-09-26    MSB   -676.0   283.919971   253.919971   \n2018-06-08    NAN  -1500.0  1078.950047  1043.950047   \n2019-08-28    NAN   -473.0  1910.588883   930.564442   \n2019-06-26    OZL   -103.0    37.359916   -11.320042   \n2019-11-27    PTX  -7699.0   377.250961   172.395508   \n2020-03-26    QAN   -345.0   175.949997   145.949997   \n2018-09-18    QBE   -537.0   415.580253    81.905129   \n2018-05-15    RMD    -73.0   442.380031   206.323349   \n2018-06-21    RMD   -227.0  1613.969922   771.851628   \n2018-07-19    SRS -30333.0   151.664968   121.664968   \n2020-03-26    TWE   -107.0    89.880016    59.880016   \n2020-03-26    UCM  -4352.0   304.640034   274.640034   \n2020-01-10    VRS  -4553.0  -748.362959  -778.362959   \n2019-11-19    WOW    -52.0   642.439948   190.819974   \n2020-02-18    ZNO  -2173.0  4563.299890  4538.957364   \n2020-03-26    ZNO   -654.0   256.695028   229.246281   \n\n                                                  buy_parcels  \\\ndate                                                            \n2018-09-17  [{'Date': 2017-11-01 00:00:00, 'Volume': 300.0...   \n2018-09-26  [{'Date': 2018-06-20 00:00:00, 'Volume': 25000...   \n2020-01-10  [{'Date': 2018-11-06 00:00:00, 'Volume': 11776...   \n2020-03-23  [{'Date': 2020-03-20 00:00:00, 'Volume': 46.0,...   \n2020-03-13  [{'Date': 2020-03-12 00:00:00, 'Volume': 1500....   \n2020-03-16  [{'Date': 2020-03-16 00:00:00, 'Volume': 2000....   \n2020-03-17  [{'Date': 2020-03-17 00:00:00, 'Volume': 1785....   \n2020-03-23  [{'Date': 2020-03-19 00:00:00, 'Volume': 1818....   \n2019-11-19  [{'Date': 2018-09-28 00:00:00, 'Volume': 420.0...   \n2020-01-14  [{'Date': 2019-09-27 00:00:00, 'Volume': 27.0,...   \n2018-09-26  [{'Date': 2018-06-29 00:00:00, 'Volume': 676.0...   \n2018-06-08  [{'Date': 2017-08-03 00:00:00, 'Volume': 2000....   \n2019-08-28  [{'Date': 2017-08-03 00:00:00, 'Volume': 500.0...   \n2019-06-26  [{'Date': 2018-05-28 00:00:00, 'Volume': 103.0...   \n2019-11-27  [{'Date': 2018-08-14 00:00:00, 'Volume': 12358...   \n2020-03-26  [{'Date': 2020-03-17 00:00:00, 'Volume': 345.0...   \n2018-09-18  [{'Date': 2018-04-20 00:00:00, 'Volume': 2.0, ...   \n2018-05-15  [{'Date': 2016-04-28 00:00:00, 'Volume': 300.0...   \n2018-06-21  [{'Date': 2016-04-28 00:00:00, 'Volume': 227.0...   \n2018-07-19  [{'Date': 2018-05-15 00:00:00, 'Volume': 30333...   \n2020-03-26  [{'Date': 2020-03-09 00:00:00, 'Volume': 107.0...   \n2020-03-26  [{'Date': 2020-03-19 00:00:00, 'Volume': 4352....   \n2020-01-10  [{'Date': 2018-09-25 00:00:00, 'Volume': 105.0...   \n2019-11-19  [{'Date': 2018-10-12 00:00:00, 'Volume': 2.0, ...   \n2020-02-18  [{'Date': 2019-05-14 00:00:00, 'Volume': 5004....   \n2020-03-26  [{'Date': 2020-03-23 00:00:00, 'Volume': 878.0...   \n\n                                                  sell_parcel  \ndate                                                           \n2018-09-17  {'Date': 2018-09-17 00:00:00, 'Volume': -300.0...  \n2018-09-26  {'Date': 2018-09-26 00:00:00, 'Volume': -25000...  \n2020-01-10  {'Date': 2020-01-10 00:00:00, 'Volume': -1551....  \n2020-03-23  {'Date': 2020-03-23 00:00:00, 'Volume': -46.0,...  \n2020-03-13  {'Date': 2020-03-13 00:00:00, 'Volume': -1500....  \n2020-03-16  {'Date': 2020-03-16 00:00:00, 'Volume': -2000....  \n2020-03-17  {'Date': 2020-03-17 00:00:00, 'Volume': -1785....  \n2020-03-23  {'Date': 2020-03-23 00:00:00, 'Volume': -1818....  \n2019-11-19  {'Date': 2019-11-19 00:00:00, 'Volume': -420.0...  \n2020-01-14  {'Date': 2020-01-14 00:00:00, 'Volume': -1767....  \n2018-09-26  {'Date': 2018-09-26 00:00:00, 'Volume': -676.0...  \n2018-06-08  {'Date': 2018-06-08 00:00:00, 'Volume': -1500....  \n2019-08-28  {'Date': 2019-08-28 00:00:00, 'Volume': -473.0...  \n2019-06-26  {'Date': 2019-06-26 00:00:00, 'Volume': -103.0...  \n2019-11-27  {'Date': 2019-11-27 00:00:00, 'Volume': -7699....  \n2020-03-26  {'Date': 2020-03-26 00:00:00, 'Volume': -345.0...  \n2018-09-18  {'Date': 2018-09-18 00:00:00, 'Volume': -537.0...  \n2018-05-15  {'Date': 2018-05-15 00:00:00, 'Volume': -73.0,...  \n2018-06-21  {'Date': 2018-06-21 00:00:00, 'Volume': -227.0...  \n2018-07-19  {'Date': 2018-07-19 00:00:00, 'Volume': -30333...  \n2020-03-26  {'Date': 2020-03-26 00:00:00, 'Volume': -107.0...  \n2020-03-26  {'Date': 2020-03-26 00:00:00, 'Volume': -4352....  \n2020-01-10  {'Date': 2020-01-10 00:00:00, 'Volume': -4553....  \n2019-11-19  {'Date': 2019-11-19 00:00:00, 'Volume': -52.0,...  \n2020-02-18  {'Date': 2020-02-18 00:00:00, 'Volume': -2173....  \n2020-03-26  {'Date': 2020-03-26 00:00:00, 'Volume': -654.0...  ",
      "text/html": "<div>\n<style scoped>\n    .dataframe tbody tr th:only-of-type {\n        vertical-align: middle;\n    }\n\n    .dataframe tbody tr th {\n        vertical-align: top;\n    }\n\n    .dataframe thead th {\n        text-align: right;\n    }\n</style>\n<table border=\"1\" class=\"dataframe\">\n  <thead>\n    <tr style=\"text-align: right;\">\n      <th></th>\n      <th>ticker</th>\n      <th>volume</th>\n      <th>cg</th>\n      <th>cgt</th>\n      <th>buy_parcels</th>\n      <th>sell_parcel</th>\n    </tr>\n    <tr>\n      <th>date</th>\n      <th></th>\n      <th></th>\n      <th></th>\n      <th></th>\n      <th></th>\n      <th></th>\n    </tr>\n  </thead>\n  <tbody>\n    <tr>\n      <th>2018-09-17</th>\n      <td>A2M</td>\n      <td>-300.0</td>\n      <td>1302.000046</td>\n      <td>1262.000046</td>\n      <td>[{'Date': 2017-11-01 00:00:00, 'Volume': 300.0...</td>\n      <td>{'Date': 2018-09-17 00:00:00, 'Volume': -300.0...</td>\n    </tr>\n    <tr>\n      <th>2018-09-26</th>\n      <td>AMT</td>\n      <td>-25000.0</td>\n      <td>750.000216</td>\n      <td>710.000216</td>\n      <td>[{'Date': 2018-06-20 00:00:00, 'Volume': 25000...</td>\n      <td>{'Date': 2018-09-26 00:00:00, 'Volume': -25000...</td>\n    </tr>\n    <tr>\n      <th>2020-01-10</th>\n      <td>AVH</td>\n      <td>-1551.0</td>\n      <td>868.559969</td>\n      <td>422.962899</td>\n      <td>[{'Date': 2018-11-06 00:00:00, 'Volume': 11776...</td>\n      <td>{'Date': 2020-01-10 00:00:00, 'Volume': -1551....</td>\n    </tr>\n    <tr>\n      <th>2020-03-23</th>\n      <td>BBOZ</td>\n      <td>-46.0</td>\n      <td>197.800009</td>\n      <td>177.800009</td>\n      <td>[{'Date': 2020-03-20 00:00:00, 'Volume': 46.0,...</td>\n      <td>{'Date': 2020-03-23 00:00:00, 'Volume': -46.0,...</td>\n    </tr>\n    <tr>\n      <th>2020-03-13</th>\n      <td>BBUS</td>\n      <td>-1500.0</td>\n      <td>795.000315</td>\n      <td>755.000315</td>\n      <td>[{'Date': 2020-03-12 00:00:00, 'Volume': 1500....</td>\n      <td>{'Date': 2020-03-13 00:00:00, 'Volume': -1500....</td>\n    </tr>\n    <tr>\n      <th>2020-03-16</th>\n      <td>BBUS</td>\n      <td>-2000.0</td>\n      <td>1300.000191</td>\n      <td>1250.000191</td>\n      <td>[{'Date': 2020-03-16 00:00:00, 'Volume': 2000....</td>\n      <td>{'Date': 2020-03-16 00:00:00, 'Volume': -2000....</td>\n    </tr>\n    <tr>\n      <th>2020-03-17</th>\n      <td>BBUS</td>\n      <td>-1785.0</td>\n      <td>-1070.999830</td>\n      <td>-1110.999830</td>\n      <td>[{'Date': 2020-03-17 00:00:00, 'Volume': 1785....</td>\n      <td>{'Date': 2020-03-17 00:00:00, 'Volume': -1785....</td>\n    </tr>\n    <tr>\n      <th>2020-03-23</th>\n      <td>BBUS</td>\n      <td>-1818.0</td>\n      <td>2272.500000</td>\n      <td>2222.500000</td>\n      <td>[{'Date': 2020-03-19 00:00:00, 'Volume': 1818....</td>\n      <td>{'Date': 2020-03-23 00:00:00, 'Volume': -1818....</td>\n    </tr>\n    <tr>\n      <th>2019-11-19</th>\n      <td>EHE</td>\n      <td>-420.0</td>\n      <td>176.399932</td>\n      <td>58.199966</td>\n      <td>[{'Date': 2018-09-28 00:00:00, 'Volume': 420.0...</td>\n      <td>{'Date': 2019-11-19 00:00:00, 'Volume': -420.0...</td>\n    </tr>\n    <tr>\n      <th>2020-01-14</th>\n      <td>IFN</td>\n      <td>-1767.0</td>\n      <td>186.615034</td>\n      <td>43.847517</td>\n      <td>[{'Date': 2019-09-27 00:00:00, 'Volume': 27.0,...</td>\n      <td>{'Date': 2020-01-14 00:00:00, 'Volume': -1767....</td>\n    </tr>\n    <tr>\n      <th>2018-09-26</th>\n      <td>MSB</td>\n      <td>-676.0</td>\n      <td>283.919971</td>\n      <td>253.919971</td>\n      <td>[{'Date': 2018-06-29 00:00:00, 'Volume': 676.0...</td>\n      <td>{'Date': 2018-09-26 00:00:00, 'Volume': -676.0...</td>\n    </tr>\n    <tr>\n      <th>2018-06-08</th>\n      <td>NAN</td>\n      <td>-1500.0</td>\n      <td>1078.950047</td>\n      <td>1043.950047</td>\n      <td>[{'Date': 2017-08-03 00:00:00, 'Volume': 2000....</td>\n      <td>{'Date': 2018-06-08 00:00:00, 'Volume': -1500....</td>\n    </tr>\n    <tr>\n      <th>2019-08-28</th>\n      <td>NAN</td>\n      <td>-473.0</td>\n      <td>1910.588883</td>\n      <td>930.564442</td>\n      <td>[{'Date': 2017-08-03 00:00:00, 'Volume': 500.0...</td>\n      <td>{'Date': 2019-08-28 00:00:00, 'Volume': -473.0...</td>\n    </tr>\n    <tr>\n      <th>2019-06-26</th>\n      <td>OZL</td>\n      <td>-103.0</td>\n      <td>37.359916</td>\n      <td>-11.320042</td>\n      <td>[{'Date': 2018-05-28 00:00:00, 'Volume': 103.0...</td>\n      <td>{'Date': 2019-06-26 00:00:00, 'Volume': -103.0...</td>\n    </tr>\n    <tr>\n      <th>2019-11-27</th>\n      <td>PTX</td>\n      <td>-7699.0</td>\n      <td>377.250961</td>\n      <td>172.395508</td>\n      <td>[{'Date': 2018-08-14 00:00:00, 'Volume': 12358...</td>\n      <td>{'Date': 2019-11-27 00:00:00, 'Volume': -7699....</td>\n    </tr>\n    <tr>\n      <th>2020-03-26</th>\n      <td>QAN</td>\n      <td>-345.0</td>\n      <td>175.949997</td>\n      <td>145.949997</td>\n      <td>[{'Date': 2020-03-17 00:00:00, 'Volume': 345.0...</td>\n      <td>{'Date': 2020-03-26 00:00:00, 'Volume': -345.0...</td>\n    </tr>\n    <tr>\n      <th>2018-09-18</th>\n      <td>QBE</td>\n      <td>-537.0</td>\n      <td>415.580253</td>\n      <td>81.905129</td>\n      <td>[{'Date': 2018-04-20 00:00:00, 'Volume': 2.0, ...</td>\n      <td>{'Date': 2018-09-18 00:00:00, 'Volume': -537.0...</td>\n    </tr>\n    <tr>\n      <th>2018-05-15</th>\n      <td>RMD</td>\n      <td>-73.0</td>\n      <td>442.380031</td>\n      <td>206.323349</td>\n      <td>[{'Date': 2016-04-28 00:00:00, 'Volume': 300.0...</td>\n      <td>{'Date': 2018-05-15 00:00:00, 'Volume': -73.0,...</td>\n    </tr>\n    <tr>\n      <th>2018-06-21</th>\n      <td>RMD</td>\n      <td>-227.0</td>\n      <td>1613.969922</td>\n      <td>771.851628</td>\n      <td>[{'Date': 2016-04-28 00:00:00, 'Volume': 227.0...</td>\n      <td>{'Date': 2018-06-21 00:00:00, 'Volume': -227.0...</td>\n    </tr>\n    <tr>\n      <th>2018-07-19</th>\n      <td>SRS</td>\n      <td>-30333.0</td>\n      <td>151.664968</td>\n      <td>121.664968</td>\n      <td>[{'Date': 2018-05-15 00:00:00, 'Volume': 30333...</td>\n      <td>{'Date': 2018-07-19 00:00:00, 'Volume': -30333...</td>\n    </tr>\n    <tr>\n      <th>2020-03-26</th>\n      <td>TWE</td>\n      <td>-107.0</td>\n      <td>89.880016</td>\n      <td>59.880016</td>\n      <td>[{'Date': 2020-03-09 00:00:00, 'Volume': 107.0...</td>\n      <td>{'Date': 2020-03-26 00:00:00, 'Volume': -107.0...</td>\n    </tr>\n    <tr>\n      <th>2020-03-26</th>\n      <td>UCM</td>\n      <td>-4352.0</td>\n      <td>304.640034</td>\n      <td>274.640034</td>\n      <td>[{'Date': 2020-03-19 00:00:00, 'Volume': 4352....</td>\n      <td>{'Date': 2020-03-26 00:00:00, 'Volume': -4352....</td>\n    </tr>\n    <tr>\n      <th>2020-01-10</th>\n      <td>VRS</td>\n      <td>-4553.0</td>\n      <td>-748.362959</td>\n      <td>-778.362959</td>\n      <td>[{'Date': 2018-09-25 00:00:00, 'Volume': 105.0...</td>\n      <td>{'Date': 2020-01-10 00:00:00, 'Volume': -4553....</td>\n    </tr>\n    <tr>\n      <th>2019-11-19</th>\n      <td>WOW</td>\n      <td>-52.0</td>\n      <td>642.439948</td>\n      <td>190.819974</td>\n      <td>[{'Date': 2018-10-12 00:00:00, 'Volume': 2.0, ...</td>\n      <td>{'Date': 2019-11-19 00:00:00, 'Volume': -52.0,...</td>\n    </tr>\n    <tr>\n      <th>2020-02-18</th>\n      <td>ZNO</td>\n      <td>-2173.0</td>\n      <td>4563.299890</td>\n      <td>4538.957364</td>\n      <td>[{'Date': 2019-05-14 00:00:00, 'Volume': 5004....</td>\n      <td>{'Date': 2020-02-18 00:00:00, 'Volume': -2173....</td>\n    </tr>\n    <tr>\n      <th>2020-03-26</th>\n      <td>ZNO</td>\n      <td>-654.0</td>\n      <td>256.695028</td>\n      <td>229.246281</td>\n      <td>[{'Date': 2020-03-23 00:00:00, 'Volume': 878.0...</td>\n      <td>{'Date': 2020-03-26 00:00:00, 'Volume': -654.0...</td>\n    </tr>\n  </tbody>\n</table>\n</div>"
     },
     "metadata": {},
     "execution_count": 65
    }
   ],
   "source": [
    "df = pd.DataFrame(t.cgt_log.view).set_index('date')\n",
    "df"
   ]
  },
  {
   "cell_type": "code",
   "execution_count": 63,
   "metadata": {},
   "outputs": [
    {
     "output_type": "stream",
     "name": "stdout",
     "text": "SRS\n"
    },
    {
     "output_type": "execute_result",
     "data": {
      "text/plain": "                   Volume  TradePrice  EffectivePrice  Brokerage  \\\nType  Date                                                         \nBuys  2018-05-15  30333.0       0.033        0.033330        0.0   \nSells 2018-07-19 -30333.0       0.038        0.037342       20.0   \n\n                  Pro-rate_brokerage  \nType  Date                            \nBuys  2018-05-15                10.0  \nSells 2018-07-19                 NaN  ",
      "text/html": "<div>\n<style scoped>\n    .dataframe tbody tr th:only-of-type {\n        vertical-align: middle;\n    }\n\n    .dataframe tbody tr th {\n        vertical-align: top;\n    }\n\n    .dataframe thead th {\n        text-align: right;\n    }\n</style>\n<table border=\"1\" class=\"dataframe\">\n  <thead>\n    <tr style=\"text-align: right;\">\n      <th></th>\n      <th></th>\n      <th>Volume</th>\n      <th>TradePrice</th>\n      <th>EffectivePrice</th>\n      <th>Brokerage</th>\n      <th>Pro-rate_brokerage</th>\n    </tr>\n    <tr>\n      <th>Type</th>\n      <th>Date</th>\n      <th></th>\n      <th></th>\n      <th></th>\n      <th></th>\n      <th></th>\n    </tr>\n  </thead>\n  <tbody>\n    <tr>\n      <th>Buys</th>\n      <th>2018-05-15</th>\n      <td>30333.0</td>\n      <td>0.033</td>\n      <td>0.033330</td>\n      <td>0.0</td>\n      <td>10.0</td>\n    </tr>\n    <tr>\n      <th>Sells</th>\n      <th>2018-07-19</th>\n      <td>-30333.0</td>\n      <td>0.038</td>\n      <td>0.037342</td>\n      <td>20.0</td>\n      <td>NaN</td>\n    </tr>\n  </tbody>\n</table>\n</div>"
     },
     "metadata": {},
     "execution_count": 63
    }
   ],
   "source": [
    "ticker = 'SRS'\n",
    "x = df.loc[df['ticker']==ticker][['buy_parcels','sell_parcel']].to_dict('series')\n",
    "\n",
    "buys, sells = pd.DataFrame(), pd.DataFrame()\n",
    "for buy, sell in zip(x['buy_parcels'],x['sell_parcel']):\n",
    "    sells = pd.concat([sells,pd.DataFrame([sell])],join='outer')\n",
    "    buys = pd.concat([buys,pd.DataFrame(buy)],join='outer')\n",
    "\n",
    "sells['Type'] = 'Sells'\n",
    "buys['Type'] = 'Buys'\n",
    "mixed = pd.concat([sells,buys]).set_index(['Type','Date'])\n",
    "\n",
    "print(ticker)\n",
    "mixed.sort_values(['Date','Volume'],ascending=[True,False])"
   ]
  },
  {
   "cell_type": "code",
   "execution_count": null,
   "metadata": {},
   "outputs": [],
   "source": []
  }
 ]
}