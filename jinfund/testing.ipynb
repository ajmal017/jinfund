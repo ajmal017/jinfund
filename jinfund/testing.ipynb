{
 "nbformat": 4,
 "nbformat_minor": 2,
 "metadata": {
  "language_info": {
   "name": "python",
   "codemirror_mode": {
    "name": "ipython",
    "version": 3
   },
   "version": "3.7.6-final"
  },
  "orig_nbformat": 2,
  "file_extension": ".py",
  "mimetype": "text/x-python",
  "name": "python",
  "npconvert_exporter": "python",
  "pygments_lexer": "ipython3",
  "version": 3,
  "kernelspec": {
   "name": "python3",
   "display_name": "Python 3"
  }
 },
 "cells": [
  {
   "cell_type": "code",
   "execution_count": 2,
   "metadata": {},
   "outputs": [
    {
     "output_type": "stream",
     "name": "stdout",
     "text": "Saved to csv!\n\tFilename:\tFY2020_cgt_report.csv\n\tOutput path:\td:\\User\\Documents\\Bob\\Coding\\Investment Related\\jinfund\\jinfund\\output\n"
    },
    {
     "output_type": "execute_result",
     "data": {
      "text/plain": "           ticker  volume           cg          cgt  \\\ndate                                                  \n2020-01-10    AVH -1551.0   868.559969   422.962899   \n2020-03-23   BBOZ   -46.0   197.800009   177.800009   \n2020-03-13   BBUS -1500.0   795.000315   755.000315   \n2020-03-16   BBUS -2000.0  1300.000191  1250.000191   \n2020-03-17   BBUS -1785.0 -1070.999830 -1110.999830   \n2020-03-23   BBUS -1818.0  2272.500000  2222.500000   \n2019-11-19    EHE  -420.0   176.399932    58.199966   \n2020-01-14    IFN -1767.0   186.615034    43.847517   \n2019-08-28    NAN  -473.0  1910.588883   930.564442   \n2019-11-27    PTX -7699.0   377.250961   172.395508   \n2020-03-26    QAN  -345.0   175.949997   145.949997   \n2020-03-26    TWE  -107.0    89.880016    59.880016   \n2020-03-26    UCM -4352.0   304.640034   274.640034   \n2020-01-10    VRS -4553.0  -748.362959  -778.362959   \n2019-11-19    WOW   -52.0   642.439948   190.819974   \n2020-02-18    ZNO -2173.0  4563.299890  4538.957364   \n2020-03-26    ZNO  -654.0   256.695028   229.246281   \n\n                                                  buy_parcels  \\\ndate                                                            \n2020-01-10  [{'Date': 2018-11-06 00:00:00, 'Volume': 11776...   \n2020-03-23  [{'Date': 2020-03-20 00:00:00, 'Volume': 46.0,...   \n2020-03-13  [{'Date': 2020-03-12 00:00:00, 'Volume': 1500....   \n2020-03-16  [{'Date': 2020-03-16 00:00:00, 'Volume': 2000....   \n2020-03-17  [{'Date': 2020-03-17 00:00:00, 'Volume': 1785....   \n2020-03-23  [{'Date': 2020-03-19 00:00:00, 'Volume': 1818....   \n2019-11-19  [{'Date': 2018-09-28 00:00:00, 'Volume': 420.0...   \n2020-01-14  [{'Date': 2019-09-27 00:00:00, 'Volume': 27.0,...   \n2019-08-28  [{'Date': 2017-08-03 00:00:00, 'Volume': 500.0...   \n2019-11-27  [{'Date': 2018-08-14 00:00:00, 'Volume': 12358...   \n2020-03-26  [{'Date': 2020-03-17 00:00:00, 'Volume': 345.0...   \n2020-03-26  [{'Date': 2020-03-09 00:00:00, 'Volume': 107.0...   \n2020-03-26  [{'Date': 2020-03-19 00:00:00, 'Volume': 4352....   \n2020-01-10  [{'Date': 2018-09-25 00:00:00, 'Volume': 105.0...   \n2019-11-19  [{'Date': 2018-10-12 00:00:00, 'Volume': 2.0, ...   \n2020-02-18  [{'Date': 2019-05-14 00:00:00, 'Volume': 5004....   \n2020-03-26  [{'Date': 2020-03-23 00:00:00, 'Volume': 878.0...   \n\n                                                  sell_parcel  buys_associated  \ndate                                                                            \n2020-01-10  {'Date': 2020-01-10 00:00:00, 'Volume': -1551....                1  \n2020-03-23  {'Date': 2020-03-23 00:00:00, 'Volume': -46.0,...                1  \n2020-03-13  {'Date': 2020-03-13 00:00:00, 'Volume': -1500....                1  \n2020-03-16  {'Date': 2020-03-16 00:00:00, 'Volume': -2000....                1  \n2020-03-17  {'Date': 2020-03-17 00:00:00, 'Volume': -1785....                1  \n2020-03-23  {'Date': 2020-03-23 00:00:00, 'Volume': -1818....                1  \n2019-11-19  {'Date': 2019-11-19 00:00:00, 'Volume': -420.0...                1  \n2020-01-14  {'Date': 2020-01-14 00:00:00, 'Volume': -1767....                2  \n2019-08-28  {'Date': 2019-08-28 00:00:00, 'Volume': -473.0...                1  \n2019-11-27  {'Date': 2019-11-27 00:00:00, 'Volume': -7699....                1  \n2020-03-26  {'Date': 2020-03-26 00:00:00, 'Volume': -345.0...                1  \n2020-03-26  {'Date': 2020-03-26 00:00:00, 'Volume': -107.0...                1  \n2020-03-26  {'Date': 2020-03-26 00:00:00, 'Volume': -4352....                1  \n2020-01-10  {'Date': 2020-01-10 00:00:00, 'Volume': -4553....                2  \n2019-11-19  {'Date': 2019-11-19 00:00:00, 'Volume': -52.0,...                6  \n2020-02-18  {'Date': 2020-02-18 00:00:00, 'Volume': -2173....                1  \n2020-03-26  {'Date': 2020-03-26 00:00:00, 'Volume': -654.0...                1  ",
      "text/html": "<div>\n<style scoped>\n    .dataframe tbody tr th:only-of-type {\n        vertical-align: middle;\n    }\n\n    .dataframe tbody tr th {\n        vertical-align: top;\n    }\n\n    .dataframe thead th {\n        text-align: right;\n    }\n</style>\n<table border=\"1\" class=\"dataframe\">\n  <thead>\n    <tr style=\"text-align: right;\">\n      <th></th>\n      <th>ticker</th>\n      <th>volume</th>\n      <th>cg</th>\n      <th>cgt</th>\n      <th>buy_parcels</th>\n      <th>sell_parcel</th>\n      <th>buys_associated</th>\n    </tr>\n    <tr>\n      <th>date</th>\n      <th></th>\n      <th></th>\n      <th></th>\n      <th></th>\n      <th></th>\n      <th></th>\n      <th></th>\n    </tr>\n  </thead>\n  <tbody>\n    <tr>\n      <th>2020-01-10</th>\n      <td>AVH</td>\n      <td>-1551.0</td>\n      <td>868.559969</td>\n      <td>422.962899</td>\n      <td>[{'Date': 2018-11-06 00:00:00, 'Volume': 11776...</td>\n      <td>{'Date': 2020-01-10 00:00:00, 'Volume': -1551....</td>\n      <td>1</td>\n    </tr>\n    <tr>\n      <th>2020-03-23</th>\n      <td>BBOZ</td>\n      <td>-46.0</td>\n      <td>197.800009</td>\n      <td>177.800009</td>\n      <td>[{'Date': 2020-03-20 00:00:00, 'Volume': 46.0,...</td>\n      <td>{'Date': 2020-03-23 00:00:00, 'Volume': -46.0,...</td>\n      <td>1</td>\n    </tr>\n    <tr>\n      <th>2020-03-13</th>\n      <td>BBUS</td>\n      <td>-1500.0</td>\n      <td>795.000315</td>\n      <td>755.000315</td>\n      <td>[{'Date': 2020-03-12 00:00:00, 'Volume': 1500....</td>\n      <td>{'Date': 2020-03-13 00:00:00, 'Volume': -1500....</td>\n      <td>1</td>\n    </tr>\n    <tr>\n      <th>2020-03-16</th>\n      <td>BBUS</td>\n      <td>-2000.0</td>\n      <td>1300.000191</td>\n      <td>1250.000191</td>\n      <td>[{'Date': 2020-03-16 00:00:00, 'Volume': 2000....</td>\n      <td>{'Date': 2020-03-16 00:00:00, 'Volume': -2000....</td>\n      <td>1</td>\n    </tr>\n    <tr>\n      <th>2020-03-17</th>\n      <td>BBUS</td>\n      <td>-1785.0</td>\n      <td>-1070.999830</td>\n      <td>-1110.999830</td>\n      <td>[{'Date': 2020-03-17 00:00:00, 'Volume': 1785....</td>\n      <td>{'Date': 2020-03-17 00:00:00, 'Volume': -1785....</td>\n      <td>1</td>\n    </tr>\n    <tr>\n      <th>2020-03-23</th>\n      <td>BBUS</td>\n      <td>-1818.0</td>\n      <td>2272.500000</td>\n      <td>2222.500000</td>\n      <td>[{'Date': 2020-03-19 00:00:00, 'Volume': 1818....</td>\n      <td>{'Date': 2020-03-23 00:00:00, 'Volume': -1818....</td>\n      <td>1</td>\n    </tr>\n    <tr>\n      <th>2019-11-19</th>\n      <td>EHE</td>\n      <td>-420.0</td>\n      <td>176.399932</td>\n      <td>58.199966</td>\n      <td>[{'Date': 2018-09-28 00:00:00, 'Volume': 420.0...</td>\n      <td>{'Date': 2019-11-19 00:00:00, 'Volume': -420.0...</td>\n      <td>1</td>\n    </tr>\n    <tr>\n      <th>2020-01-14</th>\n      <td>IFN</td>\n      <td>-1767.0</td>\n      <td>186.615034</td>\n      <td>43.847517</td>\n      <td>[{'Date': 2019-09-27 00:00:00, 'Volume': 27.0,...</td>\n      <td>{'Date': 2020-01-14 00:00:00, 'Volume': -1767....</td>\n      <td>2</td>\n    </tr>\n    <tr>\n      <th>2019-08-28</th>\n      <td>NAN</td>\n      <td>-473.0</td>\n      <td>1910.588883</td>\n      <td>930.564442</td>\n      <td>[{'Date': 2017-08-03 00:00:00, 'Volume': 500.0...</td>\n      <td>{'Date': 2019-08-28 00:00:00, 'Volume': -473.0...</td>\n      <td>1</td>\n    </tr>\n    <tr>\n      <th>2019-11-27</th>\n      <td>PTX</td>\n      <td>-7699.0</td>\n      <td>377.250961</td>\n      <td>172.395508</td>\n      <td>[{'Date': 2018-08-14 00:00:00, 'Volume': 12358...</td>\n      <td>{'Date': 2019-11-27 00:00:00, 'Volume': -7699....</td>\n      <td>1</td>\n    </tr>\n    <tr>\n      <th>2020-03-26</th>\n      <td>QAN</td>\n      <td>-345.0</td>\n      <td>175.949997</td>\n      <td>145.949997</td>\n      <td>[{'Date': 2020-03-17 00:00:00, 'Volume': 345.0...</td>\n      <td>{'Date': 2020-03-26 00:00:00, 'Volume': -345.0...</td>\n      <td>1</td>\n    </tr>\n    <tr>\n      <th>2020-03-26</th>\n      <td>TWE</td>\n      <td>-107.0</td>\n      <td>89.880016</td>\n      <td>59.880016</td>\n      <td>[{'Date': 2020-03-09 00:00:00, 'Volume': 107.0...</td>\n      <td>{'Date': 2020-03-26 00:00:00, 'Volume': -107.0...</td>\n      <td>1</td>\n    </tr>\n    <tr>\n      <th>2020-03-26</th>\n      <td>UCM</td>\n      <td>-4352.0</td>\n      <td>304.640034</td>\n      <td>274.640034</td>\n      <td>[{'Date': 2020-03-19 00:00:00, 'Volume': 4352....</td>\n      <td>{'Date': 2020-03-26 00:00:00, 'Volume': -4352....</td>\n      <td>1</td>\n    </tr>\n    <tr>\n      <th>2020-01-10</th>\n      <td>VRS</td>\n      <td>-4553.0</td>\n      <td>-748.362959</td>\n      <td>-778.362959</td>\n      <td>[{'Date': 2018-09-25 00:00:00, 'Volume': 105.0...</td>\n      <td>{'Date': 2020-01-10 00:00:00, 'Volume': -4553....</td>\n      <td>2</td>\n    </tr>\n    <tr>\n      <th>2019-11-19</th>\n      <td>WOW</td>\n      <td>-52.0</td>\n      <td>642.439948</td>\n      <td>190.819974</td>\n      <td>[{'Date': 2018-10-12 00:00:00, 'Volume': 2.0, ...</td>\n      <td>{'Date': 2019-11-19 00:00:00, 'Volume': -52.0,...</td>\n      <td>6</td>\n    </tr>\n    <tr>\n      <th>2020-02-18</th>\n      <td>ZNO</td>\n      <td>-2173.0</td>\n      <td>4563.299890</td>\n      <td>4538.957364</td>\n      <td>[{'Date': 2019-05-14 00:00:00, 'Volume': 5004....</td>\n      <td>{'Date': 2020-02-18 00:00:00, 'Volume': -2173....</td>\n      <td>1</td>\n    </tr>\n    <tr>\n      <th>2020-03-26</th>\n      <td>ZNO</td>\n      <td>-654.0</td>\n      <td>256.695028</td>\n      <td>229.246281</td>\n      <td>[{'Date': 2020-03-23 00:00:00, 'Volume': 878.0...</td>\n      <td>{'Date': 2020-03-26 00:00:00, 'Volume': -654.0...</td>\n      <td>1</td>\n    </tr>\n  </tbody>\n</table>\n</div>"
     },
     "metadata": {},
     "execution_count": 2
    }
   ],
   "source": [
    "import pandas as pd\n",
    "from datetime import datetime\n",
    "\n",
    "from analysis.tax import AutoTax\n",
    "\n",
    "t = AutoTax()\n",
    "t.cgt_report(to_csv=True)"
   ]
  },
  {
   "cell_type": "code",
   "execution_count": null,
   "metadata": {},
   "outputs": [],
   "source": [
    "# a['Ticker'] = 'A2M'\n",
    "# a.set_index('Ticker')\n",
    "a"
   ]
  },
  {
   "cell_type": "code",
   "execution_count": 14,
   "metadata": {},
   "outputs": [
    {
     "output_type": "execute_result",
     "data": {
      "text/plain": "[]"
     },
     "metadata": {},
     "execution_count": 14
    }
   ],
   "source": [
    "from pathlib import Path\n",
    "\n",
    "path = Path.cwd()/'output'\n",
    "[x for x in path.iterdir()]"
   ]
  },
  {
   "cell_type": "code",
   "execution_count": 6,
   "metadata": {},
   "outputs": [
    {
     "output_type": "execute_result",
     "data": {
      "text/plain": "True"
     },
     "metadata": {},
     "execution_count": 6
    }
   ],
   "source": [
    "a = pd.DataFrame()\n",
    "type(a)\n",
    "isinstance(a,pd.core.frame.DataFrame)"
   ]
  },
  {
   "cell_type": "code",
   "execution_count": null,
   "metadata": {},
   "outputs": [],
   "source": []
  }
 ]
}