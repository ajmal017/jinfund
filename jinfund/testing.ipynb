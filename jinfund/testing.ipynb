{
 "nbformat": 4,
 "nbformat_minor": 2,
 "metadata": {
  "language_info": {
   "name": "python",
   "codemirror_mode": {
    "name": "ipython",
    "version": 3
   },
   "version": "3.7.6-final"
  },
  "orig_nbformat": 2,
  "file_extension": ".py",
  "mimetype": "text/x-python",
  "name": "python",
  "npconvert_exporter": "python",
  "pygments_lexer": "ipython3",
  "version": 3,
  "kernelspec": {
   "name": "python3",
   "display_name": "Python 3"
  }
 },
 "cells": [
  {
   "cell_type": "code",
   "execution_count": 1,
   "metadata": {},
   "outputs": [],
   "source": [
    "# System imports\n",
    "from datetime import datetime\n",
    "import numpy as np\n",
    "import pandas as pd\n",
    "\n",
    "# Third-party imports\n",
    "import yfinance as yf\n",
    "from pathlib import Path\n",
    "\n",
    "# Local imports\n",
    "from portfolio.holdings import Portfolio\n",
    "from portfolio.commsec import Trades\n",
    "import datehandler\n",
    "\n",
    "# Vars\n",
    "today = datetime.today()"
   ]
  },
  {
   "cell_type": "code",
   "execution_count": 2,
   "metadata": {},
   "outputs": [
    {
     "output_type": "execute_result",
     "data": {
      "text/plain": "                  Market    Volume  TradePrice  EffectivePrice  Brokerage\nDate       Ticker                                                        \n2015-01-07 NAN       ASX    1000.0    1.350000        1.369950       20.0\n2015-03-26 WOW       ASX     100.0   28.799999       28.999500       20.0\n2016-04-28 RMD       ASX     300.0    7.500000        7.566500       20.0\n2016-07-06 QBE       ASX     500.0   10.280000       10.319900       20.0\n2017-08-03 NAN       ASX    2000.0    2.310700        2.320675       20.0\n...                  ...       ...         ...             ...        ...\n2020-01-10 VRS       ASX   -4553.0    0.064000        0.061803       10.0\n           WZR       ASX    4448.0    0.225000        0.227248       10.0\n2020-01-14 DEM       ASX    4170.0    0.240000        0.242398       10.0\n           IFN       ASX   -1767.0    0.680000        0.668710       20.0\n2020-01-16 IBXO      ASX  100099.0    0.010000        0.010100       10.0\n\n[66 rows x 5 columns]",
      "text/html": "<div>\n<style scoped>\n    .dataframe tbody tr th:only-of-type {\n        vertical-align: middle;\n    }\n\n    .dataframe tbody tr th {\n        vertical-align: top;\n    }\n\n    .dataframe thead th {\n        text-align: right;\n    }\n</style>\n<table border=\"1\" class=\"dataframe\">\n  <thead>\n    <tr style=\"text-align: right;\">\n      <th></th>\n      <th></th>\n      <th>Market</th>\n      <th>Volume</th>\n      <th>TradePrice</th>\n      <th>EffectivePrice</th>\n      <th>Brokerage</th>\n    </tr>\n    <tr>\n      <th>Date</th>\n      <th>Ticker</th>\n      <th></th>\n      <th></th>\n      <th></th>\n      <th></th>\n      <th></th>\n    </tr>\n  </thead>\n  <tbody>\n    <tr>\n      <th>2015-01-07</th>\n      <th>NAN</th>\n      <td>ASX</td>\n      <td>1000.0</td>\n      <td>1.350000</td>\n      <td>1.369950</td>\n      <td>20.0</td>\n    </tr>\n    <tr>\n      <th>2015-03-26</th>\n      <th>WOW</th>\n      <td>ASX</td>\n      <td>100.0</td>\n      <td>28.799999</td>\n      <td>28.999500</td>\n      <td>20.0</td>\n    </tr>\n    <tr>\n      <th>2016-04-28</th>\n      <th>RMD</th>\n      <td>ASX</td>\n      <td>300.0</td>\n      <td>7.500000</td>\n      <td>7.566500</td>\n      <td>20.0</td>\n    </tr>\n    <tr>\n      <th>2016-07-06</th>\n      <th>QBE</th>\n      <td>ASX</td>\n      <td>500.0</td>\n      <td>10.280000</td>\n      <td>10.319900</td>\n      <td>20.0</td>\n    </tr>\n    <tr>\n      <th>2017-08-03</th>\n      <th>NAN</th>\n      <td>ASX</td>\n      <td>2000.0</td>\n      <td>2.310700</td>\n      <td>2.320675</td>\n      <td>20.0</td>\n    </tr>\n    <tr>\n      <th>...</th>\n      <th>...</th>\n      <td>...</td>\n      <td>...</td>\n      <td>...</td>\n      <td>...</td>\n      <td>...</td>\n    </tr>\n    <tr>\n      <th rowspan=\"2\" valign=\"top\">2020-01-10</th>\n      <th>VRS</th>\n      <td>ASX</td>\n      <td>-4553.0</td>\n      <td>0.064000</td>\n      <td>0.061803</td>\n      <td>10.0</td>\n    </tr>\n    <tr>\n      <th>WZR</th>\n      <td>ASX</td>\n      <td>4448.0</td>\n      <td>0.225000</td>\n      <td>0.227248</td>\n      <td>10.0</td>\n    </tr>\n    <tr>\n      <th rowspan=\"2\" valign=\"top\">2020-01-14</th>\n      <th>DEM</th>\n      <td>ASX</td>\n      <td>4170.0</td>\n      <td>0.240000</td>\n      <td>0.242398</td>\n      <td>10.0</td>\n    </tr>\n    <tr>\n      <th>IFN</th>\n      <td>ASX</td>\n      <td>-1767.0</td>\n      <td>0.680000</td>\n      <td>0.668710</td>\n      <td>20.0</td>\n    </tr>\n    <tr>\n      <th>2020-01-16</th>\n      <th>IBXO</th>\n      <td>ASX</td>\n      <td>100099.0</td>\n      <td>0.010000</td>\n      <td>0.010100</td>\n      <td>10.0</td>\n    </tr>\n  </tbody>\n</table>\n<p>66 rows × 5 columns</p>\n</div>"
     },
     "metadata": {},
     "execution_count": 2
    }
   ],
   "source": [
    "trades = Trades()\n",
    "trades_df = trades.all\n",
    "trades_df"
   ]
  },
  {
   "cell_type": "markdown",
   "metadata": {},
   "source": [
    "# Holdings\n",
    "- All dates from portfolio inception til now as index\n",
    "- Store ticker and volume for each ticker on each date\n",
    "- Store closing price for each ticker on each date"
   ]
  },
  {
   "cell_type": "code",
   "execution_count": 3,
   "metadata": {},
   "outputs": [
    {
     "output_type": "stream",
     "name": "stdout",
     "text": "\n"
    },
    {
     "output_type": "error",
     "ename": "NameError",
     "evalue": "name 'df_base' is not defined",
     "traceback": [
      "\u001b[1;31m---------------------------------------------------------------------------\u001b[0m",
      "\u001b[1;31mNameError\u001b[0m                                 Traceback (most recent call last)",
      "\u001b[1;32m<ipython-input-3-5d5279bd112f>\u001b[0m in \u001b[0;36m<module>\u001b[1;34m\u001b[0m\n\u001b[0;32m     11\u001b[0m \u001b[1;33m\u001b[0m\u001b[0m\n\u001b[0;32m     12\u001b[0m \u001b[1;31m# View\u001b[0m\u001b[1;33m\u001b[0m\u001b[1;33m\u001b[0m\u001b[1;33m\u001b[0m\u001b[0m\n\u001b[1;32m---> 13\u001b[1;33m \u001b[0mdf_base\u001b[0m\u001b[1;33m\u001b[0m\u001b[1;33m\u001b[0m\u001b[0m\n\u001b[0m",
      "\u001b[1;31mNameError\u001b[0m: name 'df_base' is not defined"
     ]
    }
   ],
   "source": [
    "# Construct range of dates over portfolio period\n",
    "p_inception = trades_df.index[0][0]\n",
    "p_dates = datehandler.date_list(p_inception, today)\n",
    "\n",
    "# Create base dataframe\n",
    "df_base_dates = pd.DataFrame(index=p_dates)\n",
    "df_base_dates.index.name = 'Date'\n",
    "\n",
    "# Initiatle the main portfolio df as empty\n",
    "df_pfolio = pd.DataFrame()\n",
    "\n",
    "# View\n",
    "df_base"
   ]
  },
  {
   "cell_type": "code",
   "execution_count": 4,
   "metadata": {},
   "outputs": [
    {
     "output_type": "error",
     "ename": "SyntaxError",
     "evalue": "invalid syntax (<ipython-input-4-4bf134849413>, line 8)",
     "traceback": [
      "\u001b[1;36m  File \u001b[1;32m\"<ipython-input-4-4bf134849413>\"\u001b[1;36m, line \u001b[1;32m8\u001b[0m\n\u001b[1;33m    dict1.update(blah..)\u001b[0m\n\u001b[1;37m                      ^\u001b[0m\n\u001b[1;31mSyntaxError\u001b[0m\u001b[1;31m:\u001b[0m invalid syntax\n"
     ]
    }
   ],
   "source": [
    "# Use list of dicts comprehension to build dataframe using logic\n",
    "rows_list = []\n",
    "for row in input_rows:\n",
    "\n",
    "        dict1 = {}\n",
    "        # get input row in dictionary format\n",
    "        # key = col_name\n",
    "        dict1.update(blah..) \n",
    "\n",
    "        rows_list.append(dict1)\n",
    "\n",
    "df = pd.DataFrame(rows_list)     "
   ]
  },
  {
   "cell_type": "code",
   "execution_count": 5,
   "metadata": {},
   "outputs": [
    {
     "output_type": "stream",
     "name": "stdout",
     "text": "[*********************100%***********************]  35 of 35 completed\n\n2 Failed downloads:\n- IBXO.AX: No data found for this date range, symbol may be delisted\n- SRS.AX: No data found, symbol may be delisted\n"
    }
   ],
   "source": [
    "# Build list of tickers seen throughout investment period\n",
    "tickers = list(sorted(set(trades_df.reset_index().Ticker.to_list())))\n",
    "\n",
    "# Use yfinance to get close prices\n",
    "lookup_tickers = [f'{ticker}.AX' for ticker in tickers]  # Only supports ASX stocks\n",
    "lookup_tickers = ' '.join(lookup_tickers)\n",
    "\n",
    "prices = yf.download(lookup_tickers, start=p_dates[0], end=p_dates[-1])\n",
    "close = prices['Adj Close'] # Using Adj Close instead of Close to account for stocksplits, dividends\n",
    "close.columns = tickers\n",
    "\n",
    "# Step through transactions dataframe, ticker by ticker\n",
    "\n",
    "for ticker in tickers:\n",
    "    # Get volumes\n",
    "    vol_df = trades.by_ticker(ticker)['Volume']\n",
    "\n",
    "    # Merge with base_dates_df and cumulative sum the volumes\n",
    "    ticker_df = pd.merge_ordered(vol_df, df_base_dates, on='Date').set_index('Date')\n",
    "    ticker_df = ticker_df.cumsum().ffill()\n",
    "    ticker_df = ticker_df[ticker_df['Volume'].isna() == False]\n",
    "\n",
    "    # Merge with close prices\n",
    "    ticker_df = pd.merge_ordered(ticker_df, close[ticker], on='Date').set_index('Date')\n",
    "    ticker_df.rename({ticker: 'Close'}, axis=1, inplace=True)\n",
    "    \n",
    "    # Merge ticker_df with portfolio_df\n",
    "    ticker_df['Ticker'] = ticker # create ticker column for later indexing\n",
    "    df_pfolio = pd.concat([df_pfolio, ticker_df])\n",
    "\n",
    "# Finalise portfolio\n",
    "df_pfolio = df_pfolio.reset_index().set_index(['Date','Ticker']).sort_index()"
   ]
  },
  {
   "cell_type": "code",
   "execution_count": 10,
   "metadata": {},
   "outputs": [
    {
     "output_type": "execute_result",
     "data": {
      "text/plain": "                     Volume      Close\nDate       Ticker                     \n2020-03-26 A2M          0.0  16.000000\n           ACW      20019.0   0.017000\n           AMT          0.0   0.155000\n           AVH      10225.0   0.480000\n           AVZ      42459.0   0.051000\n           BRN      13670.0   0.042000\n           DEM       8019.0   0.145000\n           EHE          0.0   1.280000\n           FTT      18199.0   0.001500\n           IBXO    100099.0        NaN\n           IFN        -27.0   0.400000\n           IMM      24414.0   0.115000\n           IMU      63116.0   0.019000\n           JMS       8220.0   0.220000\n           MDR      18886.0   0.405000\n           MSB       2017.0   1.290000\n           NAN       1027.0   5.210000\n           NEA        298.0   0.995000\n           OCC       2669.0   0.240000\n           OPT        361.0   1.760000\n           OZL          0.0   7.160000\n           PME         40.0  17.780001\n           PNV       3059.0   1.550000\n           PTX      31558.0   0.027000\n           QBE        -37.0   8.620000\n           RAP      14372.0   0.160000\n           RHT       9263.0   0.105000\n           RMD        213.0  22.820000\n           RWC        555.0   2.280000\n           SRS          0.0        NaN\n           TTT       2067.0   0.545000\n           VRS       -105.0   0.022000\n           WOW         48.0  36.730000\n           WZR       4448.0   0.090000\n           ZNO       5004.0   1.480000",
      "text/html": "<div>\n<style scoped>\n    .dataframe tbody tr th:only-of-type {\n        vertical-align: middle;\n    }\n\n    .dataframe tbody tr th {\n        vertical-align: top;\n    }\n\n    .dataframe thead th {\n        text-align: right;\n    }\n</style>\n<table border=\"1\" class=\"dataframe\">\n  <thead>\n    <tr style=\"text-align: right;\">\n      <th></th>\n      <th></th>\n      <th>Volume</th>\n      <th>Close</th>\n    </tr>\n    <tr>\n      <th>Date</th>\n      <th>Ticker</th>\n      <th></th>\n      <th></th>\n    </tr>\n  </thead>\n  <tbody>\n    <tr>\n      <th rowspan=\"35\" valign=\"top\">2020-03-26</th>\n      <th>A2M</th>\n      <td>0.0</td>\n      <td>16.000000</td>\n    </tr>\n    <tr>\n      <th>ACW</th>\n      <td>20019.0</td>\n      <td>0.017000</td>\n    </tr>\n    <tr>\n      <th>AMT</th>\n      <td>0.0</td>\n      <td>0.155000</td>\n    </tr>\n    <tr>\n      <th>AVH</th>\n      <td>10225.0</td>\n      <td>0.480000</td>\n    </tr>\n    <tr>\n      <th>AVZ</th>\n      <td>42459.0</td>\n      <td>0.051000</td>\n    </tr>\n    <tr>\n      <th>BRN</th>\n      <td>13670.0</td>\n      <td>0.042000</td>\n    </tr>\n    <tr>\n      <th>DEM</th>\n      <td>8019.0</td>\n      <td>0.145000</td>\n    </tr>\n    <tr>\n      <th>EHE</th>\n      <td>0.0</td>\n      <td>1.280000</td>\n    </tr>\n    <tr>\n      <th>FTT</th>\n      <td>18199.0</td>\n      <td>0.001500</td>\n    </tr>\n    <tr>\n      <th>IBXO</th>\n      <td>100099.0</td>\n      <td>NaN</td>\n    </tr>\n    <tr>\n      <th>IFN</th>\n      <td>-27.0</td>\n      <td>0.400000</td>\n    </tr>\n    <tr>\n      <th>IMM</th>\n      <td>24414.0</td>\n      <td>0.115000</td>\n    </tr>\n    <tr>\n      <th>IMU</th>\n      <td>63116.0</td>\n      <td>0.019000</td>\n    </tr>\n    <tr>\n      <th>JMS</th>\n      <td>8220.0</td>\n      <td>0.220000</td>\n    </tr>\n    <tr>\n      <th>MDR</th>\n      <td>18886.0</td>\n      <td>0.405000</td>\n    </tr>\n    <tr>\n      <th>MSB</th>\n      <td>2017.0</td>\n      <td>1.290000</td>\n    </tr>\n    <tr>\n      <th>NAN</th>\n      <td>1027.0</td>\n      <td>5.210000</td>\n    </tr>\n    <tr>\n      <th>NEA</th>\n      <td>298.0</td>\n      <td>0.995000</td>\n    </tr>\n    <tr>\n      <th>OCC</th>\n      <td>2669.0</td>\n      <td>0.240000</td>\n    </tr>\n    <tr>\n      <th>OPT</th>\n      <td>361.0</td>\n      <td>1.760000</td>\n    </tr>\n    <tr>\n      <th>OZL</th>\n      <td>0.0</td>\n      <td>7.160000</td>\n    </tr>\n    <tr>\n      <th>PME</th>\n      <td>40.0</td>\n      <td>17.780001</td>\n    </tr>\n    <tr>\n      <th>PNV</th>\n      <td>3059.0</td>\n      <td>1.550000</td>\n    </tr>\n    <tr>\n      <th>PTX</th>\n      <td>31558.0</td>\n      <td>0.027000</td>\n    </tr>\n    <tr>\n      <th>QBE</th>\n      <td>-37.0</td>\n      <td>8.620000</td>\n    </tr>\n    <tr>\n      <th>RAP</th>\n      <td>14372.0</td>\n      <td>0.160000</td>\n    </tr>\n    <tr>\n      <th>RHT</th>\n      <td>9263.0</td>\n      <td>0.105000</td>\n    </tr>\n    <tr>\n      <th>RMD</th>\n      <td>213.0</td>\n      <td>22.820000</td>\n    </tr>\n    <tr>\n      <th>RWC</th>\n      <td>555.0</td>\n      <td>2.280000</td>\n    </tr>\n    <tr>\n      <th>SRS</th>\n      <td>0.0</td>\n      <td>NaN</td>\n    </tr>\n    <tr>\n      <th>TTT</th>\n      <td>2067.0</td>\n      <td>0.545000</td>\n    </tr>\n    <tr>\n      <th>VRS</th>\n      <td>-105.0</td>\n      <td>0.022000</td>\n    </tr>\n    <tr>\n      <th>WOW</th>\n      <td>48.0</td>\n      <td>36.730000</td>\n    </tr>\n    <tr>\n      <th>WZR</th>\n      <td>4448.0</td>\n      <td>0.090000</td>\n    </tr>\n    <tr>\n      <th>ZNO</th>\n      <td>5004.0</td>\n      <td>1.480000</td>\n    </tr>\n  </tbody>\n</table>\n</div>"
     },
     "metadata": {},
     "execution_count": 10
    }
   ],
   "source": [
    "df_pfolio.loc['2020-03-26']"
   ]
  },
  {
   "cell_type": "code",
   "execution_count": 7,
   "metadata": {},
   "outputs": [
    {
     "output_type": "execute_result",
     "data": {
      "text/plain": "            Volume  Close Ticker\nDate                            \n2015-01-07  1000.0  1.350    NAN\n2015-01-08  1000.0  1.325    NAN\n2015-01-09  1000.0  1.270    NAN\n2015-01-12  1000.0  1.225    NAN\n2015-01-13  1000.0  1.235    NAN\n...            ...    ...    ...\n2020-03-23  1027.0  4.370    NAN\n2020-03-24  1027.0  4.670    NAN\n2020-03-25  1027.0  4.910    NAN\n2020-03-26  1027.0  5.210    NAN\n2020-03-27  1027.0    NaN    NAN\n\n[1363 rows x 3 columns]",
      "text/html": "<div>\n<style scoped>\n    .dataframe tbody tr th:only-of-type {\n        vertical-align: middle;\n    }\n\n    .dataframe tbody tr th {\n        vertical-align: top;\n    }\n\n    .dataframe thead th {\n        text-align: right;\n    }\n</style>\n<table border=\"1\" class=\"dataframe\">\n  <thead>\n    <tr style=\"text-align: right;\">\n      <th></th>\n      <th>Volume</th>\n      <th>Close</th>\n      <th>Ticker</th>\n    </tr>\n    <tr>\n      <th>Date</th>\n      <th></th>\n      <th></th>\n      <th></th>\n    </tr>\n  </thead>\n  <tbody>\n    <tr>\n      <th>2015-01-07</th>\n      <td>1000.0</td>\n      <td>1.350</td>\n      <td>NAN</td>\n    </tr>\n    <tr>\n      <th>2015-01-08</th>\n      <td>1000.0</td>\n      <td>1.325</td>\n      <td>NAN</td>\n    </tr>\n    <tr>\n      <th>2015-01-09</th>\n      <td>1000.0</td>\n      <td>1.270</td>\n      <td>NAN</td>\n    </tr>\n    <tr>\n      <th>2015-01-12</th>\n      <td>1000.0</td>\n      <td>1.225</td>\n      <td>NAN</td>\n    </tr>\n    <tr>\n      <th>2015-01-13</th>\n      <td>1000.0</td>\n      <td>1.235</td>\n      <td>NAN</td>\n    </tr>\n    <tr>\n      <th>...</th>\n      <td>...</td>\n      <td>...</td>\n      <td>...</td>\n    </tr>\n    <tr>\n      <th>2020-03-23</th>\n      <td>1027.0</td>\n      <td>4.370</td>\n      <td>NAN</td>\n    </tr>\n    <tr>\n      <th>2020-03-24</th>\n      <td>1027.0</td>\n      <td>4.670</td>\n      <td>NAN</td>\n    </tr>\n    <tr>\n      <th>2020-03-25</th>\n      <td>1027.0</td>\n      <td>4.910</td>\n      <td>NAN</td>\n    </tr>\n    <tr>\n      <th>2020-03-26</th>\n      <td>1027.0</td>\n      <td>5.210</td>\n      <td>NAN</td>\n    </tr>\n    <tr>\n      <th>2020-03-27</th>\n      <td>1027.0</td>\n      <td>NaN</td>\n      <td>NAN</td>\n    </tr>\n  </tbody>\n</table>\n<p>1363 rows × 3 columns</p>\n</div>"
     },
     "metadata": {},
     "execution_count": 7
    }
   ],
   "source": [
    "ticker = 'NAN'\n",
    "\n",
    "# Get volumes\n",
    "vol_df = trades.by_ticker(ticker)['Volume']\n",
    "\n",
    "# Merge with base_dates_df and cumulative sum the volumes\n",
    "ticker_df = pd.merge_ordered(vol_df, df_base_dates, on='Date').set_index('Date')\n",
    "ticker_df = ticker_df.cumsum().ffill()\n",
    "ticker_df = ticker_df[ticker_df['Volume'].isna() == False]\n",
    "\n",
    "# Merge with close prices\n",
    "ticker_df = pd.merge_ordered(ticker_df, close[ticker], on='Date').set_index('Date')\n",
    "ticker_df.rename({ticker: 'Close'}, axis=1, inplace=True)\n",
    "\n",
    "# Merge ticker_df with portfolio_df\n",
    "ticker_df['Ticker'] = ticker # create ticker column for later indexing\n",
    "\n",
    "ticker_df"
   ]
  },
  {
   "cell_type": "code",
   "execution_count": 8,
   "metadata": {},
   "outputs": [
    {
     "output_type": "stream",
     "name": "stdout",
     "text": "[*********************100%***********************]  35 of 35 completed\n\n2 Failed downloads:\n- IBXO.AX: No data found for this date range, symbol may be delisted\n- SRS.AX: No data found, symbol may be delisted\n"
    }
   ],
   "source": [
    "# Use yfinance to get close prices\n",
    "lookup_tickers = [f'{ticker}.AX' for ticker in tickers]  # Only supports ASX stocks\n",
    "lookup_tickers = ' '.join(lookup_tickers)\n",
    "\n",
    "prices = yf.download(lookup_tickers, start=p_dates[0], end=p_dates[-1])"
   ]
  },
  {
   "cell_type": "code",
   "execution_count": 9,
   "metadata": {},
   "outputs": [
    {
     "output_type": "execute_result",
     "data": {
      "text/plain": "                  A2M     ACW       AMT       AVH    AVZ       BRN    DEM  \\\nDate                                                                        \n2015-01-07        NaN  0.0740  0.055536  0.069718  0.005  0.011118    NaN   \n2015-01-08        NaN  0.0610  0.052759  0.067953  0.005  0.011118    NaN   \n2015-01-09        NaN  0.0690  0.052759  0.067953  0.005  0.011118    NaN   \n2015-01-12        NaN  0.0740  0.052759  0.070601  0.006  0.011118    NaN   \n2015-01-13        NaN  0.0690  0.055536  0.070601  0.007  0.011118    NaN   \n...               ...     ...       ...       ...    ...       ...    ...   \n2020-03-20  16.170000  0.0175  0.150000  0.380000  0.048  0.033000  0.120   \n2020-03-23  15.400000  0.0160  0.150000  0.360000  0.045  0.035000  0.105   \n2020-03-24  16.059999  0.0165  0.150000  0.360000  0.048  0.036000  0.120   \n2020-03-25  15.900000  0.0150  0.150000  0.405000  0.047  0.040000  0.120   \n2020-03-26  16.000000  0.0170  0.155000  0.480000  0.051  0.042000  0.145   \n\n                 EHE       FTT  IBXO  ...       RAP     RHT        RMD   RWC  \\\nDate                                  ...                                      \n2015-01-07  3.533724  0.287760   NaN  ...  0.010666  0.0400   6.759596   NaN   \n2015-01-08  3.622253  0.292477   NaN  ...  0.010666  0.0430   6.798389   NaN   \n2015-01-09  3.622253  0.301912   NaN  ...  0.010666  0.0430   6.934163   NaN   \n2015-01-12  3.607497  0.301912   NaN  ...  0.010666  0.0420   6.837182   NaN   \n2015-01-13  3.607497  0.316064   NaN  ...  0.018666  0.0400   6.982653   NaN   \n...              ...       ...   ...  ...       ...     ...        ...   ...   \n2020-03-20  1.095000  0.002000   NaN  ...  0.074000  0.1100  22.240000  1.98   \n2020-03-23  0.905000  0.001500   NaN  ...  0.069000  0.0920  20.040001  1.72   \n2020-03-24  1.070000  0.001500   NaN  ...  0.145000  0.0950  22.010000  1.74   \n2020-03-25  1.145000  0.001500   NaN  ...  0.130000  0.1075  22.280001  1.94   \n2020-03-26  1.280000  0.001500   NaN  ...  0.160000  0.1050  22.820000  2.28   \n\n            SRS    TTT       VRS        WOW    WZR   ZNO  \nDate                                                      \n2015-01-07  NaN    NaN  0.159193  24.641617  0.450  1.00  \n2015-01-08  NaN    NaN  0.159193  24.386559  0.450  1.00  \n2015-01-09  NaN    NaN  0.159193  24.863760  0.450  1.00  \n2015-01-12  NaN    NaN  0.154511  24.740349  0.450  1.00  \n2015-01-13  NaN    NaN  0.154511  24.600477  0.450  1.00  \n...         ...    ...       ...        ...    ...   ...  \n2020-03-20  NaN  0.625  0.030000  37.470001  0.089  1.42  \n2020-03-23  NaN  0.550  0.020000  36.450001  0.070  1.28  \n2020-03-24  NaN  0.505  0.021000  36.180000  0.082  1.27  \n2020-03-25  NaN  0.500  0.022000  36.419998  0.083  1.32  \n2020-03-26  NaN  0.545  0.022000  36.730000  0.090  1.48  \n\n[1323 rows x 35 columns]",
      "text/html": "<div>\n<style scoped>\n    .dataframe tbody tr th:only-of-type {\n        vertical-align: middle;\n    }\n\n    .dataframe tbody tr th {\n        vertical-align: top;\n    }\n\n    .dataframe thead th {\n        text-align: right;\n    }\n</style>\n<table border=\"1\" class=\"dataframe\">\n  <thead>\n    <tr style=\"text-align: right;\">\n      <th></th>\n      <th>A2M</th>\n      <th>ACW</th>\n      <th>AMT</th>\n      <th>AVH</th>\n      <th>AVZ</th>\n      <th>BRN</th>\n      <th>DEM</th>\n      <th>EHE</th>\n      <th>FTT</th>\n      <th>IBXO</th>\n      <th>...</th>\n      <th>RAP</th>\n      <th>RHT</th>\n      <th>RMD</th>\n      <th>RWC</th>\n      <th>SRS</th>\n      <th>TTT</th>\n      <th>VRS</th>\n      <th>WOW</th>\n      <th>WZR</th>\n      <th>ZNO</th>\n    </tr>\n    <tr>\n      <th>Date</th>\n      <th></th>\n      <th></th>\n      <th></th>\n      <th></th>\n      <th></th>\n      <th></th>\n      <th></th>\n      <th></th>\n      <th></th>\n      <th></th>\n      <th></th>\n      <th></th>\n      <th></th>\n      <th></th>\n      <th></th>\n      <th></th>\n      <th></th>\n      <th></th>\n      <th></th>\n      <th></th>\n      <th></th>\n    </tr>\n  </thead>\n  <tbody>\n    <tr>\n      <th>2015-01-07</th>\n      <td>NaN</td>\n      <td>0.0740</td>\n      <td>0.055536</td>\n      <td>0.069718</td>\n      <td>0.005</td>\n      <td>0.011118</td>\n      <td>NaN</td>\n      <td>3.533724</td>\n      <td>0.287760</td>\n      <td>NaN</td>\n      <td>...</td>\n      <td>0.010666</td>\n      <td>0.0400</td>\n      <td>6.759596</td>\n      <td>NaN</td>\n      <td>NaN</td>\n      <td>NaN</td>\n      <td>0.159193</td>\n      <td>24.641617</td>\n      <td>0.450</td>\n      <td>1.00</td>\n    </tr>\n    <tr>\n      <th>2015-01-08</th>\n      <td>NaN</td>\n      <td>0.0610</td>\n      <td>0.052759</td>\n      <td>0.067953</td>\n      <td>0.005</td>\n      <td>0.011118</td>\n      <td>NaN</td>\n      <td>3.622253</td>\n      <td>0.292477</td>\n      <td>NaN</td>\n      <td>...</td>\n      <td>0.010666</td>\n      <td>0.0430</td>\n      <td>6.798389</td>\n      <td>NaN</td>\n      <td>NaN</td>\n      <td>NaN</td>\n      <td>0.159193</td>\n      <td>24.386559</td>\n      <td>0.450</td>\n      <td>1.00</td>\n    </tr>\n    <tr>\n      <th>2015-01-09</th>\n      <td>NaN</td>\n      <td>0.0690</td>\n      <td>0.052759</td>\n      <td>0.067953</td>\n      <td>0.005</td>\n      <td>0.011118</td>\n      <td>NaN</td>\n      <td>3.622253</td>\n      <td>0.301912</td>\n      <td>NaN</td>\n      <td>...</td>\n      <td>0.010666</td>\n      <td>0.0430</td>\n      <td>6.934163</td>\n      <td>NaN</td>\n      <td>NaN</td>\n      <td>NaN</td>\n      <td>0.159193</td>\n      <td>24.863760</td>\n      <td>0.450</td>\n      <td>1.00</td>\n    </tr>\n    <tr>\n      <th>2015-01-12</th>\n      <td>NaN</td>\n      <td>0.0740</td>\n      <td>0.052759</td>\n      <td>0.070601</td>\n      <td>0.006</td>\n      <td>0.011118</td>\n      <td>NaN</td>\n      <td>3.607497</td>\n      <td>0.301912</td>\n      <td>NaN</td>\n      <td>...</td>\n      <td>0.010666</td>\n      <td>0.0420</td>\n      <td>6.837182</td>\n      <td>NaN</td>\n      <td>NaN</td>\n      <td>NaN</td>\n      <td>0.154511</td>\n      <td>24.740349</td>\n      <td>0.450</td>\n      <td>1.00</td>\n    </tr>\n    <tr>\n      <th>2015-01-13</th>\n      <td>NaN</td>\n      <td>0.0690</td>\n      <td>0.055536</td>\n      <td>0.070601</td>\n      <td>0.007</td>\n      <td>0.011118</td>\n      <td>NaN</td>\n      <td>3.607497</td>\n      <td>0.316064</td>\n      <td>NaN</td>\n      <td>...</td>\n      <td>0.018666</td>\n      <td>0.0400</td>\n      <td>6.982653</td>\n      <td>NaN</td>\n      <td>NaN</td>\n      <td>NaN</td>\n      <td>0.154511</td>\n      <td>24.600477</td>\n      <td>0.450</td>\n      <td>1.00</td>\n    </tr>\n    <tr>\n      <th>...</th>\n      <td>...</td>\n      <td>...</td>\n      <td>...</td>\n      <td>...</td>\n      <td>...</td>\n      <td>...</td>\n      <td>...</td>\n      <td>...</td>\n      <td>...</td>\n      <td>...</td>\n      <td>...</td>\n      <td>...</td>\n      <td>...</td>\n      <td>...</td>\n      <td>...</td>\n      <td>...</td>\n      <td>...</td>\n      <td>...</td>\n      <td>...</td>\n      <td>...</td>\n      <td>...</td>\n    </tr>\n    <tr>\n      <th>2020-03-20</th>\n      <td>16.170000</td>\n      <td>0.0175</td>\n      <td>0.150000</td>\n      <td>0.380000</td>\n      <td>0.048</td>\n      <td>0.033000</td>\n      <td>0.120</td>\n      <td>1.095000</td>\n      <td>0.002000</td>\n      <td>NaN</td>\n      <td>...</td>\n      <td>0.074000</td>\n      <td>0.1100</td>\n      <td>22.240000</td>\n      <td>1.98</td>\n      <td>NaN</td>\n      <td>0.625</td>\n      <td>0.030000</td>\n      <td>37.470001</td>\n      <td>0.089</td>\n      <td>1.42</td>\n    </tr>\n    <tr>\n      <th>2020-03-23</th>\n      <td>15.400000</td>\n      <td>0.0160</td>\n      <td>0.150000</td>\n      <td>0.360000</td>\n      <td>0.045</td>\n      <td>0.035000</td>\n      <td>0.105</td>\n      <td>0.905000</td>\n      <td>0.001500</td>\n      <td>NaN</td>\n      <td>...</td>\n      <td>0.069000</td>\n      <td>0.0920</td>\n      <td>20.040001</td>\n      <td>1.72</td>\n      <td>NaN</td>\n      <td>0.550</td>\n      <td>0.020000</td>\n      <td>36.450001</td>\n      <td>0.070</td>\n      <td>1.28</td>\n    </tr>\n    <tr>\n      <th>2020-03-24</th>\n      <td>16.059999</td>\n      <td>0.0165</td>\n      <td>0.150000</td>\n      <td>0.360000</td>\n      <td>0.048</td>\n      <td>0.036000</td>\n      <td>0.120</td>\n      <td>1.070000</td>\n      <td>0.001500</td>\n      <td>NaN</td>\n      <td>...</td>\n      <td>0.145000</td>\n      <td>0.0950</td>\n      <td>22.010000</td>\n      <td>1.74</td>\n      <td>NaN</td>\n      <td>0.505</td>\n      <td>0.021000</td>\n      <td>36.180000</td>\n      <td>0.082</td>\n      <td>1.27</td>\n    </tr>\n    <tr>\n      <th>2020-03-25</th>\n      <td>15.900000</td>\n      <td>0.0150</td>\n      <td>0.150000</td>\n      <td>0.405000</td>\n      <td>0.047</td>\n      <td>0.040000</td>\n      <td>0.120</td>\n      <td>1.145000</td>\n      <td>0.001500</td>\n      <td>NaN</td>\n      <td>...</td>\n      <td>0.130000</td>\n      <td>0.1075</td>\n      <td>22.280001</td>\n      <td>1.94</td>\n      <td>NaN</td>\n      <td>0.500</td>\n      <td>0.022000</td>\n      <td>36.419998</td>\n      <td>0.083</td>\n      <td>1.32</td>\n    </tr>\n    <tr>\n      <th>2020-03-26</th>\n      <td>16.000000</td>\n      <td>0.0170</td>\n      <td>0.155000</td>\n      <td>0.480000</td>\n      <td>0.051</td>\n      <td>0.042000</td>\n      <td>0.145</td>\n      <td>1.280000</td>\n      <td>0.001500</td>\n      <td>NaN</td>\n      <td>...</td>\n      <td>0.160000</td>\n      <td>0.1050</td>\n      <td>22.820000</td>\n      <td>2.28</td>\n      <td>NaN</td>\n      <td>0.545</td>\n      <td>0.022000</td>\n      <td>36.730000</td>\n      <td>0.090</td>\n      <td>1.48</td>\n    </tr>\n  </tbody>\n</table>\n<p>1323 rows × 35 columns</p>\n</div>"
     },
     "metadata": {},
     "execution_count": 9
    }
   ],
   "source": [
    "close = prices['Adj Close']\n",
    "close.columns = tickers\n",
    "close"
   ]
  },
  {
   "cell_type": "code",
   "execution_count": null,
   "metadata": {},
   "outputs": [],
   "source": []
  }
 ]
}