{
 "nbformat": 4,
 "nbformat_minor": 2,
 "metadata": {
  "language_info": {
   "name": "python",
   "codemirror_mode": {
    "name": "ipython",
    "version": 3
   },
   "version": "3.7.6-final"
  },
  "orig_nbformat": 2,
  "file_extension": ".py",
  "mimetype": "text/x-python",
  "name": "python",
  "npconvert_exporter": "python",
  "pygments_lexer": "ipython3",
  "version": 3,
  "kernelspec": {
   "name": "python3",
   "display_name": "Python 3"
  }
 },
 "cells": [
  {
   "cell_type": "code",
   "execution_count": 1,
   "metadata": {},
   "outputs": [
    {
     "output_type": "stream",
     "name": "stdout",
     "text": "\n[*********************100%***********************]  35 of 35 completed\n\n1 Failed download:\n- SRS.AX: No data found, symbol may be delisted\n"
    },
    {
     "output_type": "execute_result",
     "data": {
      "text/plain": "                   Volume     Close\nDate       Ticker                  \n2015-01-07 A2M        NaN       NaN\n           ACW        NaN  0.074000\n           AMT        NaN  0.055536\n           AVH        NaN  0.069718\n           AVZ        NaN  0.005000\n...                   ...       ...\n2020-03-30 TTT     2067.0       NaN\n           VRS     -105.0       NaN\n           WOW       48.0       NaN\n           WZR     4448.0       NaN\n           ZNO     5004.0       NaN\n\n[46812 rows x 2 columns]",
      "text/html": "<div>\n<style scoped>\n    .dataframe tbody tr th:only-of-type {\n        vertical-align: middle;\n    }\n\n    .dataframe tbody tr th {\n        vertical-align: top;\n    }\n\n    .dataframe thead th {\n        text-align: right;\n    }\n</style>\n<table border=\"1\" class=\"dataframe\">\n  <thead>\n    <tr style=\"text-align: right;\">\n      <th></th>\n      <th></th>\n      <th>Volume</th>\n      <th>Close</th>\n    </tr>\n    <tr>\n      <th>Date</th>\n      <th>Ticker</th>\n      <th></th>\n      <th></th>\n    </tr>\n  </thead>\n  <tbody>\n    <tr>\n      <th rowspan=\"5\" valign=\"top\">2015-01-07</th>\n      <th>A2M</th>\n      <td>NaN</td>\n      <td>NaN</td>\n    </tr>\n    <tr>\n      <th>ACW</th>\n      <td>NaN</td>\n      <td>0.074000</td>\n    </tr>\n    <tr>\n      <th>AMT</th>\n      <td>NaN</td>\n      <td>0.055536</td>\n    </tr>\n    <tr>\n      <th>AVH</th>\n      <td>NaN</td>\n      <td>0.069718</td>\n    </tr>\n    <tr>\n      <th>AVZ</th>\n      <td>NaN</td>\n      <td>0.005000</td>\n    </tr>\n    <tr>\n      <th>...</th>\n      <th>...</th>\n      <td>...</td>\n      <td>...</td>\n    </tr>\n    <tr>\n      <th rowspan=\"5\" valign=\"top\">2020-03-30</th>\n      <th>TTT</th>\n      <td>2067.0</td>\n      <td>NaN</td>\n    </tr>\n    <tr>\n      <th>VRS</th>\n      <td>-105.0</td>\n      <td>NaN</td>\n    </tr>\n    <tr>\n      <th>WOW</th>\n      <td>48.0</td>\n      <td>NaN</td>\n    </tr>\n    <tr>\n      <th>WZR</th>\n      <td>4448.0</td>\n      <td>NaN</td>\n    </tr>\n    <tr>\n      <th>ZNO</th>\n      <td>5004.0</td>\n      <td>NaN</td>\n    </tr>\n  </tbody>\n</table>\n<p>46812 rows × 2 columns</p>\n</div>"
     },
     "metadata": {},
     "execution_count": 1
    }
   ],
   "source": [
    "from portfolio.holdings import Portfolio\n",
    "\n",
    "p = Portfolio()\n",
    "df = p.holdings"
   ]
  },
  {
   "cell_type": "code",
   "execution_count": null,
   "metadata": {},
   "outputs": [],
   "source": []
  }
 ]
}