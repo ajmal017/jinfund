{
 "nbformat": 4,
 "nbformat_minor": 2,
 "metadata": {
  "language_info": {
   "name": "python",
   "codemirror_mode": {
    "name": "ipython",
    "version": 3
   },
   "version": "3.7.6-final"
  },
  "orig_nbformat": 2,
  "file_extension": ".py",
  "mimetype": "text/x-python",
  "name": "python",
  "npconvert_exporter": "python",
  "pygments_lexer": "ipython3",
  "version": 3,
  "kernelspec": {
   "name": "python3",
   "display_name": "Python 3"
  }
 },
 "cells": [
  {
   "cell_type": "code",
   "execution_count": 1,
   "metadata": {},
   "outputs": [
    {
     "output_type": "stream",
     "name": "stdout",
     "text": "\nCapital gains for \tFY2019-2020\nTotal capital gains:\t $ 11949.16\n        \n"
    },
    {
     "output_type": "execute_result",
     "data": {
      "text/plain": "        CapitalGain\nTicker             \nAVH      428.623957\nBBOZ     177.800000\nBBUS    4943.394625\nEHE       73.225000\nIFN       77.714914\nNAN      942.960362\nPTX      180.509891\nQAN      146.000000\nTWE       59.930000\nUCM      274.690000\nVRS     -376.635531\nWOW      252.638000\nZNO     4768.308727",
      "text/html": "<div>\n<style scoped>\n    .dataframe tbody tr th:only-of-type {\n        vertical-align: middle;\n    }\n\n    .dataframe tbody tr th {\n        vertical-align: top;\n    }\n\n    .dataframe thead th {\n        text-align: right;\n    }\n</style>\n<table border=\"1\" class=\"dataframe\">\n  <thead>\n    <tr style=\"text-align: right;\">\n      <th></th>\n      <th>CapitalGain</th>\n    </tr>\n    <tr>\n      <th>Ticker</th>\n      <th></th>\n    </tr>\n  </thead>\n  <tbody>\n    <tr>\n      <th>AVH</th>\n      <td>428.623957</td>\n    </tr>\n    <tr>\n      <th>BBOZ</th>\n      <td>177.800000</td>\n    </tr>\n    <tr>\n      <th>BBUS</th>\n      <td>4943.394625</td>\n    </tr>\n    <tr>\n      <th>EHE</th>\n      <td>73.225000</td>\n    </tr>\n    <tr>\n      <th>IFN</th>\n      <td>77.714914</td>\n    </tr>\n    <tr>\n      <th>NAN</th>\n      <td>942.960362</td>\n    </tr>\n    <tr>\n      <th>PTX</th>\n      <td>180.509891</td>\n    </tr>\n    <tr>\n      <th>QAN</th>\n      <td>146.000000</td>\n    </tr>\n    <tr>\n      <th>TWE</th>\n      <td>59.930000</td>\n    </tr>\n    <tr>\n      <th>UCM</th>\n      <td>274.690000</td>\n    </tr>\n    <tr>\n      <th>VRS</th>\n      <td>-376.635531</td>\n    </tr>\n    <tr>\n      <th>WOW</th>\n      <td>252.638000</td>\n    </tr>\n    <tr>\n      <th>ZNO</th>\n      <td>4768.308727</td>\n    </tr>\n  </tbody>\n</table>\n</div>"
     },
     "metadata": {},
     "execution_count": 1
    }
   ],
   "source": [
    "from analysis.tax import AutoCGT\n",
    "\n",
    "cgt = AutoCGT()\n",
    "cgt.fy()"
   ]
  }
 ]
}