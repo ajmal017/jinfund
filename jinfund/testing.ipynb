{
 "nbformat": 4,
 "nbformat_minor": 2,
 "metadata": {
  "language_info": {
   "name": "python",
   "codemirror_mode": {
    "name": "ipython",
    "version": 3
   },
   "version": "3.7.6-final"
  },
  "orig_nbformat": 2,
  "file_extension": ".py",
  "mimetype": "text/x-python",
  "name": "python",
  "npconvert_exporter": "python",
  "pygments_lexer": "ipython3",
  "version": 3,
  "kernelspec": {
   "name": "python3",
   "display_name": "Python 3"
  }
 },
 "cells": [
  {
   "cell_type": "code",
   "execution_count": 12,
   "metadata": {},
   "outputs": [
    {
     "output_type": "stream",
     "name": "stdout",
     "text": "\nCapital gains for \tFY2018-2019\nTotal CG:\t\t $ 2584.02\nTotal CGTaxable:\t $ 2375.34\n(Uses LIFO method)\n        \n"
    },
    {
     "output_type": "execute_result",
     "data": {
      "text/plain": "        CapitalGains  CapitalGainsTaxable\nTicker                                   \nA2M      1302.000046          1262.000046\nAMT       750.000216           710.000216\nMSB       283.919971           253.919971\nOZL        37.359916           -11.320042\nQBE        59.070102            39.070102\nSRS       151.664968           121.664968",
      "text/html": "<div>\n<style scoped>\n    .dataframe tbody tr th:only-of-type {\n        vertical-align: middle;\n    }\n\n    .dataframe tbody tr th {\n        vertical-align: top;\n    }\n\n    .dataframe thead th {\n        text-align: right;\n    }\n</style>\n<table border=\"1\" class=\"dataframe\">\n  <thead>\n    <tr style=\"text-align: right;\">\n      <th></th>\n      <th>CapitalGains</th>\n      <th>CapitalGainsTaxable</th>\n    </tr>\n    <tr>\n      <th>Ticker</th>\n      <th></th>\n      <th></th>\n    </tr>\n  </thead>\n  <tbody>\n    <tr>\n      <th>A2M</th>\n      <td>1302.000046</td>\n      <td>1262.000046</td>\n    </tr>\n    <tr>\n      <th>AMT</th>\n      <td>750.000216</td>\n      <td>710.000216</td>\n    </tr>\n    <tr>\n      <th>MSB</th>\n      <td>283.919971</td>\n      <td>253.919971</td>\n    </tr>\n    <tr>\n      <th>OZL</th>\n      <td>37.359916</td>\n      <td>-11.320042</td>\n    </tr>\n    <tr>\n      <th>QBE</th>\n      <td>59.070102</td>\n      <td>39.070102</td>\n    </tr>\n    <tr>\n      <th>SRS</th>\n      <td>151.664968</td>\n      <td>121.664968</td>\n    </tr>\n  </tbody>\n</table>\n</div>"
     },
     "metadata": {},
     "execution_count": 12
    }
   ],
   "source": [
    "from analysis.tax import AutoTax\n",
    "\n",
    "t = AutoCGT()\n",
    "t.fy_view(yr_end=2019)"
   ]
  },
  {
   "cell_type": "code",
   "execution_count": null,
   "metadata": {},
   "outputs": [],
   "source": []
  }
 ]
}