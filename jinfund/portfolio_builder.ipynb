{
 "nbformat": 4,
 "nbformat_minor": 2,
 "metadata": {
  "language_info": {
   "name": "python",
   "codemirror_mode": {
    "name": "ipython",
    "version": 3
   },
   "version": "3.7.6-final"
  },
  "orig_nbformat": 2,
  "file_extension": ".py",
  "mimetype": "text/x-python",
  "name": "python",
  "npconvert_exporter": "python",
  "pygments_lexer": "ipython3",
  "version": 3,
  "kernelspec": {
   "name": "python3",
   "display_name": "Python 3"
  }
 },
 "cells": [
  {
   "cell_type": "code",
   "execution_count": 1,
   "metadata": {},
   "outputs": [
    {
     "output_type": "error",
     "ename": "ModuleNotFoundError",
     "evalue": "No module named 'portfolio.commsec'",
     "traceback": [
      "\u001b[1;31m---------------------------------------------------------------------------\u001b[0m",
      "\u001b[1;31mModuleNotFoundError\u001b[0m                       Traceback (most recent call last)",
      "\u001b[1;32m<ipython-input-1-0d3c8fc176cc>\u001b[0m in \u001b[0;36m<module>\u001b[1;34m\u001b[0m\n\u001b[0;32m      9\u001b[0m \u001b[1;33m\u001b[0m\u001b[0m\n\u001b[0;32m     10\u001b[0m \u001b[1;31m# Local imports\u001b[0m\u001b[1;33m\u001b[0m\u001b[1;33m\u001b[0m\u001b[1;33m\u001b[0m\u001b[0m\n\u001b[1;32m---> 11\u001b[1;33m \u001b[1;32mfrom\u001b[0m \u001b[0mportfolio\u001b[0m\u001b[1;33m.\u001b[0m\u001b[0mholdings\u001b[0m \u001b[1;32mimport\u001b[0m \u001b[0mPortfolio\u001b[0m\u001b[1;33m\u001b[0m\u001b[1;33m\u001b[0m\u001b[0m\n\u001b[0m\u001b[0;32m     12\u001b[0m \u001b[1;32mfrom\u001b[0m \u001b[0mportfolio\u001b[0m\u001b[1;33m.\u001b[0m\u001b[0mcommsec\u001b[0m \u001b[1;32mimport\u001b[0m \u001b[0mTrades\u001b[0m\u001b[1;33m\u001b[0m\u001b[1;33m\u001b[0m\u001b[0m\n\u001b[0;32m     13\u001b[0m \u001b[1;32mimport\u001b[0m \u001b[0mdatehandler\u001b[0m\u001b[1;33m\u001b[0m\u001b[1;33m\u001b[0m\u001b[0m\n",
      "\u001b[1;32md:\\User\\Documents\\Bob\\Coding\\Investment Related\\jinfund\\jinfund\\portfolio\\holdings.py\u001b[0m in \u001b[0;36m<module>\u001b[1;34m\u001b[0m\n\u001b[0;32m      9\u001b[0m \u001b[1;33m\u001b[0m\u001b[0m\n\u001b[0;32m     10\u001b[0m \u001b[1;31m# Local imports\u001b[0m\u001b[1;33m\u001b[0m\u001b[1;33m\u001b[0m\u001b[1;33m\u001b[0m\u001b[0m\n\u001b[1;32m---> 11\u001b[1;33m \u001b[1;32mfrom\u001b[0m \u001b[0mportfolio\u001b[0m\u001b[1;33m.\u001b[0m\u001b[0mcommsec\u001b[0m \u001b[1;32mimport\u001b[0m \u001b[0mTrades\u001b[0m\u001b[1;33m\u001b[0m\u001b[1;33m\u001b[0m\u001b[0m\n\u001b[0m\u001b[0;32m     12\u001b[0m \u001b[1;32mimport\u001b[0m \u001b[0mdatehandler\u001b[0m\u001b[1;33m\u001b[0m\u001b[1;33m\u001b[0m\u001b[0m\n\u001b[0;32m     13\u001b[0m \u001b[1;33m\u001b[0m\u001b[0m\n",
      "\u001b[1;31mModuleNotFoundError\u001b[0m: No module named 'portfolio.commsec'"
     ]
    }
   ],
   "source": [
    "# System imports\n",
    "from datetime import datetime\n",
    "import numpy as np\n",
    "import pandas as pd\n",
    "\n",
    "# Third-party imports\n",
    "import yfinance as yf\n",
    "from pathlib import Path\n",
    "\n",
    "# Local imports\n",
    "from portfolio.holdings import Portfolio\n",
    "from portfolio.transactions import Transactions\n",
    "import datehandler\n",
    "\n",
    "# Vars\n",
    "today = datetime.today().date()"
   ]
  },
  {
   "cell_type": "code",
   "execution_count": 3,
   "metadata": {},
   "outputs": [
    {
     "output_type": "error",
     "ename": "NameError",
     "evalue": "name 'Trades' is not defined",
     "traceback": [
      "\u001b[1;31m---------------------------------------------------------------------------\u001b[0m",
      "\u001b[1;31mNameError\u001b[0m                                 Traceback (most recent call last)",
      "\u001b[1;32m<ipython-input-3-36d732cbec18>\u001b[0m in \u001b[0;36m<module>\u001b[1;34m\u001b[0m\n\u001b[1;32m----> 1\u001b[1;33m \u001b[0mtrades\u001b[0m \u001b[1;33m=\u001b[0m \u001b[0mTrades\u001b[0m\u001b[1;33m(\u001b[0m\u001b[1;33m)\u001b[0m\u001b[1;33m\u001b[0m\u001b[1;33m\u001b[0m\u001b[0m\n\u001b[0m\u001b[0;32m      2\u001b[0m \u001b[0mtrades_df\u001b[0m \u001b[1;33m=\u001b[0m \u001b[0mtrades\u001b[0m\u001b[1;33m.\u001b[0m\u001b[0mall\u001b[0m\u001b[1;33m\u001b[0m\u001b[1;33m\u001b[0m\u001b[0m\n\u001b[0;32m      3\u001b[0m \u001b[1;33m\u001b[0m\u001b[0m\n\u001b[0;32m      4\u001b[0m \u001b[0mp_dates\u001b[0m \u001b[1;33m=\u001b[0m \u001b[0mdatehandler\u001b[0m\u001b[1;33m.\u001b[0m\u001b[0mdate_list\u001b[0m\u001b[1;33m(\u001b[0m\u001b[0mtrades_df\u001b[0m\u001b[1;33m.\u001b[0m\u001b[0mindex\u001b[0m\u001b[1;33m[\u001b[0m\u001b[1;33m-\u001b[0m\u001b[1;36m1\u001b[0m\u001b[1;33m]\u001b[0m\u001b[1;33m,\u001b[0m \u001b[0mtoday\u001b[0m\u001b[1;33m)\u001b[0m  \u001b[1;31m# Portfolio dates index\u001b[0m\u001b[1;33m\u001b[0m\u001b[1;33m\u001b[0m\u001b[0m\n\u001b[0;32m      5\u001b[0m \u001b[1;33m\u001b[0m\u001b[0m\n",
      "\u001b[1;31mNameError\u001b[0m: name 'Trades' is not defined"
     ]
    }
   ],
   "source": [
    "trades_df = Transactions().all\n",
    "\n",
    "p_dates = datehandler.date_list(trades_df.index[-1], today)  # Portfolio dates index\n",
    "\n",
    "tickers = list(sorted(set(trades_df.Ticker.to_list())))\n",
    "props = ['TradeType','TradeVolume','TradePrice','HoldingVolume','Vwap']\n",
    "\n",
    "columns = pd.MultiIndex.from_product([tickers,props], names=['Tickers','Props'])\n",
    "df_p = pd.DataFrame(None, index=pd.DatetimeIndex(p_dates), columns=columns)  # Create multiindex portfolio df\n",
    "\n",
    "# Clean index and columns\n",
    "df_p.index.name = 'Date'\n",
    "df_p = df_p.reindex(sorted(df_p.columns),axis=1)  # Sort columns\n",
    "df_p = df_p.reindex(sorted(df_p.index),axis=0)  # Sort index\n",
    "# df_p"
   ]
  },
  {
   "cell_type": "code",
   "execution_count": 4,
   "metadata": {},
   "outputs": [
    {
     "output_type": "error",
     "ename": "NameError",
     "evalue": "name 'tickers' is not defined",
     "traceback": [
      "\u001b[1;31m---------------------------------------------------------------------------\u001b[0m",
      "\u001b[1;31mNameError\u001b[0m                                 Traceback (most recent call last)",
      "\u001b[1;32m<ipython-input-4-4c4c4e6062cc>\u001b[0m in \u001b[0;36m<module>\u001b[1;34m\u001b[0m\n\u001b[0;32m      1\u001b[0m \u001b[0mdropped_cols\u001b[0m \u001b[1;33m=\u001b[0m \u001b[1;33m[\u001b[0m\u001b[1;34m'Market'\u001b[0m\u001b[1;33m,\u001b[0m\u001b[1;34m'Ticker'\u001b[0m\u001b[1;33m,\u001b[0m\u001b[1;34m'TradePrice'\u001b[0m\u001b[1;33m,\u001b[0m\u001b[1;34m'Brokerage'\u001b[0m\u001b[1;33m]\u001b[0m\u001b[1;33m\u001b[0m\u001b[1;33m\u001b[0m\u001b[0m\n\u001b[1;32m----> 2\u001b[1;33m \u001b[1;32mfor\u001b[0m \u001b[0mticker\u001b[0m \u001b[1;32min\u001b[0m \u001b[0mtickers\u001b[0m\u001b[1;33m:\u001b[0m\u001b[1;33m\u001b[0m\u001b[1;33m\u001b[0m\u001b[0m\n\u001b[0m\u001b[0;32m      3\u001b[0m     \u001b[1;31m# Add trade dataframe values to portfolio dataframe\u001b[0m\u001b[1;33m\u001b[0m\u001b[1;33m\u001b[0m\u001b[1;33m\u001b[0m\u001b[0m\n\u001b[0;32m      4\u001b[0m     \u001b[0mdf_t\u001b[0m \u001b[1;33m=\u001b[0m \u001b[0mtrades_df\u001b[0m\u001b[1;33m[\u001b[0m\u001b[0mtrades_df\u001b[0m\u001b[1;33m.\u001b[0m\u001b[0mTicker\u001b[0m \u001b[1;33m==\u001b[0m \u001b[0mticker\u001b[0m\u001b[1;33m]\u001b[0m\u001b[1;33m.\u001b[0m\u001b[0mcopy\u001b[0m\u001b[1;33m(\u001b[0m\u001b[1;33m)\u001b[0m\u001b[1;33m\u001b[0m\u001b[1;33m\u001b[0m\u001b[0m\n\u001b[0;32m      5\u001b[0m     \u001b[0mdf_t\u001b[0m\u001b[1;33m.\u001b[0m\u001b[0mloc\u001b[0m\u001b[1;33m[\u001b[0m\u001b[0mdf_t\u001b[0m\u001b[1;33m[\u001b[0m\u001b[1;34m'TradeType'\u001b[0m\u001b[1;33m]\u001b[0m \u001b[1;33m==\u001b[0m \u001b[1;34m'S'\u001b[0m\u001b[1;33m,\u001b[0m \u001b[1;34m'Volume'\u001b[0m\u001b[1;33m]\u001b[0m \u001b[1;33m*=\u001b[0m \u001b[1;33m-\u001b[0m\u001b[1;36m1\u001b[0m  \u001b[1;31m# Don't worry about the warning\u001b[0m\u001b[1;33m\u001b[0m\u001b[1;33m\u001b[0m\u001b[0m\n",
      "\u001b[1;31mNameError\u001b[0m: name 'tickers' is not defined"
     ]
    }
   ],
   "source": [
    "dropped_cols = ['Market','Ticker','TradePrice','Brokerage']\n",
    "for ticker in tickers:\n",
    "    # Add trade dataframe values to portfolio dataframe\n",
    "    df_t = trades_df[trades_df.Ticker == ticker].copy()\n",
    "    df_t.loc[df_t['TradeType'] == 'S', 'Volume'] *= -1  # Don't worry about the warning\n",
    "    df_t = df_t.drop(columns=dropped_cols)  # Drop columns first\n",
    "    df_t = df_t.rename(columns={            # Then rename columns - due to conflicting name!\n",
    "        'Volume':'TradeVolume',\n",
    "        'EffectivePrice':'TradePrice',\n",
    "        })\n",
    "    df_p[ticker] = df_t"
   ]
  },
  {
   "cell_type": "code",
   "execution_count": 5,
   "metadata": {},
   "outputs": [
    {
     "output_type": "error",
     "ename": "NameError",
     "evalue": "name 'df_p' is not defined",
     "traceback": [
      "\u001b[1;31m---------------------------------------------------------------------------\u001b[0m",
      "\u001b[1;31mNameError\u001b[0m                                 Traceback (most recent call last)",
      "\u001b[1;32m<ipython-input-5-14ea0d41ee29>\u001b[0m in \u001b[0;36m<module>\u001b[1;34m\u001b[0m\n\u001b[0;32m      1\u001b[0m \u001b[1;31m# Lookup prices\u001b[0m\u001b[1;33m\u001b[0m\u001b[1;33m\u001b[0m\u001b[1;33m\u001b[0m\u001b[0m\n\u001b[0;32m      2\u001b[0m \u001b[1;31m# Build list of tickers for yfinance\u001b[0m\u001b[1;33m\u001b[0m\u001b[1;33m\u001b[0m\u001b[1;33m\u001b[0m\u001b[0m\n\u001b[1;32m----> 3\u001b[1;33m \u001b[0mlookup_tickers\u001b[0m \u001b[1;33m=\u001b[0m \u001b[1;33m[\u001b[0m\u001b[1;34mf'{ticker}.AX'\u001b[0m \u001b[1;32mfor\u001b[0m \u001b[0mticker\u001b[0m \u001b[1;32min\u001b[0m \u001b[0mdf_p\u001b[0m\u001b[1;33m.\u001b[0m\u001b[0mcolumns\u001b[0m\u001b[1;33m.\u001b[0m\u001b[0mlevels\u001b[0m\u001b[1;33m[\u001b[0m\u001b[1;36m0\u001b[0m\u001b[1;33m]\u001b[0m\u001b[1;33m.\u001b[0m\u001b[0mto_list\u001b[0m\u001b[1;33m(\u001b[0m\u001b[1;33m)\u001b[0m\u001b[1;33m]\u001b[0m\u001b[1;33m\u001b[0m\u001b[1;33m\u001b[0m\u001b[0m\n\u001b[0m\u001b[0;32m      4\u001b[0m \u001b[0mlookup_tickers\u001b[0m \u001b[1;33m=\u001b[0m \u001b[1;34m' '\u001b[0m\u001b[1;33m.\u001b[0m\u001b[0mjoin\u001b[0m\u001b[1;33m(\u001b[0m\u001b[0mlookup_tickers\u001b[0m\u001b[1;33m)\u001b[0m\u001b[1;33m\u001b[0m\u001b[1;33m\u001b[0m\u001b[0m\n\u001b[0;32m      5\u001b[0m \u001b[1;33m\u001b[0m\u001b[0m\n",
      "\u001b[1;31mNameError\u001b[0m: name 'df_p' is not defined"
     ]
    }
   ],
   "source": [
    "# Lookup prices\n",
    "# Build list of tickers for yfinance\n",
    "lookup_tickers = [f'{ticker}.AX' for ticker in df_p.columns.levels[0].to_list()]\n",
    "lookup_tickers = ' '.join(lookup_tickers)\n",
    "\n",
    "prices = yf.download(lookup_tickers, start=p_dates[0], end=p_dates[-1], group_by='ticker')"
   ]
  },
  {
   "cell_type": "code",
   "execution_count": 6,
   "metadata": {},
   "outputs": [
    {
     "output_type": "error",
     "ename": "NameError",
     "evalue": "name 'prices' is not defined",
     "traceback": [
      "\u001b[1;31m---------------------------------------------------------------------------\u001b[0m",
      "\u001b[1;31mNameError\u001b[0m                                 Traceback (most recent call last)",
      "\u001b[1;32m<ipython-input-6-32ac5068f5d7>\u001b[0m in \u001b[0;36m<module>\u001b[1;34m\u001b[0m\n\u001b[0;32m      2\u001b[0m \u001b[1;33m\u001b[0m\u001b[0m\n\u001b[0;32m      3\u001b[0m \u001b[1;31m# Remove market suffix from data\u001b[0m\u001b[1;33m\u001b[0m\u001b[1;33m\u001b[0m\u001b[1;33m\u001b[0m\u001b[0m\n\u001b[1;32m----> 4\u001b[1;33m \u001b[0mtickers_without_suffix\u001b[0m \u001b[1;33m=\u001b[0m \u001b[1;33m[\u001b[0m\u001b[0mticker\u001b[0m\u001b[1;33m.\u001b[0m\u001b[0mreplace\u001b[0m\u001b[1;33m(\u001b[0m\u001b[1;34m'.AX'\u001b[0m\u001b[1;33m,\u001b[0m\u001b[1;34m''\u001b[0m\u001b[1;33m)\u001b[0m \u001b[1;32mfor\u001b[0m \u001b[0mticker\u001b[0m \u001b[1;32min\u001b[0m \u001b[0mprices\u001b[0m\u001b[1;33m.\u001b[0m\u001b[0mcolumns\u001b[0m\u001b[1;33m.\u001b[0m\u001b[0mlevels\u001b[0m\u001b[1;33m[\u001b[0m\u001b[1;36m0\u001b[0m\u001b[1;33m]\u001b[0m\u001b[1;33m]\u001b[0m\u001b[1;33m\u001b[0m\u001b[1;33m\u001b[0m\u001b[0m\n\u001b[0m\u001b[0;32m      5\u001b[0m \u001b[1;33m\u001b[0m\u001b[0m\n\u001b[0;32m      6\u001b[0m \u001b[0mprices\u001b[0m\u001b[1;33m.\u001b[0m\u001b[0mcolumns\u001b[0m\u001b[1;33m.\u001b[0m\u001b[0mset_levels\u001b[0m\u001b[1;33m(\u001b[0m\u001b[0mtickers_without_suffix\u001b[0m\u001b[1;33m,\u001b[0m \u001b[0mlevel\u001b[0m\u001b[1;33m=\u001b[0m\u001b[1;36m0\u001b[0m\u001b[1;33m,\u001b[0m \u001b[0minplace\u001b[0m\u001b[1;33m=\u001b[0m\u001b[1;32mTrue\u001b[0m\u001b[1;33m)\u001b[0m\u001b[1;33m\u001b[0m\u001b[1;33m\u001b[0m\u001b[0m\n",
      "\u001b[1;31mNameError\u001b[0m: name 'prices' is not defined"
     ]
    }
   ],
   "source": [
    "tickers_with_prices = []\n",
    "\n",
    "# Remove market suffix from data\n",
    "tickers_without_suffix = [ticker.replace('.AX','') for ticker in prices.columns.levels[0]]\n",
    "\n",
    "prices.columns.set_levels(tickers_without_suffix, level=0, inplace=True)"
   ]
  },
  {
   "cell_type": "code",
   "execution_count": 7,
   "metadata": {},
   "outputs": [
    {
     "output_type": "error",
     "ename": "NameError",
     "evalue": "name 'df_p' is not defined",
     "traceback": [
      "\u001b[1;31m---------------------------------------------------------------------------\u001b[0m",
      "\u001b[1;31mNameError\u001b[0m                                 Traceback (most recent call last)",
      "\u001b[1;32m<ipython-input-7-05fdcf02fd3d>\u001b[0m in \u001b[0;36m<module>\u001b[1;34m\u001b[0m\n\u001b[0;32m     48\u001b[0m \u001b[1;31m# -------Code ---------\u001b[0m\u001b[1;33m\u001b[0m\u001b[1;33m\u001b[0m\u001b[1;33m\u001b[0m\u001b[0m\n\u001b[0;32m     49\u001b[0m \u001b[1;31m# Build portfolio\u001b[0m\u001b[1;33m\u001b[0m\u001b[1;33m\u001b[0m\u001b[1;33m\u001b[0m\u001b[0m\n\u001b[1;32m---> 50\u001b[1;33m \u001b[1;32mfor\u001b[0m \u001b[0mcount\u001b[0m\u001b[1;33m,\u001b[0m \u001b[0mticker\u001b[0m \u001b[1;32min\u001b[0m \u001b[0menumerate\u001b[0m\u001b[1;33m(\u001b[0m\u001b[0mdf_p\u001b[0m\u001b[1;33m.\u001b[0m\u001b[0mcolumns\u001b[0m\u001b[1;33m.\u001b[0m\u001b[0mlevels\u001b[0m\u001b[1;33m[\u001b[0m\u001b[1;36m0\u001b[0m\u001b[1;33m]\u001b[0m\u001b[1;33m)\u001b[0m\u001b[1;33m:\u001b[0m\u001b[1;33m\u001b[0m\u001b[1;33m\u001b[0m\u001b[0m\n\u001b[0m\u001b[0;32m     51\u001b[0m     \u001b[0mprint\u001b[0m\u001b[1;33m(\u001b[0m\u001b[1;34mf'\\r{ticker} | Progress {count+1}/{len(df_p.columns.levels[0])} '\u001b[0m\u001b[1;33m,\u001b[0m\u001b[0mend\u001b[0m\u001b[1;33m=\u001b[0m\u001b[1;34m''\u001b[0m\u001b[1;33m,\u001b[0m\u001b[0mflush\u001b[0m\u001b[1;33m=\u001b[0m\u001b[1;32mTrue\u001b[0m\u001b[1;33m)\u001b[0m\u001b[1;33m\u001b[0m\u001b[1;33m\u001b[0m\u001b[0m\n\u001b[0;32m     52\u001b[0m \u001b[1;33m\u001b[0m\u001b[0m\n",
      "\u001b[1;31mNameError\u001b[0m: name 'df_p' is not defined"
     ]
    }
   ],
   "source": [
    "def _build_from_trades(df):\n",
    "    df_ticker = df.copy()\n",
    "\n",
    "    df_ticker['HoldingVolume'] = df_ticker['TradeVolume'].fillna(0).cumsum()\n",
    "\n",
    "    # Vwap: BookValue / HoldingVolume\n",
    "    df_ticker.loc[df_ticker['TradeType'] == 'B','TradeEncoding'] = 1\n",
    "    df_ticker.loc[df_ticker['TradeType'] == 'S','TradeEncoding'] = 0\n",
    "    df_ticker['BuyValue'] = df_ticker['TradeVolume'] * df_ticker['TradePrice'] * df_ticker['TradeEncoding']\n",
    "    df_ticker['BuyVolume'] = df_ticker['TradeVolume'] * df_ticker['TradeEncoding']\n",
    "    df_ticker['BuyVolume'] = df_ticker['BuyVolume'].cumsum()  # Temp calc column\n",
    "    df_ticker['BuyValue'] = df_ticker['BuyValue'].cumsum()  # Temp calc column\n",
    "    df_ticker['Vwap'] = df_ticker['BuyValue'].divide(df_ticker['BuyVolume']).fillna(method='ffill')\n",
    "\n",
    "    df_ticker = df_ticker.drop(columns=['BuyVolume','BuyValue','TradeEncoding'])  # Remove temp calc columns\n",
    "    \n",
    "    return df_ticker\n",
    "\n",
    "def _stocksplits(df):\n",
    "    try:  # Dividends and stock splits\n",
    "        stock = yf.Ticker(f'{ticker}.AX')\n",
    "        df_actions = stock.actions\n",
    "    except TypeError:\n",
    "        print(f'\\rSomething went wrong!',flush=True)\n",
    "        return\n",
    "    \n",
    "    # Add stocksplits column\n",
    "    if len(df_actions[df_actions['Stock Splits'] > 0]) > 0:\n",
    "        df['StockSplits'] = df_actions['Stock Splits'].replace(0,np.nan)\n",
    "\n",
    "        # Set all dates with 0 holdings to have np.nan holdings\n",
    "        df['HoldingVolume'] = df['HoldingVolume'].replace(0,np.nan)\n",
    "\n",
    "        stocksplit_cumulative = df.loc[df['HoldingVolume'].first_valid_index():]['StockSplits'].cumprod()\n",
    "        stocksplit_cumulative = stocksplit_cumulative.fillna(method='ffill').fillna(1)\n",
    "\n",
    "\n",
    "        # Update holding volume\n",
    "        df['HoldingVolume'] *= stocksplit_cumulative\n",
    "        df['HoldingVolume'] = np.ceil(df['HoldingVolume'])\n",
    "        df['HoldingVolume'] = df['HoldingVolume'].fillna(0)  # Replace np.nan holdings with 0\n",
    "        \n",
    "        # Update vwap\n",
    "        df['Vwap'] /= stocksplit_cumulative\n",
    "\n",
    "    return df\n",
    "\n",
    "# -------Code ---------\n",
    "# Build portfolio\n",
    "for count, ticker in enumerate(df_p.columns.levels[0]):\n",
    "    print(f'\\r{ticker} | Progress {count+1}/{len(df_p.columns.levels[0])} ',end='',flush=True)\n",
    "    \n",
    "    # ==== Test\n",
    "    if ticker != 'RMD':  # For testing one ticker only\n",
    "        continue\n",
    "    # ==== Test\n",
    "\n",
    "    if ticker not in tickers_without_suffix:\n",
    "        print(f'Skipping {ticker} due to no price data...')\n",
    "        continue\n",
    "    \n",
    "    df_t = df_p[ticker]\n",
    "\n",
    "    df_t = _build_from_trades(df_t)     # Build porfolio from trades\n",
    "    df_t['ClosePrice'] = prices[ticker]['Close'].copy()  # Load prices into dataframe\n",
    "    df_t = _stocksplits(df_t)  # Update dataframe with stocksplits\n",
    "    ####################################\n",
    "    #### Dividends to be added manually  \n",
    "    ####################################\n",
    "\n",
    "    # Calculate cashflow\n",
    "    df_t['Cashflow'] = df_t['TradePrice'] * df_t['TradeVolume']\n",
    "    df_t['Cashflow'] = df_t['Cashflow'].fillna(0)\n",
    "    \n",
    "    # Calculate end value\n",
    "    df_t['EndValue'] = df_t['HoldingVolume'] * df_t['ClosePrice'].fillna(method='ffill')\n",
    "    # Any trades have the end-value reset\n",
    "    df_t.loc[df_t.TradeVolume > 0,'EndValue'] = df_t.loc[df_t.TradeVolume > 0]['Cashflow']\n",
    "    # Add trade value to previous days close\n",
    "\n",
    "    # Calculate start value\n",
    "    df_t['StartValue'] = df_t['EndValue'].shift(1).replace(0,np.nan)\n",
    "\n",
    "    # Calculate daily returns\n",
    "    df_t['DailyReturn'] = df_t['EndValue'] / (df_t['StartValue'] + df_t['Cashflow']) - 1\n",
    "    df_t['DailyReturn'] = df_t['DailyReturn'].replace(-1,np.nan) + 1  # Catch sales\n",
    "    df_t['CumulativeReturn'] = df_t['DailyReturn'].cumprod() - 1\n",
    "\n",
    "    # Drop group and re-append new df\n",
    "    df_p = df_p.drop(ticker, axis='columns', level=0)\n",
    "    for col in df_t.columns:\n",
    "        df_p[ticker,col] = df_t[col]\n",
    "\n",
    "    df_p[ticker].to_csv('test.csv')\n",
    "\n",
    "# df_p[('portfolio', 'EndValue')] = df_p.xs('EndValue', level='Props', axis=1).sum(axis=1, min_count=1)\n",
    "# df_p[('portfolio', 'StartValue')] = df_p.xs('StartValue', level='Props', axis=1).sum(axis=1, min_count=1)\n",
    "# df_p[('portfolio', 'Cashflow')] = df_p.xs('Cashflow', level='Props', axis=1).sum(axis=1, min_count=1)\n",
    "# df_p[('portfolio','DailyReturn')] = df_p[('portfolio','EndValue')]/(df_p[('portfolio','StartValue')]+df_p[('portfolio','Cashflow')]) - 1\n",
    "# df_p['portfolio', 'DailyReturn'] = df_p['portfolio', 'DailyReturn'].replace(-1,np.nan) + 1\n",
    "# df_p[('portfolio','CumulativeReturn')] = df_p[('portfolio','DailyReturn')].cumprod()\n",
    "\n",
    "# Clean columns\n",
    "# df_p = df_p.drop(['EndValue','StartValue','Cashflow'], axis='columns',level=1)\n",
    "\n",
    "a = df_p['RMD'].loc['2016-04-27':]"
   ]
  },
  {
   "cell_type": "code",
   "execution_count": 8,
   "metadata": {},
   "outputs": [
    {
     "output_type": "error",
     "ename": "NameError",
     "evalue": "name 'df_p' is not defined",
     "traceback": [
      "\u001b[1;31m---------------------------------------------------------------------------\u001b[0m",
      "\u001b[1;31mNameError\u001b[0m                                 Traceback (most recent call last)",
      "\u001b[1;32m<ipython-input-8-0315e1faa6be>\u001b[0m in \u001b[0;36m<module>\u001b[1;34m\u001b[0m\n\u001b[1;32m----> 1\u001b[1;33m \u001b[0ma\u001b[0m \u001b[1;33m=\u001b[0m \u001b[0mdf_p\u001b[0m\u001b[1;33m[\u001b[0m\u001b[1;34m'RMD'\u001b[0m\u001b[1;33m]\u001b[0m\u001b[1;33m.\u001b[0m\u001b[0mloc\u001b[0m\u001b[1;33m[\u001b[0m\u001b[0mdf_p\u001b[0m\u001b[1;33m[\u001b[0m\u001b[1;34m'RMD'\u001b[0m\u001b[1;33m]\u001b[0m\u001b[1;33m.\u001b[0m\u001b[0mTradeVolume\u001b[0m\u001b[1;33m.\u001b[0m\u001b[0misna\u001b[0m\u001b[1;33m(\u001b[0m\u001b[1;33m)\u001b[0m \u001b[1;33m==\u001b[0m \u001b[1;32mFalse\u001b[0m\u001b[1;33m]\u001b[0m\u001b[1;33m\u001b[0m\u001b[1;33m\u001b[0m\u001b[0m\n\u001b[0m",
      "\u001b[1;31mNameError\u001b[0m: name 'df_p' is not defined"
     ]
    }
   ],
   "source": [
    "a = df_p['RMD'].loc[df_p['RMD'].TradeVolume.isna() == False]"
   ]
  },
  {
   "cell_type": "code",
   "execution_count": null,
   "metadata": {},
   "outputs": [],
   "source": []
  }
 ]
}