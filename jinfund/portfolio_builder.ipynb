{
 "nbformat": 4,
 "nbformat_minor": 2,
 "metadata": {
  "language_info": {
   "name": "python",
   "codemirror_mode": {
    "name": "ipython",
    "version": 3
   },
   "version": "3.7.6-final"
  },
  "orig_nbformat": 2,
  "file_extension": ".py",
  "mimetype": "text/x-python",
  "name": "python",
  "npconvert_exporter": "python",
  "pygments_lexer": "ipython3",
  "version": 3,
  "kernelspec": {
   "name": "python3",
   "display_name": "Python 3"
  }
 },
 "cells": [
  {
   "cell_type": "code",
   "execution_count": 1,
   "metadata": {},
   "outputs": [],
   "source": [
    "# System imports\n",
    "from datetime import datetime\n",
    "import numpy as np\n",
    "import pandas as pd\n",
    "\n",
    "# Third-party imports\n",
    "import yfinance as yf\n",
    "from pathlib import Path\n",
    "\n",
    "# Local imports\n",
    "from portfolio.holdings import Portfolio\n",
    "from portfolio.commsec import Trades\n",
    "import datehandler\n",
    "\n",
    "# Vars\n",
    "today = datetime.today().date()"
   ]
  },
  {
   "cell_type": "code",
   "execution_count": 8,
   "metadata": {},
   "outputs": [
    {
     "output_type": "execute_result",
     "data": {
      "text/plain": "           Ticker Market TradeType    Volume  TradePrice  EffectivePrice  \\\nDate                                                                       \n2020-01-16   IBXO    ASX         B  100099.0    0.010000        0.010100   \n2020-01-14    DEM    ASX         B    4170.0    0.240000        0.242398   \n2020-01-14    IFN    ASX         S    1767.0    0.680000        0.668710   \n2020-01-10    AVH    ASX         S    1551.0    0.645000        0.638556   \n2020-01-10    VRS    ASX         S    4553.0    0.064000        0.061803   \n...           ...    ...       ...       ...         ...             ...   \n2017-08-03    NAN    ASX         B    2000.0    2.310700        2.320675   \n2016-07-06    QBE    ASX         B     500.0   10.280000       10.319900   \n2016-04-28    RMD    ASX         B     300.0    7.500000        7.566500   \n2015-03-26    WOW    ASX         B     100.0   28.799999       28.999500   \n2015-01-07    NAN    ASX         B    1000.0    1.350000        1.369950   \n\n            Brokerage  \nDate                   \n2020-01-16       10.0  \n2020-01-14       10.0  \n2020-01-14       20.0  \n2020-01-10       10.0  \n2020-01-10       10.0  \n...               ...  \n2017-08-03       20.0  \n2016-07-06       20.0  \n2016-04-28       20.0  \n2015-03-26       20.0  \n2015-01-07       20.0  \n\n[66 rows x 7 columns]",
      "text/html": "<div>\n<style scoped>\n    .dataframe tbody tr th:only-of-type {\n        vertical-align: middle;\n    }\n\n    .dataframe tbody tr th {\n        vertical-align: top;\n    }\n\n    .dataframe thead th {\n        text-align: right;\n    }\n</style>\n<table border=\"1\" class=\"dataframe\">\n  <thead>\n    <tr style=\"text-align: right;\">\n      <th></th>\n      <th>Ticker</th>\n      <th>Market</th>\n      <th>TradeType</th>\n      <th>Volume</th>\n      <th>TradePrice</th>\n      <th>EffectivePrice</th>\n      <th>Brokerage</th>\n    </tr>\n    <tr>\n      <th>Date</th>\n      <th></th>\n      <th></th>\n      <th></th>\n      <th></th>\n      <th></th>\n      <th></th>\n      <th></th>\n    </tr>\n  </thead>\n  <tbody>\n    <tr>\n      <th>2020-01-16</th>\n      <td>IBXO</td>\n      <td>ASX</td>\n      <td>B</td>\n      <td>100099.0</td>\n      <td>0.010000</td>\n      <td>0.010100</td>\n      <td>10.0</td>\n    </tr>\n    <tr>\n      <th>2020-01-14</th>\n      <td>DEM</td>\n      <td>ASX</td>\n      <td>B</td>\n      <td>4170.0</td>\n      <td>0.240000</td>\n      <td>0.242398</td>\n      <td>10.0</td>\n    </tr>\n    <tr>\n      <th>2020-01-14</th>\n      <td>IFN</td>\n      <td>ASX</td>\n      <td>S</td>\n      <td>1767.0</td>\n      <td>0.680000</td>\n      <td>0.668710</td>\n      <td>20.0</td>\n    </tr>\n    <tr>\n      <th>2020-01-10</th>\n      <td>AVH</td>\n      <td>ASX</td>\n      <td>S</td>\n      <td>1551.0</td>\n      <td>0.645000</td>\n      <td>0.638556</td>\n      <td>10.0</td>\n    </tr>\n    <tr>\n      <th>2020-01-10</th>\n      <td>VRS</td>\n      <td>ASX</td>\n      <td>S</td>\n      <td>4553.0</td>\n      <td>0.064000</td>\n      <td>0.061803</td>\n      <td>10.0</td>\n    </tr>\n    <tr>\n      <th>...</th>\n      <td>...</td>\n      <td>...</td>\n      <td>...</td>\n      <td>...</td>\n      <td>...</td>\n      <td>...</td>\n      <td>...</td>\n    </tr>\n    <tr>\n      <th>2017-08-03</th>\n      <td>NAN</td>\n      <td>ASX</td>\n      <td>B</td>\n      <td>2000.0</td>\n      <td>2.310700</td>\n      <td>2.320675</td>\n      <td>20.0</td>\n    </tr>\n    <tr>\n      <th>2016-07-06</th>\n      <td>QBE</td>\n      <td>ASX</td>\n      <td>B</td>\n      <td>500.0</td>\n      <td>10.280000</td>\n      <td>10.319900</td>\n      <td>20.0</td>\n    </tr>\n    <tr>\n      <th>2016-04-28</th>\n      <td>RMD</td>\n      <td>ASX</td>\n      <td>B</td>\n      <td>300.0</td>\n      <td>7.500000</td>\n      <td>7.566500</td>\n      <td>20.0</td>\n    </tr>\n    <tr>\n      <th>2015-03-26</th>\n      <td>WOW</td>\n      <td>ASX</td>\n      <td>B</td>\n      <td>100.0</td>\n      <td>28.799999</td>\n      <td>28.999500</td>\n      <td>20.0</td>\n    </tr>\n    <tr>\n      <th>2015-01-07</th>\n      <td>NAN</td>\n      <td>ASX</td>\n      <td>B</td>\n      <td>1000.0</td>\n      <td>1.350000</td>\n      <td>1.369950</td>\n      <td>20.0</td>\n    </tr>\n  </tbody>\n</table>\n<p>66 rows × 7 columns</p>\n</div>"
     },
     "metadata": {},
     "execution_count": 8
    }
   ],
   "source": [
    "trades_df"
   ]
  },
  {
   "cell_type": "code",
   "execution_count": 2,
   "metadata": {},
   "outputs": [
    {
     "output_type": "stream",
     "name": "stdout",
     "text": "\n"
    },
    {
     "output_type": "execute_result",
     "data": {
      "text/plain": "Tickers              A2M                                                 ACW  \\\nProps      HoldingVolume TradePrice TradeType TradeVolume Vwap HoldingVolume   \nDate                                                                           \n2015-01-07           NaN        NaN       NaN         NaN  NaN           NaN   \n2015-01-08           NaN        NaN       NaN         NaN  NaN           NaN   \n2015-01-09           NaN        NaN       NaN         NaN  NaN           NaN   \n2015-01-12           NaN        NaN       NaN         NaN  NaN           NaN   \n2015-01-13           NaN        NaN       NaN         NaN  NaN           NaN   \n...                  ...        ...       ...         ...  ...           ...   \n2020-03-23           NaN        NaN       NaN         NaN  NaN           NaN   \n2020-03-24           NaN        NaN       NaN         NaN  NaN           NaN   \n2020-03-25           NaN        NaN       NaN         NaN  NaN           NaN   \n2020-03-26           NaN        NaN       NaN         NaN  NaN           NaN   \n2020-03-27           NaN        NaN       NaN         NaN  NaN           NaN   \n\nTickers                                           ...           WZR  \\\nProps      TradePrice TradeType TradeVolume Vwap  ... HoldingVolume   \nDate                                              ...                 \n2015-01-07        NaN       NaN         NaN  NaN  ...           NaN   \n2015-01-08        NaN       NaN         NaN  NaN  ...           NaN   \n2015-01-09        NaN       NaN         NaN  NaN  ...           NaN   \n2015-01-12        NaN       NaN         NaN  NaN  ...           NaN   \n2015-01-13        NaN       NaN         NaN  NaN  ...           NaN   \n...               ...       ...         ...  ...  ...           ...   \n2020-03-23        NaN       NaN         NaN  NaN  ...           NaN   \n2020-03-24        NaN       NaN         NaN  NaN  ...           NaN   \n2020-03-25        NaN       NaN         NaN  NaN  ...           NaN   \n2020-03-26        NaN       NaN         NaN  NaN  ...           NaN   \n2020-03-27        NaN       NaN         NaN  NaN  ...           NaN   \n\nTickers                                                    ZNO             \\\nProps      TradePrice TradeType TradeVolume Vwap HoldingVolume TradePrice   \nDate                                                                        \n2015-01-07        NaN       NaN         NaN  NaN           NaN        NaN   \n2015-01-08        NaN       NaN         NaN  NaN           NaN        NaN   \n2015-01-09        NaN       NaN         NaN  NaN           NaN        NaN   \n2015-01-12        NaN       NaN         NaN  NaN           NaN        NaN   \n2015-01-13        NaN       NaN         NaN  NaN           NaN        NaN   \n...               ...       ...         ...  ...           ...        ...   \n2020-03-23        NaN       NaN         NaN  NaN           NaN        NaN   \n2020-03-24        NaN       NaN         NaN  NaN           NaN        NaN   \n2020-03-25        NaN       NaN         NaN  NaN           NaN        NaN   \n2020-03-26        NaN       NaN         NaN  NaN           NaN        NaN   \n2020-03-27        NaN       NaN         NaN  NaN           NaN        NaN   \n\nTickers                                \nProps      TradeType TradeVolume Vwap  \nDate                                   \n2015-01-07       NaN         NaN  NaN  \n2015-01-08       NaN         NaN  NaN  \n2015-01-09       NaN         NaN  NaN  \n2015-01-12       NaN         NaN  NaN  \n2015-01-13       NaN         NaN  NaN  \n...              ...         ...  ...  \n2020-03-23       NaN         NaN  NaN  \n2020-03-24       NaN         NaN  NaN  \n2020-03-25       NaN         NaN  NaN  \n2020-03-26       NaN         NaN  NaN  \n2020-03-27       NaN         NaN  NaN  \n\n[1363 rows x 175 columns]",
      "text/html": "<div>\n<style scoped>\n    .dataframe tbody tr th:only-of-type {\n        vertical-align: middle;\n    }\n\n    .dataframe tbody tr th {\n        vertical-align: top;\n    }\n\n    .dataframe thead tr th {\n        text-align: left;\n    }\n\n    .dataframe thead tr:last-of-type th {\n        text-align: right;\n    }\n</style>\n<table border=\"1\" class=\"dataframe\">\n  <thead>\n    <tr>\n      <th>Tickers</th>\n      <th colspan=\"5\" halign=\"left\">A2M</th>\n      <th colspan=\"5\" halign=\"left\">ACW</th>\n      <th>...</th>\n      <th colspan=\"5\" halign=\"left\">WZR</th>\n      <th colspan=\"5\" halign=\"left\">ZNO</th>\n    </tr>\n    <tr>\n      <th>Props</th>\n      <th>HoldingVolume</th>\n      <th>TradePrice</th>\n      <th>TradeType</th>\n      <th>TradeVolume</th>\n      <th>Vwap</th>\n      <th>HoldingVolume</th>\n      <th>TradePrice</th>\n      <th>TradeType</th>\n      <th>TradeVolume</th>\n      <th>Vwap</th>\n      <th>...</th>\n      <th>HoldingVolume</th>\n      <th>TradePrice</th>\n      <th>TradeType</th>\n      <th>TradeVolume</th>\n      <th>Vwap</th>\n      <th>HoldingVolume</th>\n      <th>TradePrice</th>\n      <th>TradeType</th>\n      <th>TradeVolume</th>\n      <th>Vwap</th>\n    </tr>\n    <tr>\n      <th>Date</th>\n      <th></th>\n      <th></th>\n      <th></th>\n      <th></th>\n      <th></th>\n      <th></th>\n      <th></th>\n      <th></th>\n      <th></th>\n      <th></th>\n      <th></th>\n      <th></th>\n      <th></th>\n      <th></th>\n      <th></th>\n      <th></th>\n      <th></th>\n      <th></th>\n      <th></th>\n      <th></th>\n      <th></th>\n    </tr>\n  </thead>\n  <tbody>\n    <tr>\n      <th>2015-01-07</th>\n      <td>NaN</td>\n      <td>NaN</td>\n      <td>NaN</td>\n      <td>NaN</td>\n      <td>NaN</td>\n      <td>NaN</td>\n      <td>NaN</td>\n      <td>NaN</td>\n      <td>NaN</td>\n      <td>NaN</td>\n      <td>...</td>\n      <td>NaN</td>\n      <td>NaN</td>\n      <td>NaN</td>\n      <td>NaN</td>\n      <td>NaN</td>\n      <td>NaN</td>\n      <td>NaN</td>\n      <td>NaN</td>\n      <td>NaN</td>\n      <td>NaN</td>\n    </tr>\n    <tr>\n      <th>2015-01-08</th>\n      <td>NaN</td>\n      <td>NaN</td>\n      <td>NaN</td>\n      <td>NaN</td>\n      <td>NaN</td>\n      <td>NaN</td>\n      <td>NaN</td>\n      <td>NaN</td>\n      <td>NaN</td>\n      <td>NaN</td>\n      <td>...</td>\n      <td>NaN</td>\n      <td>NaN</td>\n      <td>NaN</td>\n      <td>NaN</td>\n      <td>NaN</td>\n      <td>NaN</td>\n      <td>NaN</td>\n      <td>NaN</td>\n      <td>NaN</td>\n      <td>NaN</td>\n    </tr>\n    <tr>\n      <th>2015-01-09</th>\n      <td>NaN</td>\n      <td>NaN</td>\n      <td>NaN</td>\n      <td>NaN</td>\n      <td>NaN</td>\n      <td>NaN</td>\n      <td>NaN</td>\n      <td>NaN</td>\n      <td>NaN</td>\n      <td>NaN</td>\n      <td>...</td>\n      <td>NaN</td>\n      <td>NaN</td>\n      <td>NaN</td>\n      <td>NaN</td>\n      <td>NaN</td>\n      <td>NaN</td>\n      <td>NaN</td>\n      <td>NaN</td>\n      <td>NaN</td>\n      <td>NaN</td>\n    </tr>\n    <tr>\n      <th>2015-01-12</th>\n      <td>NaN</td>\n      <td>NaN</td>\n      <td>NaN</td>\n      <td>NaN</td>\n      <td>NaN</td>\n      <td>NaN</td>\n      <td>NaN</td>\n      <td>NaN</td>\n      <td>NaN</td>\n      <td>NaN</td>\n      <td>...</td>\n      <td>NaN</td>\n      <td>NaN</td>\n      <td>NaN</td>\n      <td>NaN</td>\n      <td>NaN</td>\n      <td>NaN</td>\n      <td>NaN</td>\n      <td>NaN</td>\n      <td>NaN</td>\n      <td>NaN</td>\n    </tr>\n    <tr>\n      <th>2015-01-13</th>\n      <td>NaN</td>\n      <td>NaN</td>\n      <td>NaN</td>\n      <td>NaN</td>\n      <td>NaN</td>\n      <td>NaN</td>\n      <td>NaN</td>\n      <td>NaN</td>\n      <td>NaN</td>\n      <td>NaN</td>\n      <td>...</td>\n      <td>NaN</td>\n      <td>NaN</td>\n      <td>NaN</td>\n      <td>NaN</td>\n      <td>NaN</td>\n      <td>NaN</td>\n      <td>NaN</td>\n      <td>NaN</td>\n      <td>NaN</td>\n      <td>NaN</td>\n    </tr>\n    <tr>\n      <th>...</th>\n      <td>...</td>\n      <td>...</td>\n      <td>...</td>\n      <td>...</td>\n      <td>...</td>\n      <td>...</td>\n      <td>...</td>\n      <td>...</td>\n      <td>...</td>\n      <td>...</td>\n      <td>...</td>\n      <td>...</td>\n      <td>...</td>\n      <td>...</td>\n      <td>...</td>\n      <td>...</td>\n      <td>...</td>\n      <td>...</td>\n      <td>...</td>\n      <td>...</td>\n      <td>...</td>\n    </tr>\n    <tr>\n      <th>2020-03-23</th>\n      <td>NaN</td>\n      <td>NaN</td>\n      <td>NaN</td>\n      <td>NaN</td>\n      <td>NaN</td>\n      <td>NaN</td>\n      <td>NaN</td>\n      <td>NaN</td>\n      <td>NaN</td>\n      <td>NaN</td>\n      <td>...</td>\n      <td>NaN</td>\n      <td>NaN</td>\n      <td>NaN</td>\n      <td>NaN</td>\n      <td>NaN</td>\n      <td>NaN</td>\n      <td>NaN</td>\n      <td>NaN</td>\n      <td>NaN</td>\n      <td>NaN</td>\n    </tr>\n    <tr>\n      <th>2020-03-24</th>\n      <td>NaN</td>\n      <td>NaN</td>\n      <td>NaN</td>\n      <td>NaN</td>\n      <td>NaN</td>\n      <td>NaN</td>\n      <td>NaN</td>\n      <td>NaN</td>\n      <td>NaN</td>\n      <td>NaN</td>\n      <td>...</td>\n      <td>NaN</td>\n      <td>NaN</td>\n      <td>NaN</td>\n      <td>NaN</td>\n      <td>NaN</td>\n      <td>NaN</td>\n      <td>NaN</td>\n      <td>NaN</td>\n      <td>NaN</td>\n      <td>NaN</td>\n    </tr>\n    <tr>\n      <th>2020-03-25</th>\n      <td>NaN</td>\n      <td>NaN</td>\n      <td>NaN</td>\n      <td>NaN</td>\n      <td>NaN</td>\n      <td>NaN</td>\n      <td>NaN</td>\n      <td>NaN</td>\n      <td>NaN</td>\n      <td>NaN</td>\n      <td>...</td>\n      <td>NaN</td>\n      <td>NaN</td>\n      <td>NaN</td>\n      <td>NaN</td>\n      <td>NaN</td>\n      <td>NaN</td>\n      <td>NaN</td>\n      <td>NaN</td>\n      <td>NaN</td>\n      <td>NaN</td>\n    </tr>\n    <tr>\n      <th>2020-03-26</th>\n      <td>NaN</td>\n      <td>NaN</td>\n      <td>NaN</td>\n      <td>NaN</td>\n      <td>NaN</td>\n      <td>NaN</td>\n      <td>NaN</td>\n      <td>NaN</td>\n      <td>NaN</td>\n      <td>NaN</td>\n      <td>...</td>\n      <td>NaN</td>\n      <td>NaN</td>\n      <td>NaN</td>\n      <td>NaN</td>\n      <td>NaN</td>\n      <td>NaN</td>\n      <td>NaN</td>\n      <td>NaN</td>\n      <td>NaN</td>\n      <td>NaN</td>\n    </tr>\n    <tr>\n      <th>2020-03-27</th>\n      <td>NaN</td>\n      <td>NaN</td>\n      <td>NaN</td>\n      <td>NaN</td>\n      <td>NaN</td>\n      <td>NaN</td>\n      <td>NaN</td>\n      <td>NaN</td>\n      <td>NaN</td>\n      <td>NaN</td>\n      <td>...</td>\n      <td>NaN</td>\n      <td>NaN</td>\n      <td>NaN</td>\n      <td>NaN</td>\n      <td>NaN</td>\n      <td>NaN</td>\n      <td>NaN</td>\n      <td>NaN</td>\n      <td>NaN</td>\n      <td>NaN</td>\n    </tr>\n  </tbody>\n</table>\n<p>1363 rows × 175 columns</p>\n</div>"
     },
     "metadata": {},
     "execution_count": 2
    }
   ],
   "source": [
    "trades = Trades()\n",
    "trades_df = trades.all\n",
    "\n",
    "p_dates = datehandler.date_list(trades_df.index[-1], today)  # Portfolio dates index\n",
    "\n",
    "tickers = list(sorted(set(trades_df.Ticker.to_list())))\n",
    "props = ['TradeType','TradeVolume','TradePrice','HoldingVolume','Vwap']\n",
    "\n",
    "columns = pd.MultiIndex.from_product([tickers,props], names=['Tickers','Props'])\n",
    "df_p = pd.DataFrame(None, index=pd.DatetimeIndex(p_dates), columns=columns)  # Create multiindex portfolio df\n",
    "\n",
    "# Clean index and columns\n",
    "df_p.index.name = 'Date'\n",
    "df_p = df_p.reindex(sorted(df_p.columns),axis=1)  # Sort columns\n",
    "df_p = df_p.reindex(sorted(df_p.index),axis=0)  # Sort index\n",
    "df_p"
   ]
  },
  {
   "cell_type": "code",
   "execution_count": 3,
   "metadata": {},
   "outputs": [],
   "source": [
    "dropped_cols = ['Market','Ticker','TradePrice','Brokerage']\n",
    "for ticker in tickers:\n",
    "    # Add trade dataframe values to portfolio dataframe\n",
    "    df_t = trades_df[trades_df.Ticker == ticker].copy()\n",
    "    df_t.loc[df_t['TradeType'] == 'S', 'Volume'] *= -1  # Don't worry about the warning\n",
    "    df_t = df_t.drop(columns=dropped_cols)  # Drop columns first\n",
    "    df_t = df_t.rename(columns={            # Then rename columns - due to conflicting name!\n",
    "        'Volume':'TradeVolume',\n",
    "        'EffectivePrice':'TradePrice',\n",
    "        })\n",
    "    df_p[ticker] = df_t"
   ]
  },
  {
   "cell_type": "code",
   "execution_count": 4,
   "metadata": {},
   "outputs": [
    {
     "output_type": "stream",
     "name": "stdout",
     "text": "[*********************100%***********************]  35 of 35 completed\n\n2 Failed downloads:\n- SRS.AX: No data found, symbol may be delisted\n- IBXO.AX: No data found for this date range, symbol may be delisted\n"
    }
   ],
   "source": [
    "# Lookup prices\n",
    "# Build list of tickers for yfinance\n",
    "lookup_tickers = [f'{ticker}.AX' for ticker in df_p.columns.levels[0].to_list()]\n",
    "lookup_tickers = ' '.join(lookup_tickers)\n",
    "\n",
    "prices = yf.download(lookup_tickers, start=p_dates[0], end=p_dates[-1], group_by='ticker')"
   ]
  },
  {
   "cell_type": "code",
   "execution_count": 5,
   "metadata": {},
   "outputs": [],
   "source": [
    "tickers_with_prices = []\n",
    "\n",
    "# Remove market suffix from data\n",
    "tickers_without_suffix = [ticker.replace('.AX','') for ticker in prices.columns.levels[0]]\n",
    "\n",
    "prices.columns.set_levels(tickers_without_suffix, level=0, inplace=True)"
   ]
  },
  {
   "cell_type": "code",
   "execution_count": 7,
   "metadata": {},
   "outputs": [
    {
     "output_type": "stream",
     "name": "stdout",
     "text": "ZNO | Progress 35/35"
    },
    {
     "output_type": "execute_result",
     "data": {
      "text/plain": "Props       HoldingVolume TradePrice TradeType TradeVolume       Vwap  \\\nDate                                                                    \n2016-04-27            0.0        NaN       NaN         NaN        NaN   \n2016-04-28          300.0     7.5665         B         300   7.566500   \n2016-04-29          300.0        NaN       NaN         NaN   7.566500   \n2016-05-02          300.0        NaN       NaN         NaN   7.566500   \n2016-05-03          300.0        NaN       NaN         NaN   7.566500   \n...                   ...        ...       ...         ...        ...   \n2020-03-23          213.0        NaN       NaN         NaN  10.330585   \n2020-03-24          213.0        NaN       NaN         NaN  10.330585   \n2020-03-25          213.0        NaN       NaN         NaN  10.330585   \n2020-03-26          213.0        NaN       NaN         NaN  10.330585   \n2020-03-27          213.0        NaN       NaN         NaN  10.330585   \n\nProps       ClosePrice  StockSplits  Cashflow     EndValue   StartValue  \\\nDate                                                                      \n2016-04-27    7.590000          NaN      0.00     0.000000          NaN   \n2016-04-28    7.550000          NaN   2269.95  2269.950000          NaN   \n2016-04-29    7.460000          NaN      0.00  2238.000011  2269.950000   \n2016-05-02    7.370000          NaN      0.00  2210.999966  2238.000011   \n2016-05-03    7.460000          NaN      0.00  2238.000011  2210.999966   \n...                ...          ...       ...          ...          ...   \n2020-03-23   20.040001          NaN      0.00  4268.520195  4737.119951   \n2020-03-24   22.010000          NaN      0.00  4688.130049  4268.520195   \n2020-03-25   22.280001          NaN      0.00  4745.640146  4688.130049   \n2020-03-26   22.820000          NaN      0.00  4860.659935  4745.640146   \n2020-03-27         NaN          NaN      0.00  4860.659935  4860.659935   \n\nProps       DailyReturn  CumulativeReturn  \nDate                                       \n2016-04-27          NaN               NaN  \n2016-04-28          NaN               NaN  \n2016-04-29     0.985925         -0.014075  \n2016-05-02     0.987936         -0.025970  \n2016-05-03     1.012212         -0.014075  \n...                 ...               ...  \n2020-03-23     0.901079          1.681322  \n2020-03-24     1.098303          1.944905  \n2020-03-25     1.012267          1.981031  \n2020-03-26     1.024237          2.053282  \n2020-03-27     1.000000          2.053282  \n\n[1023 rows x 12 columns]",
      "text/html": "<div>\n<style scoped>\n    .dataframe tbody tr th:only-of-type {\n        vertical-align: middle;\n    }\n\n    .dataframe tbody tr th {\n        vertical-align: top;\n    }\n\n    .dataframe thead th {\n        text-align: right;\n    }\n</style>\n<table border=\"1\" class=\"dataframe\">\n  <thead>\n    <tr style=\"text-align: right;\">\n      <th>Props</th>\n      <th>HoldingVolume</th>\n      <th>TradePrice</th>\n      <th>TradeType</th>\n      <th>TradeVolume</th>\n      <th>Vwap</th>\n      <th>ClosePrice</th>\n      <th>StockSplits</th>\n      <th>Cashflow</th>\n      <th>EndValue</th>\n      <th>StartValue</th>\n      <th>DailyReturn</th>\n      <th>CumulativeReturn</th>\n    </tr>\n    <tr>\n      <th>Date</th>\n      <th></th>\n      <th></th>\n      <th></th>\n      <th></th>\n      <th></th>\n      <th></th>\n      <th></th>\n      <th></th>\n      <th></th>\n      <th></th>\n      <th></th>\n      <th></th>\n    </tr>\n  </thead>\n  <tbody>\n    <tr>\n      <th>2016-04-27</th>\n      <td>0.0</td>\n      <td>NaN</td>\n      <td>NaN</td>\n      <td>NaN</td>\n      <td>NaN</td>\n      <td>7.590000</td>\n      <td>NaN</td>\n      <td>0.00</td>\n      <td>0.000000</td>\n      <td>NaN</td>\n      <td>NaN</td>\n      <td>NaN</td>\n    </tr>\n    <tr>\n      <th>2016-04-28</th>\n      <td>300.0</td>\n      <td>7.5665</td>\n      <td>B</td>\n      <td>300</td>\n      <td>7.566500</td>\n      <td>7.550000</td>\n      <td>NaN</td>\n      <td>2269.95</td>\n      <td>2269.950000</td>\n      <td>NaN</td>\n      <td>NaN</td>\n      <td>NaN</td>\n    </tr>\n    <tr>\n      <th>2016-04-29</th>\n      <td>300.0</td>\n      <td>NaN</td>\n      <td>NaN</td>\n      <td>NaN</td>\n      <td>7.566500</td>\n      <td>7.460000</td>\n      <td>NaN</td>\n      <td>0.00</td>\n      <td>2238.000011</td>\n      <td>2269.950000</td>\n      <td>0.985925</td>\n      <td>-0.014075</td>\n    </tr>\n    <tr>\n      <th>2016-05-02</th>\n      <td>300.0</td>\n      <td>NaN</td>\n      <td>NaN</td>\n      <td>NaN</td>\n      <td>7.566500</td>\n      <td>7.370000</td>\n      <td>NaN</td>\n      <td>0.00</td>\n      <td>2210.999966</td>\n      <td>2238.000011</td>\n      <td>0.987936</td>\n      <td>-0.025970</td>\n    </tr>\n    <tr>\n      <th>2016-05-03</th>\n      <td>300.0</td>\n      <td>NaN</td>\n      <td>NaN</td>\n      <td>NaN</td>\n      <td>7.566500</td>\n      <td>7.460000</td>\n      <td>NaN</td>\n      <td>0.00</td>\n      <td>2238.000011</td>\n      <td>2210.999966</td>\n      <td>1.012212</td>\n      <td>-0.014075</td>\n    </tr>\n    <tr>\n      <th>...</th>\n      <td>...</td>\n      <td>...</td>\n      <td>...</td>\n      <td>...</td>\n      <td>...</td>\n      <td>...</td>\n      <td>...</td>\n      <td>...</td>\n      <td>...</td>\n      <td>...</td>\n      <td>...</td>\n      <td>...</td>\n    </tr>\n    <tr>\n      <th>2020-03-23</th>\n      <td>213.0</td>\n      <td>NaN</td>\n      <td>NaN</td>\n      <td>NaN</td>\n      <td>10.330585</td>\n      <td>20.040001</td>\n      <td>NaN</td>\n      <td>0.00</td>\n      <td>4268.520195</td>\n      <td>4737.119951</td>\n      <td>0.901079</td>\n      <td>1.681322</td>\n    </tr>\n    <tr>\n      <th>2020-03-24</th>\n      <td>213.0</td>\n      <td>NaN</td>\n      <td>NaN</td>\n      <td>NaN</td>\n      <td>10.330585</td>\n      <td>22.010000</td>\n      <td>NaN</td>\n      <td>0.00</td>\n      <td>4688.130049</td>\n      <td>4268.520195</td>\n      <td>1.098303</td>\n      <td>1.944905</td>\n    </tr>\n    <tr>\n      <th>2020-03-25</th>\n      <td>213.0</td>\n      <td>NaN</td>\n      <td>NaN</td>\n      <td>NaN</td>\n      <td>10.330585</td>\n      <td>22.280001</td>\n      <td>NaN</td>\n      <td>0.00</td>\n      <td>4745.640146</td>\n      <td>4688.130049</td>\n      <td>1.012267</td>\n      <td>1.981031</td>\n    </tr>\n    <tr>\n      <th>2020-03-26</th>\n      <td>213.0</td>\n      <td>NaN</td>\n      <td>NaN</td>\n      <td>NaN</td>\n      <td>10.330585</td>\n      <td>22.820000</td>\n      <td>NaN</td>\n      <td>0.00</td>\n      <td>4860.659935</td>\n      <td>4745.640146</td>\n      <td>1.024237</td>\n      <td>2.053282</td>\n    </tr>\n    <tr>\n      <th>2020-03-27</th>\n      <td>213.0</td>\n      <td>NaN</td>\n      <td>NaN</td>\n      <td>NaN</td>\n      <td>10.330585</td>\n      <td>NaN</td>\n      <td>NaN</td>\n      <td>0.00</td>\n      <td>4860.659935</td>\n      <td>4860.659935</td>\n      <td>1.000000</td>\n      <td>2.053282</td>\n    </tr>\n  </tbody>\n</table>\n<p>1023 rows × 12 columns</p>\n</div>"
     },
     "metadata": {},
     "execution_count": 7
    }
   ],
   "source": [
    "def _build_from_trades(df):\n",
    "    df_ticker = df.copy()\n",
    "\n",
    "    df_ticker['HoldingVolume'] = df_ticker['TradeVolume'].fillna(0).cumsum()\n",
    "\n",
    "    # Vwap: BookValue / HoldingVolume\n",
    "    df_ticker.loc[df_ticker['TradeType'] == 'B','TradeEncoding'] = 1\n",
    "    df_ticker.loc[df_ticker['TradeType'] == 'S','TradeEncoding'] = 0\n",
    "    df_ticker['BuyValue'] = df_ticker['TradeVolume'] * df_ticker['TradePrice'] * df_ticker['TradeEncoding']\n",
    "    df_ticker['BuyVolume'] = df_ticker['TradeVolume'] * df_ticker['TradeEncoding']\n",
    "    df_ticker['BuyVolume'] = df_ticker['BuyVolume'].cumsum()  # Temp calc column\n",
    "    df_ticker['BuyValue'] = df_ticker['BuyValue'].cumsum()  # Temp calc column\n",
    "    df_ticker['Vwap'] = df_ticker['BuyValue'].divide(df_ticker['BuyVolume']).fillna(method='ffill')\n",
    "\n",
    "    df_ticker = df_ticker.drop(columns=['BuyVolume','BuyValue','TradeEncoding'])  # Remove temp calc columns\n",
    "    \n",
    "    return df_ticker\n",
    "\n",
    "def _stocksplits(df):\n",
    "    try:  # Dividends and stock splits\n",
    "        stock = yf.Ticker(f'{ticker}.AX')\n",
    "        df_actions = stock.actions\n",
    "    except TypeError:\n",
    "        print(f'\\rSomething went wrong!',flush=True)\n",
    "        return\n",
    "    \n",
    "    # Add stocksplits column\n",
    "    if len(df_actions[df_actions['Stock Splits'] > 0]) > 0:\n",
    "        df['StockSplits'] = df_actions['Stock Splits'].replace(0,np.nan)\n",
    "\n",
    "        # Set all dates with 0 holdings to have np.nan holdings\n",
    "        df['HoldingVolume'] = df['HoldingVolume'].replace(0,np.nan)\n",
    "\n",
    "        stocksplit_cumulative = df.loc[df['HoldingVolume'].first_valid_index():]['StockSplits'].cumprod()\n",
    "        stocksplit_cumulative = stocksplit_cumulative.fillna(method='ffill').fillna(1)\n",
    "\n",
    "\n",
    "        # Update holding volume\n",
    "        df['HoldingVolume'] *= stocksplit_cumulative\n",
    "        df['HoldingVolume'] = np.ceil(df['HoldingVolume'])\n",
    "        df['HoldingVolume'] = df['HoldingVolume'].fillna(0)  # Replace np.nan holdings with 0\n",
    "        \n",
    "        # Update vwap\n",
    "        df['Vwap'] /= stocksplit_cumulative\n",
    "\n",
    "    return df\n",
    "\n",
    "# -------Code ---------\n",
    "# Build portfolio\n",
    "for count, ticker in enumerate(df_p.columns.levels[0]):\n",
    "    print(f'\\r{ticker} | Progress {count+1}/{len(df_p.columns.levels[0])} ',end='',flush=True)\n",
    "    \n",
    "    # ==== Test\n",
    "    if ticker != 'RMD':  # For testing one ticker only\n",
    "        continue\n",
    "    # ==== Test\n",
    "\n",
    "    if ticker not in tickers_without_suffix:\n",
    "        print(f'Skipping {ticker} due to no price data...')\n",
    "        continue\n",
    "    \n",
    "    df_t = df_p[ticker]\n",
    "\n",
    "    df_t = _build_from_trades(df_t)     # Build porfolio from trades\n",
    "    df_t['ClosePrice'] = prices[ticker]['Close'].copy()  # Load prices into dataframe\n",
    "    df_t = _stocksplits(df_t)  # Update dataframe with stocksplits\n",
    "    ####################################\n",
    "    #### Dividends to be added manually  \n",
    "    ####################################\n",
    "\n",
    "    # Calculate cashflow\n",
    "    df_t['Cashflow'] = df_t['TradePrice'] * df_t['TradeVolume']\n",
    "    df_t['Cashflow'] = df_t['Cashflow'].fillna(0)\n",
    "    \n",
    "    # Calculate end value\n",
    "    df_t['EndValue'] = df_t['HoldingVolume'] * df_t['ClosePrice'].fillna(method='ffill')\n",
    "    # Any trades have the end-value reset\n",
    "    df_t.loc[df_t.TradeVolume > 0,'EndValue'] = df_t.loc[df_t.TradeVolume > 0]['Cashflow']\n",
    "    # Add trade value to previous days close\n",
    "\n",
    "    # Calculate start value\n",
    "    df_t['StartValue'] = df_t['EndValue'].shift(1).replace(0,np.nan)\n",
    "\n",
    "    # Calculate daily returns\n",
    "    df_t['DailyReturn'] = df_t['EndValue'] / (df_t['StartValue'] + df_t['Cashflow']) - 1\n",
    "    df_t['DailyReturn'] = df_t['DailyReturn'].replace(-1,np.nan) + 1  # Catch sales\n",
    "    df_t['CumulativeReturn'] = df_t['DailyReturn'].cumprod() - 1\n",
    "\n",
    "    # Drop group and re-append new df\n",
    "    df_p = df_p.drop(ticker, axis='columns', level=0)\n",
    "    for col in df_t.columns:\n",
    "        df_p[ticker,col] = df_t[col]\n",
    "\n",
    "    df_p[ticker].to_csv('test.csv')\n",
    "\n",
    "# df_p[('portfolio', 'EndValue')] = df_p.xs('EndValue', level='Props', axis=1).sum(axis=1, min_count=1)\n",
    "# df_p[('portfolio', 'StartValue')] = df_p.xs('StartValue', level='Props', axis=1).sum(axis=1, min_count=1)\n",
    "# df_p[('portfolio', 'Cashflow')] = df_p.xs('Cashflow', level='Props', axis=1).sum(axis=1, min_count=1)\n",
    "# df_p[('portfolio','DailyReturn')] = df_p[('portfolio','EndValue')]/(df_p[('portfolio','StartValue')]+df_p[('portfolio','Cashflow')]) - 1\n",
    "# df_p['portfolio', 'DailyReturn'] = df_p['portfolio', 'DailyReturn'].replace(-1,np.nan) + 1\n",
    "# df_p[('portfolio','CumulativeReturn')] = df_p[('portfolio','DailyReturn')].cumprod()\n",
    "\n",
    "# Clean columns\n",
    "# df_p = df_p.drop(['EndValue','StartValue','Cashflow'], axis='columns',level=1)\n",
    "\n",
    "df_p['RMD'].loc['2016-04-27':]"
   ]
  },
  {
   "cell_type": "code",
   "execution_count": 15,
   "metadata": {},
   "outputs": [
    {
     "data": {
      "text/html": "<div>\n<style scoped>\n    .dataframe tbody tr th:only-of-type {\n        vertical-align: middle;\n    }\n\n    .dataframe tbody tr th {\n        vertical-align: top;\n    }\n\n    .dataframe thead th {\n        text-align: right;\n    }\n</style>\n<table border=\"1\" class=\"dataframe\">\n  <thead>\n    <tr style=\"text-align: right;\">\n      <th>Props</th>\n      <th>HoldingVolume</th>\n      <th>TradePrice</th>\n      <th>TradeType</th>\n      <th>TradeVolume</th>\n      <th>Vwap</th>\n      <th>ClosePrice</th>\n      <th>Dividends</th>\n      <th>StockSplits</th>\n      <th>Cashflow</th>\n      <th>EndValue</th>\n      <th>StartValue</th>\n      <th>DailyReturn</th>\n      <th>CumulativeReturn</th>\n    </tr>\n    <tr>\n      <th>Date</th>\n      <th></th>\n      <th></th>\n      <th></th>\n      <th></th>\n      <th></th>\n      <th></th>\n      <th></th>\n      <th></th>\n      <th></th>\n      <th></th>\n      <th></th>\n      <th></th>\n      <th></th>\n    </tr>\n  </thead>\n  <tbody>\n    <tr>\n      <th>2016-04-28</th>\n      <td>300.0</td>\n      <td>7.5665</td>\n      <td>B</td>\n      <td>300</td>\n      <td>7.566500</td>\n      <td>7.55</td>\n      <td>NaN</td>\n      <td>NaN</td>\n      <td>2269.95</td>\n      <td>2269.950000</td>\n      <td>NaN</td>\n      <td>NaN</td>\n      <td>NaN</td>\n    </tr>\n    <tr>\n      <th>2018-05-15</th>\n      <td>227.0</td>\n      <td>13.423</td>\n      <td>S</td>\n      <td>-73</td>\n      <td>7.566500</td>\n      <td>13.55</td>\n      <td>NaN</td>\n      <td>NaN</td>\n      <td>-979.88</td>\n      <td>3075.850043</td>\n      <td>4070.999908</td>\n      <td>0.99506</td>\n      <td>0.784572</td>\n    </tr>\n    <tr>\n      <th>2018-06-21</th>\n      <td>0.0</td>\n      <td>14.5221</td>\n      <td>S</td>\n      <td>-227</td>\n      <td>7.566500</td>\n      <td>14.58</td>\n      <td>NaN</td>\n      <td>NaN</td>\n      <td>-3296.52</td>\n      <td>0.000000</td>\n      <td>3280.149957</td>\n      <td>NaN</td>\n      <td>NaN</td>\n    </tr>\n    <tr>\n      <th>2018-07-03</th>\n      <td>213.0</td>\n      <td>14.2237</td>\n      <td>B</td>\n      <td>213</td>\n      <td>10.330585</td>\n      <td>14.00</td>\n      <td>NaN</td>\n      <td>NaN</td>\n      <td>3029.64</td>\n      <td>3029.640000</td>\n      <td>NaN</td>\n      <td>NaN</td>\n      <td>NaN</td>\n    </tr>\n  </tbody>\n</table>\n</div>",
      "text/plain": "Props       HoldingVolume TradePrice TradeType TradeVolume       Vwap  \\\nDate                                                                    \n2016-04-28          300.0     7.5665         B         300   7.566500   \n2018-05-15          227.0     13.423         S         -73   7.566500   \n2018-06-21            0.0    14.5221         S        -227   7.566500   \n2018-07-03          213.0    14.2237         B         213  10.330585   \n\nProps       ClosePrice  Dividends  StockSplits  Cashflow     EndValue  \\\nDate                                                                    \n2016-04-28        7.55        NaN          NaN   2269.95  2269.950000   \n2018-05-15       13.55        NaN          NaN   -979.88  3075.850043   \n2018-06-21       14.58        NaN          NaN  -3296.52     0.000000   \n2018-07-03       14.00        NaN          NaN   3029.64  3029.640000   \n\nProps        StartValue  DailyReturn  CumulativeReturn  \nDate                                                    \n2016-04-28          NaN          NaN               NaN  \n2018-05-15  4070.999908      0.99506          0.784572  \n2018-06-21  3280.149957          NaN               NaN  \n2018-07-03          NaN          NaN               NaN  "
     },
     "execution_count": 15,
     "metadata": {},
     "output_type": "execute_result"
    }
   ],
   "source": [
    "df_p['RMD'].loc[df_p['RMD'].TradeVolume.isna() == False]"
   ]
  },
  {
   "cell_type": "code",
   "execution_count": null,
   "metadata": {},
   "outputs": [],
   "source": []
  }
 ]
}